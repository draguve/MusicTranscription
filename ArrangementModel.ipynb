{
 "cells": [
  {
   "cell_type": "code",
   "execution_count": 1,
   "metadata": {
    "collapsed": true
   },
   "outputs": [
    {
     "name": "stderr",
     "output_type": "stream",
     "text": [
      "Global seed set to 42\n"
     ]
    },
    {
     "name": "stdout",
     "output_type": "stream",
     "text": [
      "Cuda : True\n"
     ]
    },
    {
     "data": {
      "text/plain": "42"
     },
     "execution_count": 1,
     "metadata": {},
     "output_type": "execute_result"
    }
   ],
   "source": [
    "from TranscriptionDataset.ArrangementDataset import ArrangementDataModule\n",
    "from TranscriptionModel.Tuning import TuningModel\n",
    "from pytorch_lightning import Trainer,seed_everything\n",
    "import torch\n",
    "import matplotlib.pyplot as plt\n",
    "\n",
    "plt.rcParams['figure.figsize'] = [12, 8]\n",
    "print(f\"Cuda : {torch.cuda.is_available()}\")\n",
    "torch.set_float32_matmul_precision('medium')\n",
    "\n",
    "seed_everything(42, workers=True)"
   ]
  },
  {
   "cell_type": "code",
   "execution_count": 2,
   "outputs": [],
   "source": [
    "SAMPLE_RATE = 16000\n",
    "dataset = \"Trainsets/massive_test2.hdf5\""
   ],
   "metadata": {
    "collapsed": false
   }
  },
  {
   "cell_type": "code",
   "execution_count": 3,
   "outputs": [
    {
     "name": "stderr",
     "output_type": "stream",
     "text": [
      "Creating OneHotEncodings: 100%|██████████| 2036/2036 [00:01<00:00, 1347.41it/s]\n"
     ]
    }
   ],
   "source": [
    "data_module = ArrangementDataModule(\n",
    "    location=dataset,\n",
    "    sample_rate=SAMPLE_RATE,\n",
    "    test_size=0.1,\n",
    "    num_workers=4,\n",
    "    batch_size=16,\n",
    ")"
   ],
   "metadata": {
    "collapsed": false
   }
  },
  {
   "cell_type": "code",
   "execution_count": 4,
   "outputs": [],
   "source": [
    "model = TuningModel(\n",
    "        tuning_size=data_module.transform.tuning_output_size,\n",
    "        capo_size=data_module.transform.capo_output_size,\n",
    "        arrangement_size=data_module.transform.arrangement_output_size\n",
    ")"
   ],
   "metadata": {
    "collapsed": false
   }
  },
  {
   "cell_type": "code",
   "execution_count": 5,
   "outputs": [
    {
     "name": "stderr",
     "output_type": "stream",
     "text": [
      "GPU available: True (cuda), used: True\n",
      "TPU available: False, using: 0 TPU cores\n",
      "IPU available: False, using: 0 IPUs\n",
      "HPU available: False, using: 0 HPUs\n",
      "LOCAL_RANK: 0 - CUDA_VISIBLE_DEVICES: [0]\n",
      "\n",
      "   | Name          | Type        | Params\n",
      "-----------------------------------------------\n",
      "0  | conv1         | Conv1d      | 5.6 K \n",
      "1  | bn1           | BatchNorm1d | 70    \n",
      "2  | pool1         | MaxPool1d   | 0     \n",
      "3  | conv2         | Conv1d      | 3.7 K \n",
      "4  | bn2           | BatchNorm1d | 70    \n",
      "5  | pool2         | MaxPool1d   | 0     \n",
      "6  | conv3         | Conv1d      | 7.4 K \n",
      "7  | bn3           | BatchNorm1d | 140   \n",
      "8  | pool3         | MaxPool1d   | 0     \n",
      "9  | conv4         | Conv1d      | 14.8 K\n",
      "10 | bn4           | BatchNorm1d | 140   \n",
      "11 | pool4         | MaxPool1d   | 0     \n",
      "12 | fcArrangement | Linear      | 852   \n",
      "-----------------------------------------------\n",
      "32.8 K    Trainable params\n",
      "0         Non-trainable params\n",
      "32.8 K    Total params\n",
      "0.131     Total estimated model params size (MB)\n"
     ]
    },
    {
     "data": {
      "text/plain": "Sanity Checking: 0it [00:00, ?it/s]",
      "application/vnd.jupyter.widget-view+json": {
       "version_major": 2,
       "version_minor": 0,
       "model_id": "03b80c93fb6e43c08e99a7d0b8e86698"
      }
     },
     "metadata": {},
     "output_type": "display_data"
    },
    {
     "data": {
      "text/plain": "Training: 0it [00:00, ?it/s]",
      "application/vnd.jupyter.widget-view+json": {
       "version_major": 2,
       "version_minor": 0,
       "model_id": "e3be615fa9c34e698289d33743913635"
      }
     },
     "metadata": {},
     "output_type": "display_data"
    },
    {
     "data": {
      "text/plain": "Validation: 0it [00:00, ?it/s]",
      "application/vnd.jupyter.widget-view+json": {
       "version_major": 2,
       "version_minor": 0,
       "model_id": "321a06b5deb34198be7b376d34dda5a4"
      }
     },
     "metadata": {},
     "output_type": "display_data"
    },
    {
     "name": "stderr",
     "output_type": "stream",
     "text": [
      "C:\\Users\\ritwi\\anaconda3\\envs\\music\\lib\\site-packages\\pytorch_lightning\\trainer\\call.py:48: UserWarning: Detected KeyboardInterrupt, attempting graceful shutdown...\n",
      "  rank_zero_warn(\"Detected KeyboardInterrupt, attempting graceful shutdown...\")\n"
     ]
    }
   ],
   "source": [
    "# train\n",
    "trainer = Trainer(accelerator=\"gpu\",\n",
    "                  devices=1,\n",
    "                  max_epochs=5\n",
    "                  )\n",
    "# trainer = Trainer()\n",
    "trainer.fit(model, data_module)"
   ],
   "metadata": {
    "collapsed": false
   }
  },
  {
   "cell_type": "code",
   "execution_count": null,
   "outputs": [],
   "source": [],
   "metadata": {
    "collapsed": false
   }
  }
 ],
 "metadata": {
  "kernelspec": {
   "display_name": "Python 3",
   "language": "python",
   "name": "python3"
  },
  "language_info": {
   "codemirror_mode": {
    "name": "ipython",
    "version": 2
   },
   "file_extension": ".py",
   "mimetype": "text/x-python",
   "name": "python",
   "nbconvert_exporter": "python",
   "pygments_lexer": "ipython2",
   "version": "2.7.6"
  }
 },
 "nbformat": 4,
 "nbformat_minor": 0
}
