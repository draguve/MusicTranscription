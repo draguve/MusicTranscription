{
 "cells": [
  {
   "cell_type": "code",
   "execution_count": 1,
   "metadata": {},
   "outputs": [
    {
     "name": "stderr",
     "output_type": "stream",
     "text": [
      "Global seed set to 42\n"
     ]
    },
    {
     "name": "stdout",
     "output_type": "stream",
     "text": [
      "Cuda : True\n"
     ]
    },
    {
     "data": {
      "text/plain": [
       "42"
      ]
     },
     "execution_count": 1,
     "metadata": {},
     "output_type": "execute_result"
    }
   ],
   "source": [
    "from TranscriptionDataset.ArrangementDataset import ArrangementDataModule\n",
    "from TranscriptionModel.ArrangementModel import ArrangementModel\n",
    "from pytorch_lightning import Trainer,seed_everything\n",
    "import torch\n",
    "import matplotlib.pyplot as plt\n",
    "from pytorch_lightning.loggers import WandbLogger\n",
    "import os\n",
    "\n",
    "plt.rcParams['figure.figsize'] = [12, 8]\n",
    "print(f\"Cuda : {torch.cuda.is_available()}\")\n",
    "torch.set_float32_matmul_precision('medium')\n",
    "\n",
    "seed_everything(42, workers=True)\n",
    "# os.environ['WANDB_MODE'] = 'offline'"
   ]
  },
  {
   "cell_type": "code",
   "execution_count": 2,
   "metadata": {},
   "outputs": [],
   "source": [
    "SAMPLE_RATE = 16000\n",
    "dataset = \"Trainsets/massive_test2.hdf5\""
   ]
  },
  {
   "cell_type": "code",
   "execution_count": 3,
   "metadata": {},
   "outputs": [
    {
     "name": "stderr",
     "output_type": "stream",
     "text": [
      "Creating OneHotEncodings: 100%|███████████████████████████████████████████████████| 2036/2036 [00:02<00:00, 835.85it/s]\n"
     ]
    }
   ],
   "source": [
    "data_module = ArrangementDataModule(\n",
    "    location=dataset,\n",
    "    sample_rate=SAMPLE_RATE,\n",
    "    val_size=0.1,\n",
    "    num_workers=14,\n",
    "    batch_size=4,\n",
    ")"
   ]
  },
  {
   "cell_type": "code",
   "execution_count": 4,
   "metadata": {},
   "outputs": [],
   "source": [
    "model = ArrangementModel(\n",
    "    tuning_size=data_module.transform.tuning_output_size,\n",
    "    capo_size=data_module.transform.capo_output_size,\n",
    "    arrangement_size=data_module.transform.arrangement_output_size\n",
    ")"
   ]
  },
  {
   "cell_type": "code",
   "execution_count": 5,
   "metadata": {
    "pycharm": {
     "is_executing": true
    }
   },
   "outputs": [
    {
     "name": "stderr",
     "output_type": "stream",
     "text": [
      "\u001b[34m\u001b[1mwandb\u001b[0m: Currently logged in as: \u001b[33mdraguve\u001b[0m. Use \u001b[1m`wandb login --relogin`\u001b[0m to force relogin\n"
     ]
    },
    {
     "data": {
      "application/vnd.jupyter.widget-view+json": {
       "model_id": "0fdbf92a2eae49f5825fac73e1b87c55",
       "version_major": 2,
       "version_minor": 0
      },
      "text/plain": [
       "VBox(children=(Label(value='Waiting for wandb.init()...\\r'), FloatProgress(value=0.016666666666666666, max=1.0…"
      ]
     },
     "metadata": {},
     "output_type": "display_data"
    },
    {
     "data": {
      "text/html": [
       "wandb version 0.13.10 is available!  To upgrade, please run:\n",
       " $ pip install wandb --upgrade"
      ],
      "text/plain": [
       "<IPython.core.display.HTML object>"
      ]
     },
     "metadata": {},
     "output_type": "display_data"
    },
    {
     "data": {
      "text/html": [
       "Tracking run with wandb version 0.13.9"
      ],
      "text/plain": [
       "<IPython.core.display.HTML object>"
      ]
     },
     "metadata": {},
     "output_type": "display_data"
    },
    {
     "data": {
      "text/html": [
       "Run data is saved locally in <code>.\\wandb\\run-20230228_005300-kwbp4xxw</code>"
      ],
      "text/plain": [
       "<IPython.core.display.HTML object>"
      ]
     },
     "metadata": {},
     "output_type": "display_data"
    },
    {
     "data": {
      "text/html": [
       "Syncing run <strong><a href=\"https://wandb.ai/draguve/ArrangementModel/runs/kwbp4xxw\" target=\"_blank\">fancy-spaceship-32</a></strong> to <a href=\"https://wandb.ai/draguve/ArrangementModel\" target=\"_blank\">Weights & Biases</a> (<a href=\"https://wandb.me/run\" target=\"_blank\">docs</a>)<br/>"
      ],
      "text/plain": [
       "<IPython.core.display.HTML object>"
      ]
     },
     "metadata": {},
     "output_type": "display_data"
    },
    {
     "data": {
      "text/html": [
       " View project at <a href=\"https://wandb.ai/draguve/ArrangementModel\" target=\"_blank\">https://wandb.ai/draguve/ArrangementModel</a>"
      ],
      "text/plain": [
       "<IPython.core.display.HTML object>"
      ]
     },
     "metadata": {},
     "output_type": "display_data"
    },
    {
     "data": {
      "text/html": [
       " View run at <a href=\"https://wandb.ai/draguve/ArrangementModel/runs/kwbp4xxw\" target=\"_blank\">https://wandb.ai/draguve/ArrangementModel/runs/kwbp4xxw</a>"
      ],
      "text/plain": [
       "<IPython.core.display.HTML object>"
      ]
     },
     "metadata": {},
     "output_type": "display_data"
    },
    {
     "name": "stderr",
     "output_type": "stream",
     "text": [
      "GPU available: True (cuda), used: True\n",
      "TPU available: False, using: 0 TPU cores\n",
      "IPU available: False, using: 0 IPUs\n",
      "HPU available: False, using: 0 HPUs\n",
      "LOCAL_RANK: 0 - CUDA_VISIBLE_DEVICES: [0]\n",
      "\n",
      "   | Name          | Type        | Params\n",
      "-----------------------------------------------\n",
      "0  | conv1         | Conv1d      | 5.6 K \n",
      "1  | bn1           | BatchNorm1d | 70    \n",
      "2  | pool1         | MaxPool1d   | 0     \n",
      "3  | conv2         | Conv1d      | 3.7 K \n",
      "4  | bn2           | BatchNorm1d | 70    \n",
      "5  | pool2         | MaxPool1d   | 0     \n",
      "6  | conv3         | Conv1d      | 7.4 K \n",
      "7  | bn3           | BatchNorm1d | 140   \n",
      "8  | pool3         | MaxPool1d   | 0     \n",
      "9  | conv4         | Conv1d      | 14.8 K\n",
      "10 | bn4           | BatchNorm1d | 140   \n",
      "11 | pool4         | MaxPool1d   | 0     \n",
      "12 | fcArrangement | Linear      | 852   \n",
      "-----------------------------------------------\n",
      "32.8 K    Trainable params\n",
      "0         Non-trainable params\n",
      "32.8 K    Total params\n",
      "0.131     Total estimated model params size (MB)\n"
     ]
    },
    {
     "data": {
      "application/vnd.jupyter.widget-view+json": {
       "model_id": "",
       "version_major": 2,
       "version_minor": 0
      },
      "text/plain": [
       "Sanity Checking: 0it [00:00, ?it/s]"
      ]
     },
     "metadata": {},
     "output_type": "display_data"
    },
    {
     "data": {
      "application/vnd.jupyter.widget-view+json": {
       "model_id": "6deea6fe29f0447c8a9a94b46e5c499a",
       "version_major": 2,
       "version_minor": 0
      },
      "text/plain": [
       "Training: 0it [00:00, ?it/s]"
      ]
     },
     "metadata": {},
     "output_type": "display_data"
    },
    {
     "name": "stderr",
     "output_type": "stream",
     "text": [
      "C:\\Users\\ritwi\\anaconda3\\envs\\music\\lib\\site-packages\\pytorch_lightning\\trainer\\call.py:48: UserWarning: Detected KeyboardInterrupt, attempting graceful shutdown...\n",
      "  rank_zero_warn(\"Detected KeyboardInterrupt, attempting graceful shutdown...\")\n"
     ]
    }
   ],
   "source": [
    "# train\n",
    "wandb_logger = WandbLogger(\n",
    "    project=\"ArrangementModel\"\n",
    ")\n",
    "trainer = Trainer(\n",
    "    # profiler=\"simple\",\n",
    "    default_root_dir=\"model_weights/\",\n",
    "    accelerator=\"gpu\",\n",
    "    devices=-1,\n",
    "    max_epochs=4,\n",
    "    logger=wandb_logger\n",
    ")\n",
    "# trainer = Trainer()\n",
    "trainer.fit(model, data_module)\n",
    "# wandb_logger.finish()"
   ]
  },
  {
   "cell_type": "code",
   "execution_count": null,
   "metadata": {},
   "outputs": [],
   "source": []
  }
 ],
 "metadata": {
  "kernelspec": {
   "display_name": "Python 3 (ipykernel)",
   "language": "python",
   "name": "python3"
  },
  "language_info": {
   "codemirror_mode": {
    "name": "ipython",
    "version": 3
   },
   "file_extension": ".py",
   "mimetype": "text/x-python",
   "name": "python",
   "nbconvert_exporter": "python",
   "pygments_lexer": "ipython3",
   "version": "3.10.9"
  }
 },
 "nbformat": 4,
 "nbformat_minor": 1
}
