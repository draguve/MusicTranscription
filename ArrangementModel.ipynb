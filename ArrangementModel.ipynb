{
 "cells": [
  {
   "cell_type": "code",
   "execution_count": 1,
   "metadata": {},
   "outputs": [
    {
     "name": "stderr",
     "output_type": "stream",
     "text": [
      "Global seed set to 42\n"
     ]
    },
    {
     "name": "stdout",
     "output_type": "stream",
     "text": [
      "Cuda : True\n"
     ]
    },
    {
     "data": {
      "text/plain": [
       "42"
      ]
     },
     "execution_count": 1,
     "metadata": {},
     "output_type": "execute_result"
    }
   ],
   "source": [
    "from TranscriptionDataset.ArrangementDataset import ArrangementDataModule\n",
    "from TranscriptionModel.ArrangementModel import ArrangementModel\n",
    "from pytorch_lightning import Trainer,seed_everything\n",
    "import torch\n",
    "import matplotlib.pyplot as plt\n",
    "from pytorch_lightning.loggers import WandbLogger\n",
    "import numpy as np\n",
    "import os\n",
    "from tqdm import tqdm\n",
    "\n",
    "plt.rcParams['figure.figsize'] = [12, 8]\n",
    "print(f\"Cuda : {torch.cuda.is_available()}\")\n",
    "torch.set_float32_matmul_precision('medium')\n",
    "\n",
    "seed_everything(42, workers=True)\n",
    "# os.environ['WANDB_MODE'] = 'offline'"
   ]
  },
  {
   "cell_type": "code",
   "execution_count": 2,
   "metadata": {},
   "outputs": [],
   "source": [
    "SAMPLE_RATE = 16000\n",
    "dataset = \"Trainsets/massive.hdf5\""
   ]
  },
  {
   "cell_type": "code",
   "execution_count": 3,
   "metadata": {},
   "outputs": [],
   "source": [
    "data_module = ArrangementDataModule(\n",
    "    location=dataset,\n",
    "    sample_rate=SAMPLE_RATE,\n",
    "    val_size=0.1,\n",
    "    num_workers=10,\n",
    "    batch_size=4,\n",
    "    disableOhe=True\n",
    ")"
   ]
  },
  {
   "cell_type": "code",
   "execution_count": 4,
   "metadata": {},
   "outputs": [
    {
     "name": "stderr",
     "output_type": "stream",
     "text": [
      "Iterating: 100%|███████████████████████████████████████████████████████████████| 82766/82766 [00:53<00:00, 1544.39it/s]\n"
     ]
    },
    {
     "data": {
      "text/plain": [
       "array([0.00000000e+00, 3.66532629e-01, 0.00000000e+00, 3.25338050e+00,\n",
       "       0.00000000e+00, 0.00000000e+00, 0.00000000e+00, 8.21091270e+01,\n",
       "       2.70406430e+00, 1.06886416e-01, 0.00000000e+00, 6.52893475e-01,\n",
       "       0.00000000e+00, 1.72429167e+03, 0.00000000e+00, 1.50374273e+01,\n",
       "       0.00000000e+00, 0.00000000e+00, 0.00000000e+00, 0.00000000e+00,\n",
       "       0.00000000e+00, 0.00000000e+00, 0.00000000e+00, 0.00000000e+00,\n",
       "       1.39807432e+01, 1.00191265e+00, 0.00000000e+00, 1.96239568e+00,\n",
       "       0.00000000e+00, 0.00000000e+00, 0.00000000e+00, 6.89716667e+01,\n",
       "       0.00000000e+00, 0.00000000e+00, 0.00000000e+00, 0.00000000e+00,\n",
       "       0.00000000e+00, 0.00000000e+00, 0.00000000e+00, 0.00000000e+00,\n",
       "       0.00000000e+00, 1.72429167e+03, 0.00000000e+00, 0.00000000e+00,\n",
       "       0.00000000e+00, 0.00000000e+00, 0.00000000e+00, 0.00000000e+00,\n",
       "       0.00000000e+00, 0.00000000e+00, 0.00000000e+00, 0.00000000e+00,\n",
       "       0.00000000e+00, 0.00000000e+00, 0.00000000e+00, 0.00000000e+00,\n",
       "       1.72429167e+02, 4.97391827e+01, 0.00000000e+00, 1.29321875e+02])"
      ]
     },
     "execution_count": 4,
     "metadata": {},
     "output_type": "execute_result"
    }
   ],
   "source": [
    "import json\n",
    "import h5py\n",
    "from TUtils import ArrangementUtils\n",
    "import numpy as np\n",
    "import tqdm\n",
    "\n",
    "h5file = h5py.File(dataset, \"r\")\n",
    "songsGroup = h5file[\"Songs\"]\n",
    "data = list(json.loads(songsGroup.attrs[\"index\"]).values())\n",
    "arrangements = np.array([0])\n",
    "for item in tqdm.tqdm(data, desc=\"Iterating\"):\n",
    "    songGroup = h5file[f\"/Songs/{item['group']}\"]\n",
    "    thisArrangement = [int(ArrangementUtils.arrangementIndex[arr]) + 3 for arr in songGroup.attrs[\"allArrangements\"]]\n",
    "    arrangement = np.zeros(6,dtype=bool)\n",
    "    arrangement[thisArrangement] = True\n",
    "#     print(arrangement,np.packbits(arrangement,bitorder=\"little\"))\n",
    "    arrangements = np.vstack((arrangements,np.packbits(arrangement,bitorder=\"little\")))\n",
    "arrangements = arrangements[1:]\n",
    "ids,counts = np.unique(arrangements,return_counts=True)\n",
    "total_number_of_classes = len(ids)\n",
    "total_number_of_observations = np.sum(counts)\n",
    "arrangementIndex = np.zeros(np.max(ids)+1)\n",
    "class_weights = np.zeros(np.max(ids)+1)\n",
    "ids,locations = np.unique(arrangements,return_counts=True)\n",
    "for i in range(0,len(ids)):\n",
    "    arrangementIndex[ids[i]] = counts[i]\n",
    "    class_weights[ids[i]] = total_number_of_observations/(total_number_of_classes*counts[i])\n",
    "# print(arrangementIndex.astype(int))\n",
    "class_weights"
   ]
  },
  {
   "cell_type": "code",
   "execution_count": 5,
   "metadata": {},
   "outputs": [],
   "source": [
    "model = ArrangementModel(\n",
    "    arrangement_size=6,\n",
    "    class_weight_index=class_weights\n",
    ")"
   ]
  },
  {
   "cell_type": "code",
   "execution_count": 6,
   "metadata": {},
   "outputs": [
    {
     "name": "stderr",
     "output_type": "stream",
     "text": [
      "\u001B[34m\u001B[1mwandb\u001B[0m: Currently logged in as: \u001B[33mdraguve\u001B[0m. Use \u001B[1m`wandb login --relogin`\u001B[0m to force relogin\n"
     ]
    },
    {
     "data": {
      "application/vnd.jupyter.widget-view+json": {
       "model_id": "fe1b86cba6fc4c17bd49457f6a3c8636",
       "version_major": 2,
       "version_minor": 0
      },
      "text/plain": [
       "VBox(children=(Label(value='Waiting for wandb.init()...\\r'), FloatProgress(value=0.01693333333435779, max=1.0)…"
      ]
     },
     "metadata": {},
     "output_type": "display_data"
    },
    {
     "data": {
      "text/html": [
       "wandb version 0.14.0 is available!  To upgrade, please run:\n",
       " $ pip install wandb --upgrade"
      ],
      "text/plain": [
       "<IPython.core.display.HTML object>"
      ]
     },
     "metadata": {},
     "output_type": "display_data"
    },
    {
     "data": {
      "text/html": [
       "Tracking run with wandb version 0.13.9"
      ],
      "text/plain": [
       "<IPython.core.display.HTML object>"
      ]
     },
     "metadata": {},
     "output_type": "display_data"
    },
    {
     "data": {
      "text/html": [
       "Run data is saved locally in <code>.\\wandb\\run-20230322_135225-0cf0d2ov</code>"
      ],
      "text/plain": [
       "<IPython.core.display.HTML object>"
      ]
     },
     "metadata": {},
     "output_type": "display_data"
    },
    {
     "data": {
      "text/html": [
       "Syncing run <strong><a href=\"https://wandb.ai/draguve/ArrangementModelMSE/runs/0cf0d2ov\" target=\"_blank\">feasible-smoke-19</a></strong> to <a href=\"https://wandb.ai/draguve/ArrangementModelMSE\" target=\"_blank\">Weights & Biases</a> (<a href=\"https://wandb.me/run\" target=\"_blank\">docs</a>)<br/>"
      ],
      "text/plain": [
       "<IPython.core.display.HTML object>"
      ]
     },
     "metadata": {},
     "output_type": "display_data"
    },
    {
     "data": {
      "text/html": [
       " View project at <a href=\"https://wandb.ai/draguve/ArrangementModelMSE\" target=\"_blank\">https://wandb.ai/draguve/ArrangementModelMSE</a>"
      ],
      "text/plain": [
       "<IPython.core.display.HTML object>"
      ]
     },
     "metadata": {},
     "output_type": "display_data"
    },
    {
     "data": {
      "text/html": [
       " View run at <a href=\"https://wandb.ai/draguve/ArrangementModelMSE/runs/0cf0d2ov\" target=\"_blank\">https://wandb.ai/draguve/ArrangementModelMSE/runs/0cf0d2ov</a>"
      ],
      "text/plain": [
       "<IPython.core.display.HTML object>"
      ]
     },
     "metadata": {},
     "output_type": "display_data"
    },
    {
     "name": "stderr",
     "output_type": "stream",
     "text": [
      "GPU available: True (cuda), used: True\n",
      "TPU available: False, using: 0 TPU cores\n",
      "IPU available: False, using: 0 IPUs\n",
      "HPU available: False, using: 0 HPUs\n"
     ]
    }
   ],
   "source": [
    "# train\n",
    "wandb_logger = WandbLogger(\n",
    "    project=\"ArrangementModelMSE\"\n",
    ")\n",
    "trainer = Trainer(\n",
    "    # profiler=\"simple\",\n",
    "    default_root_dir=\"model_weights/\",\n",
    "    accelerator=\"gpu\",\n",
    "    devices=-1,\n",
    "    max_epochs=10,\n",
    "    logger=wandb_logger\n",
    ")"
   ]
  },
  {
   "cell_type": "code",
   "execution_count": 7,
   "metadata": {},
   "outputs": [
    {
     "name": "stderr",
     "output_type": "stream",
     "text": [
      "LOCAL_RANK: 0 - CUDA_VISIBLE_DEVICES: [0]\n",
      "\n",
      "   | Name          | Type             | Params\n",
      "----------------------------------------------------\n",
      "0  | lossFunction  | Weighted_MSELoss | 0     \n",
      "1  | conv1         | Conv1d           | 5.6 K \n",
      "2  | bn1           | BatchNorm1d      | 70    \n",
      "3  | pool1         | MaxPool1d        | 0     \n",
      "4  | conv2         | Conv1d           | 3.7 K \n",
      "5  | bn2           | BatchNorm1d      | 70    \n",
      "6  | pool2         | MaxPool1d        | 0     \n",
      "7  | conv3         | Conv1d           | 7.4 K \n",
      "8  | bn3           | BatchNorm1d      | 140   \n",
      "9  | pool3         | MaxPool1d        | 0     \n",
      "10 | conv4         | Conv1d           | 14.8 K\n",
      "11 | bn4           | BatchNorm1d      | 140   \n",
      "12 | pool4         | MaxPool1d        | 0     \n",
      "13 | flattener     | Flatten          | 0     \n",
      "14 | fcArrangement | Linear           | 16.3 M\n",
      "15 | linear2       | Linear           | 100 K \n",
      "16 | linear3       | Linear           | 606   \n",
      "17 | sigmoid       | Sigmoid          | 0     \n",
      "----------------------------------------------------\n",
      "16.4 M    Trainable params\n",
      "0         Non-trainable params\n",
      "16.4 M    Total params\n",
      "65.775    Total estimated model params size (MB)\n"
     ]
    },
    {
     "data": {
      "application/vnd.jupyter.widget-view+json": {
       "model_id": "",
       "version_major": 2,
       "version_minor": 0
      },
      "text/plain": [
       "Sanity Checking: 0it [00:00, ?it/s]"
      ]
     },
     "metadata": {},
     "output_type": "display_data"
    },
    {
     "data": {
      "application/vnd.jupyter.widget-view+json": {
       "model_id": "4f9317b2229a417bb7a769081b8a83b4",
       "version_major": 2,
       "version_minor": 0
      },
      "text/plain": [
       "Training: 0it [00:00, ?it/s]"
      ]
     },
     "metadata": {},
     "output_type": "display_data"
    },
    {
     "name": "stderr",
     "output_type": "stream",
     "text": [
      "C:\\Users\\ritwi\\anaconda3\\envs\\music\\lib\\site-packages\\pytorch_lightning\\trainer\\call.py:48: UserWarning: Detected KeyboardInterrupt, attempting graceful shutdown...\n",
      "  rank_zero_warn(\"Detected KeyboardInterrupt, attempting graceful shutdown...\")\n"
     ]
    }
   ],
   "source": [
    "trainer.fit(model, data_module)"
   ]
  },
  {
   "cell_type": "code",
   "execution_count": null,
   "metadata": {},
   "outputs": [],
   "source": [
    "trainer.save_checkpoint(r\"C:\\Users\\ritwi\\Github\\MusicTranscription\\model_weights\\ArrangementModel_Mini_60s_10epoch_over.ckpt\")"
   ]
  },
  {
   "cell_type": "code",
   "execution_count": null,
   "metadata": {},
   "outputs": [],
   "source": [
    "model = model.load_from_checkpoint(r\"C:\\Users\\ritwi\\Github\\MusicTranscription\\model_weights\\ArrangementModel_Mini_60s_10epoch_over.ckpt\")\n",
    "model.eval()\n",
    "data_module.setup(\"\")\n",
    "dataloader = data_module.val_dataloader()\n",
    "expected = np.array([[0]*6])\n",
    "model_output = np.array([[0]*6])\n",
    "for batch in tqdm(enumerate(iter(dataloader))):\n",
    "    section, tuning, arrangement = batch[1]\n",
    "    output = model(section).squeeze(1).cpu().detach().numpy()\n",
    "    arrangement = arrangement.cpu().detach().numpy()\n",
    "    expected = np.vstack((expected, arrangement))\n",
    "    model_output = np.vstack((model_output, output))"
   ]
  },
  {
   "cell_type": "code",
   "execution_count": null,
   "metadata": {},
   "outputs": [],
   "source": [
    "print(expected.shape)\n",
    "print(model_output.shape)\n",
    "print(np.sum(expected[:,0]))\n",
    "model_output[:,0]>0"
   ]
  }
 ],
 "metadata": {
  "kernelspec": {
   "display_name": "Python 3 (ipykernel)",
   "language": "python",
   "name": "python3"
  },
  "language_info": {
   "codemirror_mode": {
    "name": "ipython",
    "version": 3
   },
   "file_extension": ".py",
   "mimetype": "text/x-python",
   "name": "python",
   "nbconvert_exporter": "python",
   "pygments_lexer": "ipython3",
   "version": "3.10.9"
  }
 },
 "nbformat": 4,
 "nbformat_minor": 1
}
