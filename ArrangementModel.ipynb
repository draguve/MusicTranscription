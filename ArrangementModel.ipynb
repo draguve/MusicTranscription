{
 "cells": [
  {
   "cell_type": "code",
   "execution_count": null,
   "metadata": {},
   "outputs": [],
   "source": [
    "from TranscriptionDataset.ArrangementDataset import ArrangementDataModule\n",
    "from TranscriptionModel.ArrangementModel import ArrangementModel\n",
    "from pytorch_lightning import Trainer,seed_everything\n",
    "import torch\n",
    "import matplotlib.pyplot as plt\n",
    "from pytorch_lightning.loggers import WandbLogger\n",
    "import os\n",
    "\n",
    "plt.rcParams['figure.figsize'] = [12, 8]\n",
    "print(f\"Cuda : {torch.cuda.is_available()}\")\n",
    "torch.set_float32_matmul_precision('medium')\n",
    "\n",
    "seed_everything(42, workers=True)\n",
    "# os.environ['WANDB_MODE'] = 'offline'"
   ]
  },
  {
   "cell_type": "code",
   "execution_count": null,
   "metadata": {},
   "outputs": [],
   "source": [
    "SAMPLE_RATE = 16000\n",
    "dataset = \"Trainsets/massive.hdf5\""
   ]
  },
  {
   "cell_type": "code",
   "execution_count": null,
   "metadata": {},
   "outputs": [],
   "source": [
    "data_module = ArrangementDataModule(\n",
    "    location=dataset,\n",
    "    sample_rate=SAMPLE_RATE,\n",
    "    val_size=0.1,\n",
    "    num_workers=4,\n",
    "    batch_size=16,\n",
    ")"
   ]
  },
  {
   "cell_type": "code",
   "execution_count": null,
   "metadata": {},
   "outputs": [],
   "source": [
    "model = ArrangementModel(\n",
    "    tuning_size=data_module.transform.tuning_output_size,\n",
    "    capo_size=data_module.transform.capo_output_size,\n",
    "    arrangement_size=data_module.transform.arrangement_output_size\n",
    ")"
   ]
  },
  {
   "cell_type": "code",
   "execution_count": null,
   "metadata": {},
   "outputs": [],
   "source": [
    "# train\n",
    "wandb_logger = WandbLogger(\n",
    "    project=\"ArrangementModel\"\n",
    ")\n",
    "trainer = Trainer(\n",
    "    default_root_dir=\"model_weights/\",\n",
    "    accelerator=\"gpu\",\n",
    "    devices=-1,\n",
    "    max_epochs=5,\n",
    "    logger=wandb_logger\n",
    ")\n",
    "# trainer = Trainer()\n",
    "trainer.fit(model, data_module)\n",
    "# wandb_logger.finish()"
   ]
  },
  {
   "cell_type": "code",
   "execution_count": null,
   "metadata": {},
   "outputs": [],
   "source": []
  }
 ],
 "metadata": {
  "kernelspec": {
   "display_name": "Python 3 (ipykernel)",
   "language": "python",
   "name": "python3"
  },
  "language_info": {
   "codemirror_mode": {
    "name": "ipython",
    "version": 3
   },
   "file_extension": ".py",
   "mimetype": "text/x-python",
   "name": "python",
   "nbconvert_exporter": "python",
   "pygments_lexer": "ipython3",
   "version": "3.10.9"
  }
 },
 "nbformat": 4,
 "nbformat_minor": 1
}
