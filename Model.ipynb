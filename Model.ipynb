{
 "cells": [
  {
   "cell_type": "code",
   "execution_count": 40,
   "metadata": {
    "collapsed": true
   },
   "outputs": [
    {
     "name": "stdout",
     "output_type": "stream",
     "text": [
      "[PhysicalDevice(name='/physical_device:GPU:0', device_type='GPU')]\n"
     ]
    }
   ],
   "source": [
    "import bs4\n",
    "import tensorflow as tf\n",
    "from bs4 import BeautifulSoup\n",
    "import os\n",
    "from pathlib import Path\n",
    "from pprint import pprint\n",
    "\n",
    "# check if tensorflow is working correctly\n",
    "print(tf.config.list_physical_devices('GPU'))"
   ]
  },
  {
   "cell_type": "code",
   "execution_count": 41,
   "outputs": [],
   "source": [
    "def get_all_filenames():\n",
    "    data = []\n",
    "    for root, dirs, files in os.walk(\"Downloads\"):\n",
    "        for filename in files:\n",
    "            if filename.endswith(\".ogg\") and not filename.endswith(\"_preview.ogg\"):\n",
    "                dlc = {\n",
    "                    \"ogg\":os.path.join(root, filename)\n",
    "                }\n",
    "                xml_files = Path(root).glob('*.xml')\n",
    "                for xml_file in xml_files:\n",
    "                    xml_filename = Path(xml_file)\n",
    "                    dlc[xml_filename.stem.replace(\"arr_\",\"\")] = str(xml_file)\n",
    "                data.append(dlc)\n",
    "    return data"
   ],
   "metadata": {
    "collapsed": false
   }
  },
  {
   "cell_type": "code",
   "execution_count": 61,
   "outputs": [],
   "source": [
    "def atts_plus_bend_values(item: bs4.PageElement):\n",
    "    all_attrs = item.attrs\n",
    "    all_attrs[\"bendValues\"] = [bend.attrs for bend in (item.find_all(\"bendValue\"))]\n",
    "    return all_attrs\n",
    "\n",
    "def attrs_plus_chord_notes(chord: bs4.PageElement):\n",
    "    all_attrs = chord.attrs\n",
    "    all_attrs[\"chordNotes\"] = [atts_plus_bend_values(note) for note in chord.find_all(\"chordNote\")]\n",
    "    return all_attrs\n",
    "\n",
    "def parse_vocals(xml_path):\n",
    "    with open(xml_path, 'r') as f:\n",
    "        data = f.read()\n",
    "        bs_data = BeautifulSoup(data, 'xml')\n",
    "        xml_data = {\"vocal\": [item.attrs for item in bs_data.find_all(\"vocal\")]}\n",
    "        return xml_data\n",
    "\n",
    "def parse_showlights(xml_path):\n",
    "    with open(xml_path, 'r') as f:\n",
    "        data = f.read()\n",
    "        bs_data = BeautifulSoup(data, 'xml')\n",
    "        xml_data = {\"showlight\": [item.attrs for item in bs_data.find_all(\"showlight\")]}\n",
    "        return xml_data\n",
    "\n",
    "def parse_xml_file(xml_path):\n",
    "    with open(xml_path, 'r') as f:\n",
    "        data = f.read()\n",
    "        bs_data = BeautifulSoup(data, 'xml')\n",
    "        xml_data = {\"title\": bs_data.find(\"title\").string, \"tuning\": bs_data.find(\"tuning\").attrs,\n",
    "                    \"arrangement\": bs_data.find(\"arrangement\").string, \"offset\": bs_data.find(\"offset\").string,\n",
    "                    \"centOffset\": bs_data.find(\"centOffset\").string, \"songLength\": bs_data.find(\"songLength\").string,\n",
    "                    \"startBeat\": bs_data.find(\"startBeat\").string, \"averageTempo\": bs_data.find(\"averageTempo\").string,\n",
    "                    \"capo\": bs_data.find(\"startBeat\").string, \"artistName\": bs_data.find(\"artistName\").string,\n",
    "                    \"albumName\": bs_data.find(\"albumName\").string, \"albumYear\": bs_data.find(\"albumYear\").string,\n",
    "                    \"arrangementProperties\": bs_data.find(\"arrangementProperties\").attrs,\n",
    "                    \"notes\": [atts_plus_bend_values(item) for item in bs_data.find_all(\"note\")],\n",
    "                    \"chords\": [attrs_plus_chord_notes(chord) for chord in bs_data.find_all(\"chord\")],\n",
    "                    \"ebeats\": [item.attrs for item in bs_data.find_all(\"ebeat\")],\n",
    "                    \"chordTemplates\": [item.attrs for item in bs_data.find_all(\"chordTemplate\")],\n",
    "                    \"phraseIterations\": [item.attrs for item in bs_data.find_all(\"phraseIteration\")],\n",
    "                    \"sections\": [item.attrs for item in bs_data.find_all(\"section\")],\n",
    "                    \"anchors\": [item.attrs for item in bs_data.find_all(\"anchor\")],\n",
    "                    \"handShapes\": [item.attrs for item in bs_data.find_all(\"handShape\")]}\n",
    "        return xml_data"
   ],
   "metadata": {
    "collapsed": false
   }
  },
  {
   "cell_type": "code",
   "execution_count": 63,
   "outputs": [],
   "source": [
    "data = parse_xml_file(get_all_filenames()[3][\"lead\"])\n",
    "vocals = parse_vocals(get_all_filenames()[3][\"vocals\"])\n",
    "showlights = parse_showlights(get_all_filenames()[3][\"showlights\"])"
   ],
   "metadata": {
    "collapsed": false
   }
  },
  {
   "cell_type": "code",
   "execution_count": null,
   "outputs": [],
   "source": [],
   "metadata": {
    "collapsed": false
   }
  }
 ],
 "metadata": {
  "kernelspec": {
   "display_name": "Python 3",
   "language": "python",
   "name": "python3"
  },
  "language_info": {
   "codemirror_mode": {
    "name": "ipython",
    "version": 2
   },
   "file_extension": ".py",
   "mimetype": "text/x-python",
   "name": "python",
   "nbconvert_exporter": "python",
   "pygments_lexer": "ipython2",
   "version": "2.7.6"
  }
 },
 "nbformat": 4,
 "nbformat_minor": 0
}
