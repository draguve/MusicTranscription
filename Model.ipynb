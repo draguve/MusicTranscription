{
 "cells": [
  {
   "cell_type": "code",
   "execution_count": 16,
   "metadata": {
    "collapsed": true
   },
   "outputs": [
    {
     "name": "stdout",
     "output_type": "stream",
     "text": [
      "[PhysicalDevice(name='/physical_device:GPU:0', device_type='GPU')]\n"
     ]
    }
   ],
   "source": [
    "import tensorflow as tf\n",
    "from bs4 import BeautifulSoup\n",
    "import os\n",
    "from pathlib import Path\n",
    "from pprint import pprint\n",
    "\n",
    "# check if tensorflow is working correctly\n",
    "print(tf.config.list_physical_devices('GPU'))"
   ]
  },
  {
   "cell_type": "code",
   "execution_count": 20,
   "outputs": [],
   "source": [
    "def get_all_filenames():\n",
    "    data = []\n",
    "    for root, dirs, files in os.walk(\"Downloads\"):\n",
    "        for filename in files:\n",
    "            if filename.endswith(\".ogg\") and not filename.endswith(\"_preview.ogg\"):\n",
    "                dlc = {\n",
    "                    \"ogg\":os.path.join(root, filename)\n",
    "                }\n",
    "                xml_files = Path(root).glob('*.xml')\n",
    "                for xml_file in xml_files:\n",
    "                    xml_filename = Path(xml_file)\n",
    "                    dlc[xml_filename.stem.replace(\"arr_\",\"\")] = str(xml_file)\n",
    "                data.append(dlc)\n",
    "    return data"
   ],
   "metadata": {
    "collapsed": false
   }
  },
  {
   "cell_type": "code",
   "execution_count": 38,
   "outputs": [
    {
     "name": "stdout",
     "output_type": "stream",
     "text": [
      "[{'time': '4.446', 'fret': '6', 'width': '4.000'}, {'time': '4.881', 'fret': '4', 'width': '4.000'}, {'time': '5.098', 'fret': '6', 'width': '4.000'}, {'time': '5.533', 'fret': '4', 'width': '4.000'}, {'time': '5.967', 'fret': '6', 'width': '4.000'}, {'time': '6.402', 'fret': '4', 'width': '4.000'}, {'time': '6.837', 'fret': '6', 'width': '4.000'}, {'time': '7.272', 'fret': '4', 'width': '4.000'}, {'time': '7.924', 'fret': '6', 'width': '4.000'}, {'time': '8.358', 'fret': '4', 'width': '4.000'}, {'time': '8.576', 'fret': '6', 'width': '4.000'}, {'time': '9.010', 'fret': '4', 'width': '4.000'}, {'time': '9.880', 'fret': '8', 'width': '4.000'}, {'time': '10.314', 'fret': '5', 'width': '4.000'}, {'time': '10.966', 'fret': '5', 'width': '4.000'}, {'time': '11.184', 'fret': '2', 'width': '4.000'}, {'time': '12.923', 'fret': '6', 'width': '4.000'}, {'time': '14.009', 'fret': '3', 'width': '4.000'}, {'time': '14.661', 'fret': '4', 'width': '4.000'}, {'time': '19.443', 'fret': '7', 'width': '4.000'}, {'time': '19.878', 'fret': '6', 'width': '4.000'}, {'time': '20.312', 'fret': '7', 'width': '4.000'}, {'time': '20.747', 'fret': '6', 'width': '4.000'}, {'time': '21.182', 'fret': '7', 'width': '4.000'}, {'time': '21.616', 'fret': '6', 'width': '4.000'}, {'time': '22.486', 'fret': '4', 'width': '4.000'}, {'time': '23.572', 'fret': '4', 'width': '4.000'}, {'time': '24.442', 'fret': '2', 'width': '4.000'}, {'time': '24.659', 'fret': '4', 'width': '4.000'}, {'time': '26.181', 'fret': '2', 'width': '4.000'}, {'time': '26.398', 'fret': '4', 'width': '4.000'}, {'time': '27.919', 'fret': '2', 'width': '4.000'}, {'time': '28.137', 'fret': '4', 'width': '4.000'}, {'time': '29.441', 'fret': '2', 'width': '4.000'}, {'time': '30.962', 'fret': '4', 'width': '4.000'}, {'time': '31.397', 'fret': '2', 'width': '4.000'}, {'time': '31.614', 'fret': '4', 'width': '4.000'}, {'time': '33.136', 'fret': '2', 'width': '4.000'}, {'time': '33.353', 'fret': '4', 'width': '4.000'}, {'time': '34.875', 'fret': '2', 'width': '4.000'}, {'time': '35.092', 'fret': '4', 'width': '4.000'}, {'time': '36.396', 'fret': '2', 'width': '4.000'}, {'time': '37.483', 'fret': '2', 'width': '5.000'}, {'time': '37.917', 'fret': '6', 'width': '4.000'}, {'time': '38.352', 'fret': '4', 'width': '4.000'}, {'time': '39.167', 'fret': '3', 'width': '4.000'}, {'time': '39.221', 'fret': '4', 'width': '4.000'}, {'time': '40.091', 'fret': '6', 'width': '4.000'}, {'time': '41.830', 'fret': '4', 'width': '4.000'}, {'time': '43.568', 'fret': '3', 'width': '4.000'}, {'time': '44.872', 'fret': '6', 'width': '4.000'}, {'time': '45.307', 'fret': '4', 'width': '4.000'}, {'time': '46.122', 'fret': '3', 'width': '4.000'}, {'time': '46.177', 'fret': '4', 'width': '4.000'}, {'time': '46.829', 'fret': '6', 'width': '4.000'}, {'time': '47.698', 'fret': '2', 'width': '4.000'}, {'time': '48.567', 'fret': '3', 'width': '4.000'}, {'time': '49.437', 'fret': '4', 'width': '4.000'}, {'time': '50.034', 'fret': '6', 'width': '4.000'}, {'time': '50.089', 'fret': '8', 'width': '4.000'}, {'time': '50.306', 'fret': '6', 'width': '4.000'}, {'time': '50.741', 'fret': '4', 'width': '4.000'}, {'time': '51.393', 'fret': '7', 'width': '4.000'}, {'time': '53.132', 'fret': '9', 'width': '4.000'}, {'time': '54.870', 'fret': '10', 'width': '4.000'}, {'time': '56.609', 'fret': '13', 'width': '4.000'}, {'time': '57.261', 'fret': '11', 'width': '4.000'}, {'time': '58.348', 'fret': '9', 'width': '4.000'}, {'time': '59.000', 'fret': '7', 'width': '4.000'}, {'time': '60.087', 'fret': '4', 'width': '4.000'}, {'time': '61.825', 'fret': '2', 'width': '4.000'}, {'time': '65.303', 'fret': '4', 'width': '4.000'}, {'time': '70.302', 'fret': '5', 'width': '4.000'}, {'time': '73.562', 'fret': '5', 'width': '4.000'}, {'time': '73.780', 'fret': '2', 'width': '4.000'}, {'time': '75.518', 'fret': '6', 'width': '4.000'}, {'time': '76.605', 'fret': '3', 'width': '4.000'}, {'time': '77.257', 'fret': '4', 'width': '4.000'}, {'time': '84.212', 'fret': '5', 'width': '4.000'}, {'time': '87.472', 'fret': '5', 'width': '4.000'}, {'time': '87.690', 'fret': '2', 'width': '4.000'}, {'time': '89.428', 'fret': '6', 'width': '4.000'}, {'time': '90.515', 'fret': '3', 'width': '4.000'}, {'time': '91.167', 'fret': '4', 'width': '4.000'}, {'time': '95.949', 'fret': '7', 'width': '4.000'}, {'time': '96.384', 'fret': '6', 'width': '4.000'}, {'time': '96.818', 'fret': '7', 'width': '4.000'}, {'time': '97.253', 'fret': '6', 'width': '4.000'}, {'time': '97.688', 'fret': '7', 'width': '4.000'}, {'time': '98.122', 'fret': '6', 'width': '4.000'}, {'time': '98.992', 'fret': '4', 'width': '4.000'}, {'time': '100.078', 'fret': '4', 'width': '4.000'}, {'time': '100.948', 'fret': '2', 'width': '4.000'}, {'time': '101.165', 'fret': '4', 'width': '4.000'}, {'time': '102.687', 'fret': '2', 'width': '4.000'}, {'time': '102.904', 'fret': '4', 'width': '4.000'}, {'time': '104.425', 'fret': '2', 'width': '4.000'}, {'time': '104.643', 'fret': '4', 'width': '4.000'}, {'time': '105.947', 'fret': '2', 'width': '4.000'}, {'time': '107.034', 'fret': '2', 'width': '4.000'}, {'time': '113.139', 'fret': '6', 'width': '4.000'}, {'time': '113.584', 'fret': '4', 'width': '4.000'}, {'time': '114.463', 'fret': '6', 'width': '4.000'}, {'time': '114.898', 'fret': '4', 'width': '4.000'}, {'time': '115.712', 'fret': '3', 'width': '4.000'}, {'time': '115.767', 'fret': '4', 'width': '4.000'}, {'time': '116.636', 'fret': '6', 'width': '4.000'}, {'time': '117.288', 'fret': '2', 'width': '4.000'}, {'time': '118.157', 'fret': '3', 'width': '4.000'}, {'time': '119.026', 'fret': '5', 'width': '4.000'}, {'time': '119.677', 'fret': '4', 'width': '4.000'}, {'time': '119.895', 'fret': '7', 'width': '4.000'}, {'time': '120.981', 'fret': '7', 'width': '4.000'}, {'time': '122.719', 'fret': '9', 'width': '4.000'}, {'time': '124.457', 'fret': '10', 'width': '4.000'}, {'time': '126.195', 'fret': '13', 'width': '4.000'}, {'time': '126.847', 'fret': '11', 'width': '4.000'}, {'time': '127.933', 'fret': '9', 'width': '4.000'}, {'time': '128.585', 'fret': '7', 'width': '4.000'}, {'time': '129.671', 'fret': '4', 'width': '4.000'}, {'time': '131.409', 'fret': '2', 'width': '4.000'}, {'time': '134.886', 'fret': '4', 'width': '4.000'}, {'time': '139.883', 'fret': '5', 'width': '4.000'}, {'time': '143.141', 'fret': '5', 'width': '4.000'}, {'time': '143.359', 'fret': '2', 'width': '4.000'}, {'time': '145.097', 'fret': '6', 'width': '4.000'}, {'time': '146.183', 'fret': '3', 'width': '4.000'}, {'time': '146.835', 'fret': '4', 'width': '4.000'}, {'time': '153.787', 'fret': '5', 'width': '4.000'}, {'time': '157.046', 'fret': '5', 'width': '4.000'}, {'time': '157.263', 'fret': '2', 'width': '4.000'}, {'time': '159.001', 'fret': '6', 'width': '4.000'}, {'time': '160.088', 'fret': '3', 'width': '4.000'}, {'time': '160.739', 'fret': '4', 'width': '4.000'}, {'time': '165.519', 'fret': '7', 'width': '4.000'}, {'time': '165.954', 'fret': '6', 'width': '4.000'}, {'time': '166.388', 'fret': '7', 'width': '4.000'}, {'time': '166.823', 'fret': '6', 'width': '4.000'}, {'time': '167.257', 'fret': '7', 'width': '4.000'}, {'time': '167.692', 'fret': '6', 'width': '4.000'}, {'time': '168.561', 'fret': '4', 'width': '4.000'}, {'time': '169.647', 'fret': '4', 'width': '4.000'}, {'time': '176.599', 'fret': '2', 'width': '4.000'}, {'time': '187.028', 'fret': '4', 'width': '4.000'}, {'time': '190.504', 'fret': '2', 'width': '4.000'}, {'time': '193.980', 'fret': '7', 'width': '4.000'}, {'time': '197.456', 'fret': '2', 'width': '4.000'}, {'time': '200.498', 'fret': '3', 'width': '4.000'}, {'time': '200.932', 'fret': '4', 'width': '4.000'}, {'time': '204.469', 'fret': '4', 'width': '4.000'}, {'time': '209.872', 'fret': '6', 'width': '4.000'}, {'time': '212.818', 'fret': '8', 'width': '4.000'}, {'time': '213.735', 'fret': '6', 'width': '4.000'}, {'time': '216.384', 'fret': '1', 'width': '4.000'}, {'time': '217.903', 'fret': '1', 'width': '4.000'}, {'time': '218.120', 'fret': '2', 'width': '4.000'}, {'time': '221.598', 'fret': '4', 'width': '4.000'}, {'time': '222.467', 'fret': '1', 'width': '4.000'}, {'time': '226.380', 'fret': '2', 'width': '4.000'}, {'time': '226.814', 'fret': '1', 'width': '4.000'}, {'time': '227.249', 'fret': '2', 'width': '4.000'}, {'time': '227.684', 'fret': '1', 'width': '4.000'}, {'time': '228.118', 'fret': '2', 'width': '4.000'}, {'time': '228.553', 'fret': '1', 'width': '4.000'}, {'time': '231.813', 'fret': '1', 'width': '4.000'}, {'time': '234.421', 'fret': '6', 'width': '4.000'}, {'time': '234.856', 'fret': '4', 'width': '4.000'}, {'time': '235.073', 'fret': '6', 'width': '4.000'}, {'time': '236.595', 'fret': '4', 'width': '4.000'}, {'time': '236.812', 'fret': '6', 'width': '4.000'}, {'time': '238.334', 'fret': '4', 'width': '4.000'}, {'time': '238.551', 'fret': '6', 'width': '4.000'}, {'time': '239.855', 'fret': '4', 'width': '4.000'}, {'time': '241.376', 'fret': '6', 'width': '4.000'}, {'time': '241.811', 'fret': '4', 'width': '4.000'}, {'time': '242.028', 'fret': '6', 'width': '4.000'}, {'time': '243.550', 'fret': '4', 'width': '4.000'}, {'time': '243.767', 'fret': '6', 'width': '4.000'}, {'time': '245.289', 'fret': '4', 'width': '4.000'}, {'time': '245.506', 'fret': '6', 'width': '4.000'}, {'time': '246.810', 'fret': '4', 'width': '4.000'}, {'time': '247.897', 'fret': '8', 'width': '4.000'}, {'time': '248.332', 'fret': '6', 'width': '4.000'}, {'time': '248.549', 'fret': '8', 'width': '4.000'}, {'time': '248.984', 'fret': '6', 'width': '4.000'}, {'time': '249.418', 'fret': '8', 'width': '4.000'}, {'time': '249.853', 'fret': '6', 'width': '4.000'}, {'time': '250.288', 'fret': '8', 'width': '4.000'}, {'time': '253.113', 'fret': '6', 'width': '4.000'}]\n"
     ]
    }
   ],
   "source": [
    "def parse_xml_file(xml_path):\n",
    "    with open(xml_path, 'r') as f:\n",
    "        data = f.read()\n",
    "        bs_data = BeautifulSoup(data, 'xml')\n",
    "        notes = [item.attrs for item in bs_data.find_all(\"note\")]\n",
    "        ebeats = [item.attrs for item in bs_data.find_all(\"ebeat\")]\n",
    "        chordTemplates = [item.attrs for item in bs_data.find_all(\"chordTemplate\")]\n",
    "        phraseIterations = [item.attrs for item in bs_data.find_all(\"phraseIteration\")]\n",
    "        sections = [item.attrs for item in bs_data.find_all(\"section\")]\n",
    "        anchors = [item.attrs for item in bs_data.find_all(\"anchor\")]\n",
    "        handShapes = [item.attrs for item in bs_data.find_all(\"handShape\")]\n",
    "        print(anchors)\n",
    "\n",
    "\n",
    "parse_xml_file(get_all_filenames()[3][\"lead\"])\n"
   ],
   "metadata": {
    "collapsed": false
   }
  },
  {
   "cell_type": "code",
   "execution_count": null,
   "outputs": [],
   "source": [],
   "metadata": {
    "collapsed": false
   }
  }
 ],
 "metadata": {
  "kernelspec": {
   "display_name": "Python 3",
   "language": "python",
   "name": "python3"
  },
  "language_info": {
   "codemirror_mode": {
    "name": "ipython",
    "version": 2
   },
   "file_extension": ".py",
   "mimetype": "text/x-python",
   "name": "python",
   "nbconvert_exporter": "python",
   "pygments_lexer": "ipython2",
   "version": "2.7.6"
  }
 },
 "nbformat": 4,
 "nbformat_minor": 0
}
