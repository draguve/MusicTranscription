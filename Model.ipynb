{
 "cells": [
  {
   "cell_type": "code",
   "execution_count": 1,
   "metadata": {
    "collapsed": true
   },
   "outputs": [
    {
     "name": "stdout",
     "output_type": "stream",
     "text": [
      "Cuda : True\n"
     ]
    }
   ],
   "source": [
    "import torch\n",
    "from pprint import pprint\n",
    "import matplotlib.pyplot as plt\n",
    "import numpy as np\n",
    "from torch.utils.data import DataLoader\n",
    "import torchaudio\n",
    "from SongDataset import SongDataset\n",
    "from TranscriptionModel import GuitarModel\n",
    "from torch import nn\n",
    "import os\n",
    "import logging\n",
    "from timeit import default_timer as timer\n",
    "from tqdm.auto import tqdm\n",
    "from torch.utils.tensorboard import SummaryWriter\n",
    "from TUtils import random_string\n",
    "from Tokenizer import GuitarTokenizer\n",
    "from SongDataset import ArrangementUtils\n",
    "import wandb\n",
    "\n",
    "\n",
    "# check if tensorflow is working correctly\n",
    "plt.rcParams['figure.figsize'] = [12, 8]\n",
    "print(f\"Cuda : {torch.cuda.is_available()}\")\n"
   ]
  },
  {
   "cell_type": "code",
   "execution_count": 2,
   "outputs": [],
   "source": [
    "DEVICE = torch.device('cuda' if torch.cuda.is_available() else 'cpu')\n",
    "#TODO: load this from dataset file\n",
    "SAMPLE_RATE = 44100"
   ],
   "metadata": {
    "collapsed": false
   }
  },
  {
   "cell_type": "code",
   "execution_count": 3,
   "outputs": [],
   "source": [
    "from SongDataset import GuitarCollater\n",
    "\n",
    "mel_spectrogram = torchaudio.transforms.MelSpectrogram(\n",
    "    sample_rate=SAMPLE_RATE,\n",
    "    n_fft=2048,\n",
    "    hop_length=512,\n",
    "    n_mels=128\n",
    ")\n",
    "dataset = SongDataset(\"test.hdf5\", mel_spectrogram, sampleRate=SAMPLE_RATE)\n",
    "collate_fn = GuitarCollater(dataset.pad_token)"
   ],
   "metadata": {
    "collapsed": false
   }
  },
  {
   "cell_type": "code",
   "execution_count": 4,
   "outputs": [],
   "source": [
    "EMB_SIZE = 512\n",
    "NHEAD = 8\n",
    "FFN_HID_DIM = 512\n",
    "BATCH_SIZE = 16\n",
    "NUM_ENCODER_LAYERS = 3\n",
    "NUM_DECODER_LAYERS = 3\n",
    "\n",
    "epoch = 1"
   ],
   "metadata": {
    "collapsed": false
   }
  },
  {
   "cell_type": "code",
   "execution_count": 5,
   "outputs": [],
   "source": [
    "\n",
    "model = GuitarModel((BATCH_SIZE, 2, 128, 87),\n",
    "                        emb_size=EMB_SIZE,\n",
    "                        num_encoder_layers=NUM_ENCODER_LAYERS,\n",
    "                        num_decoder_layers=NUM_DECODER_LAYERS,\n",
    "                        multi_head_attention_size=NHEAD,\n",
    "                        dim_feedforward=FFN_HID_DIM,\n",
    "                        tgt_vocab_size=dataset.vocabSize)\n",
    "for p in model.parameters():\n",
    "    if p.dim() > 1:\n",
    "        nn.init.xavier_uniform_(p)\n",
    "model = model.to(DEVICE)\n",
    "\n",
    "loss_fn = torch.nn.CrossEntropyLoss(ignore_index=dataset.pad_token)\n",
    "optimizer = torch.optim.Adam(model.parameters(), lr=0.0001, betas=(0.9, 0.98), eps=1e-9)"
   ],
   "metadata": {
    "collapsed": false
   }
  },
  {
   "cell_type": "code",
   "execution_count": 6,
   "outputs": [],
   "source": [
    "class CheckpointSaver:\n",
    "    def __init__(self, dirpath, decreasing=True, top_n=5):\n",
    "        \"\"\"\n",
    "        dirpath: Directory path where to store all model weights\n",
    "        decreasing: If decreasing is `True`, then lower metric is better\n",
    "        top_n: Total number of models to track based on validation metric value\n",
    "        \"\"\"\n",
    "        if not os.path.exists(dirpath): os.makedirs(dirpath)\n",
    "        self.dirpath = dirpath\n",
    "        self.top_n = top_n\n",
    "        self.decreasing = decreasing\n",
    "        self.top_model_paths = []\n",
    "        self.best_metric_val = np.Inf if decreasing else -np.Inf\n",
    "        self.run_id = random_string()\n",
    "\n",
    "    def __call__(self, model, epoch, metric_val,optimizer,force_save=False):\n",
    "        model_path = os.path.join(self.dirpath, model.__class__.__name__ + f'_epoch{epoch}_run{self.run_id}.pt')\n",
    "        save = metric_val<self.best_metric_val if self.decreasing else metric_val>self.best_metric_val\n",
    "        if save or force_save:\n",
    "            logging.info(f\"Current metric value better than {metric_val} better than best {self.best_metric_val}, saving model at {model_path}\")\n",
    "            self.best_metric_val = metric_val\n",
    "            torch.save(model.state_dict(), model_path)\n",
    "            torch.save({\n",
    "            'epoch': epoch,\n",
    "            'model_state_dict': model.state_dict(),\n",
    "            'optimizer_state_dict': optimizer.state_dict(),\n",
    "            # 'loss': loss,\n",
    "            }, model_path)\n",
    "            self.top_model_paths.append({'path': model_path, 'score': metric_val})\n",
    "            self.top_model_paths = sorted(self.top_model_paths, key=lambda o: o['score'], reverse=not self.decreasing)\n",
    "        if len(self.top_model_paths)>self.top_n:\n",
    "            self.cleanup()\n",
    "\n",
    "    def cleanup(self):\n",
    "        to_remove = self.top_model_paths[self.top_n:]\n",
    "        logging.info(f\"Removing extra models.. {to_remove}\")\n",
    "        for o in to_remove:\n",
    "            os.remove(o['path'])\n",
    "        self.top_model_paths = self.top_model_paths[:self.top_n]\n",
    "\n",
    "def load_model(PATH):\n",
    "    global model\n",
    "    global optimizer\n",
    "    global epoch\n",
    "    checkpoint = torch.load(PATH)\n",
    "    model.load_state_dict(checkpoint['model_state_dict'])\n",
    "    optimizer.load_state_dict(checkpoint['optimizer_state_dict'])\n",
    "    epoch = checkpoint['epoch']+1\n"
   ],
   "metadata": {
    "collapsed": false
   }
  },
  {
   "cell_type": "code",
   "execution_count": 7,
   "outputs": [],
   "source": [
    "train_set, val_set = torch.utils.data.random_split(dataset, [0.9,0.1], generator=torch.Generator().manual_seed(47))"
   ],
   "metadata": {
    "collapsed": false
   }
  },
  {
   "cell_type": "code",
   "execution_count": 8,
   "outputs": [],
   "source": [
    "def train_epoch(model, optimizer, epoch):\n",
    "    model.train()\n",
    "    losses = 0\n",
    "    count = 0\n",
    "    train_dataloader = DataLoader(train_set, batch_size=BATCH_SIZE,shuffle=True,num_workers=8,collate_fn=collate_fn)\n",
    "\n",
    "    for spectrogram, tuning, tokens in (pbar := tqdm(train_dataloader,desc=f\"Epoch {epoch}\")):\n",
    "        spectrogram = spectrogram.to(DEVICE)\n",
    "        tuning = tuning.to(DEVICE)\n",
    "        tokens = tokens.to(DEVICE)\n",
    "\n",
    "        tokens_input = tokens[:, :-1]\n",
    "        tokens_expected = tokens[:, 1:]\n",
    "\n",
    "        target_mask, token_padding_mask = model.create_masks(tokens_input)\n",
    "\n",
    "        target_mask = target_mask.to(DEVICE)\n",
    "        token_padding_mask = token_padding_mask.to(DEVICE)\n",
    "\n",
    "        logits = model(spectrogram, tuning, tokens_input, target_mask, token_padding_mask)\n",
    "        logits = logits.permute(1, 2, 0)\n",
    "\n",
    "        loss = loss_fn(logits, tokens_expected)\n",
    "        optimizer.zero_grad()\n",
    "        loss.backward()\n",
    "        optimizer.step()\n",
    "        losses += loss.detach().item()\n",
    "        count+=1\n",
    "        pbar.set_postfix({\"loss\":losses/count})\n",
    "\n",
    "    return losses / len(train_dataloader)\n",
    "\n",
    "\n",
    "def evaluate(model,epoch,checkpoint_saver,optimizer):\n",
    "    model.eval()\n",
    "    losses = 0\n",
    "    count=0\n",
    "\n",
    "    val_dataloader = DataLoader(val_set, batch_size=BATCH_SIZE,shuffle=True,num_workers=8,collate_fn=collate_fn)\n",
    "    for spectrogram, tuning, tokens in (pbar := tqdm(val_dataloader,desc=f\"Eval {epoch}\")):\n",
    "        spectrogram = spectrogram.to(DEVICE)\n",
    "        tuning = tuning.to(DEVICE)\n",
    "        tokens = tokens.to(DEVICE)\n",
    "\n",
    "        tokens_input = tokens[:, :-1]\n",
    "        tokens_expected = tokens[:, 1:]\n",
    "\n",
    "        target_mask, token_padding_mask = model.create_masks(tokens_input)\n",
    "        target_mask = target_mask.to(DEVICE)\n",
    "        token_padding_mask = token_padding_mask.to(DEVICE)\n",
    "        logits = model(spectrogram, tuning, tokens_input, target_mask, token_padding_mask)\n",
    "        logits = logits.permute(1, 2, 0)\n",
    "\n",
    "        loss = loss_fn(logits, tokens_expected)\n",
    "        optimizer.zero_grad()\n",
    "        loss.backward()\n",
    "        optimizer.step()\n",
    "        losses += loss.detach().item()\n",
    "        count+=1\n",
    "        pbar.set_postfix({\"loss\":losses/count})\n",
    "\n",
    "    losses = losses/len(val_dataloader)\n",
    "    checkpoint_saver(model, epoch, losses,optimizer,True)\n",
    "    return losses\n"
   ],
   "metadata": {
    "collapsed": false
   }
  },
  {
   "cell_type": "code",
   "execution_count": 7,
   "outputs": [],
   "source": [
    "load_model(\"./model_weights/GuitarModel_epoch9.pt\")"
   ],
   "metadata": {
    "collapsed": false
   }
  },
  {
   "cell_type": "code",
   "execution_count": 8,
   "outputs": [
    {
     "ename": "NameError",
     "evalue": "name 'train_epoch' is not defined",
     "output_type": "error",
     "traceback": [
      "\u001B[1;31m---------------------------------------------------------------------------\u001B[0m",
      "\u001B[1;31mNameError\u001B[0m                                 Traceback (most recent call last)",
      "Cell \u001B[1;32mIn[8], line 6\u001B[0m\n\u001B[0;32m      4\u001B[0m \u001B[38;5;28;01mfor\u001B[39;00m epoch \u001B[38;5;129;01min\u001B[39;00m \u001B[38;5;28mrange\u001B[39m(epoch, NUM_EPOCHS\u001B[38;5;241m+\u001B[39m\u001B[38;5;241m1\u001B[39m):\n\u001B[0;32m      5\u001B[0m     start_time \u001B[38;5;241m=\u001B[39m timer()\n\u001B[1;32m----> 6\u001B[0m     train_loss \u001B[38;5;241m=\u001B[39m \u001B[43mtrain_epoch\u001B[49m(model, optimizer,epoch)\n\u001B[0;32m      7\u001B[0m     tb\u001B[38;5;241m.\u001B[39madd_scalar(\u001B[38;5;124m\"\u001B[39m\u001B[38;5;124mTrain Loss\u001B[39m\u001B[38;5;124m\"\u001B[39m, train_loss, epoch)\n\u001B[0;32m      8\u001B[0m     end_time \u001B[38;5;241m=\u001B[39m timer()\n",
      "\u001B[1;31mNameError\u001B[0m: name 'train_epoch' is not defined"
     ]
    }
   ],
   "source": [
    "NUM_EPOCHS = 18\n",
    "tb = SummaryWriter()\n",
    "checkpoint_saver = CheckpointSaver(dirpath='./model_weights2', decreasing=True, top_n=5)\n",
    "for epoch in range(epoch, NUM_EPOCHS+1):\n",
    "    start_time = timer()\n",
    "    train_loss = train_epoch(model, optimizer,epoch)\n",
    "    tb.add_scalar(\"Train Loss\", train_loss, epoch)\n",
    "    end_time = timer()\n",
    "    val_loss = evaluate(model,epoch,checkpoint_saver,optimizer)\n",
    "    tb.add_scalar(\"Val Loss\", train_loss, epoch)\n",
    "    print(f\"Epoch: {epoch}, Train loss: {train_loss:.3f}, Val loss: {val_loss:.3f}, \"f\"Epoch time = {(end_time - start_time):.3f}s\")\n",
    "    for name, weight in model.named_parameters():\n",
    "        tb.add_histogram(name,weight, epoch)\n",
    "        tb.add_histogram(f'{name}.grad',weight.grad, epoch)\n",
    "tb.close()"
   ],
   "metadata": {
    "collapsed": false
   }
  },
  {
   "cell_type": "code",
   "execution_count": 15,
   "outputs": [],
   "source": [
    "def predict(Tokenizer,model,spectrogram : torch.tensor,tuning : torch.tensor,arrangement : str,capo : float):\n",
    "    model.eval()\n",
    "    SOS_token = Tokenizer.sosToken\n",
    "    EOS_token = Tokenizer.eosToken\n",
    "    max_length = dataset.maxTokens\n",
    "    y_input = torch.tensor([[SOS_token]], dtype=torch.long, device=DEVICE)\n",
    "    tuningAndArrangement = ArrangementUtils.getArrangementTensor(tuning,arrangement,capo)\n",
    "    tuningAndArrangement = torch.unsqueeze(tuningAndArrangement,dim=0).to(DEVICE)\n",
    "    spectrogram = torch.unsqueeze(spectrogram,dim=0)\n",
    "    spectrogram = spectrogram.to(DEVICE)\n",
    "    for _ in range(max_length):\n",
    "        # Get source mask\n",
    "        target_mask, token_padding_mask = model.create_masks(y_input)\n",
    "        target_mask = target_mask.to(DEVICE)\n",
    "        token_padding_mask = token_padding_mask.to(DEVICE)\n",
    "\n",
    "        # token_padding_mask = torch.unsqueeze(token_padding_mask,dim=0)\n",
    "        pred = model(spectrogram, tuningAndArrangement, y_input, target_mask, token_padding_mask)\n",
    "\n",
    "        next_item = pred.topk(1)[1].view(-1)[-1].item() # num with highest probability\n",
    "        next_item = torch.tensor([[next_item]], device=DEVICE)\n",
    "\n",
    "        # Concatenate previous input with predicted best word\n",
    "        y_input = torch.cat((y_input, next_item), dim=1)\n",
    "\n",
    "        # Stop if model predicts end of sentence\n",
    "        if next_item.view(-1).item() == EOS_token:\n",
    "            break\n",
    "\n",
    "    return y_input.view(-1).tolist()\n",
    "\n",
    "def get_spectrogram(filepath,location_in_secs):\n",
    "    info = torchaudio.info(filepath)\n",
    "    file_sample_rate = info.sample_rate\n",
    "    file_start_offset = int(location_in_secs * file_sample_rate)\n",
    "    file_number_samples_to_read = int(dataset.spectrogramSizeInSeconds * file_sample_rate)\n",
    "    waveform, sample_rate = torchaudio.load(filepath, normalize=True, frame_offset=file_start_offset,\n",
    "                                            num_frames=file_number_samples_to_read)\n",
    "    if waveform.size(1) != file_number_samples_to_read:\n",
    "        # print(song, index, sectionIndex)\n",
    "        return None\n",
    "        # raise Exception(\"Read Less than expected\")\n",
    "\n",
    "\n",
    "    if sample_rate != dataset.sample_rate:\n",
    "        waveform = torchaudio.functional.resample(waveform, orig_freq=file_sample_rate, new_freq=dataset.sample_rate)\n",
    "    waveform = mel_spectrogram(waveform)\n",
    "    return waveform\n",
    "\n",
    "def predict_from_file(filename,location_in_time):\n",
    "    Tokenizer = GuitarTokenizer(dataset.spectrogramSizeInSeconds,dataset.numberOfTimeTokensPerSecond)\n",
    "    spectrogram = get_spectrogram(filename,location_in_time)\n",
    "    tokens = predict(Tokenizer,model,spectrogram,ArrangementUtils.DSharp_Standard,\"lead\",0)\n",
    "    for i in tokens:\n",
    "        pprint(Tokenizer.encoder.decode(i))"
   ],
   "metadata": {
    "collapsed": false
   }
  },
  {
   "cell_type": "code",
   "execution_count": 16,
   "outputs": [
    {
     "name": "stdout",
     "output_type": "stream",
     "text": [
      "('sos', [True])\n",
      "('eot', [True])\n",
      "('silence', [True])\n",
      "('eos', [True])\n"
     ]
    }
   ],
   "source": [
    "predict_from_file(r\"C:\\Users\\ritwi\\Github\\MusicTranscription\\Downloads\\greewelc_p\\greewelc.ogg\",25.0)"
   ],
   "metadata": {
    "collapsed": false
   }
  },
  {
   "cell_type": "code",
   "execution_count": null,
   "outputs": [],
   "source": [],
   "metadata": {
    "collapsed": false
   }
  }
 ],
 "metadata": {
  "kernelspec": {
   "display_name": "Python 3",
   "language": "python",
   "name": "python3"
  },
  "language_info": {
   "codemirror_mode": {
    "name": "ipython",
    "version": 2
   },
   "file_extension": ".py",
   "mimetype": "text/x-python",
   "name": "python",
   "nbconvert_exporter": "python",
   "pygments_lexer": "ipython2",
   "version": "2.7.6"
  }
 },
 "nbformat": 4,
 "nbformat_minor": 0
}
