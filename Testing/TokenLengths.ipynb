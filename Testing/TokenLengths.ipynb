{
 "cells": [
  {
   "cell_type": "code",
   "execution_count": 1,
   "outputs": [],
   "source": [
    "import numpy as np\n",
    "from tqdm import tqdm\n",
    "from pprint import pprint\n",
    "from TUtils import get_all_dlc_files\n",
    "import Tokenizer\n",
    "from matplotlib import pyplot as plt"
   ],
   "metadata": {
    "collapsed": false,
    "ExecuteTime": {
     "end_time": "2023-09-20T03:20:28.176389100Z",
     "start_time": "2023-09-20T03:20:26.224002400Z"
    }
   },
   "id": "5a924159a53057b8"
  },
  {
   "cell_type": "code",
   "execution_count": 2,
   "outputs": [],
   "source": [
    "all_dlcs = get_all_dlc_files(\"RSFiles/Downloads2\")"
   ],
   "metadata": {
    "collapsed": false,
    "ExecuteTime": {
     "end_time": "2023-09-20T03:20:30.583342700Z",
     "start_time": "2023-09-20T03:20:28.181921700Z"
    }
   },
   "id": "13f589f3d5b794ed"
  },
  {
   "cell_type": "code",
   "execution_count": 13,
   "outputs": [],
   "source": [
    "lengths = []\n",
    "time_seconds = 10\n",
    "time_token_fz = 100"
   ],
   "metadata": {
    "collapsed": false,
    "ExecuteTime": {
     "end_time": "2023-09-20T03:55:39.577642Z",
     "start_time": "2023-09-20T03:55:39.573133500Z"
    }
   },
   "id": "13845731a9f2fea"
  },
  {
   "cell_type": "code",
   "execution_count": 14,
   "outputs": [
    {
     "name": "stderr",
     "output_type": "stream",
     "text": [
      "100%|██████████| 1304/1304 [06:41<00:00,  3.25it/s]\n"
     ]
    }
   ],
   "source": [
    "tokenizer = Tokenizer.GuitarTokenizer(time_seconds, time_token_fz)\n",
    "for dlc in tqdm(all_dlcs):\n",
    "    all_sections = tokenizer.convertSongFromPaths(dlc)\n",
    "    for section in all_sections:\n",
    "        lengths.append(len(section.tokens))"
   ],
   "metadata": {
    "collapsed": false,
    "ExecuteTime": {
     "end_time": "2023-09-20T04:02:21.388397600Z",
     "start_time": "2023-09-20T03:55:39.782002500Z"
    }
   },
   "id": "98eb122367601e75"
  },
  {
   "cell_type": "code",
   "execution_count": 15,
   "outputs": [
    {
     "data": {
      "text/plain": "<Figure size 640x480 with 1 Axes>",
      "image/png": "[encoded data removed]"
     },
     "metadata": {},
     "output_type": "display_data"
    }
   ],
   "source": [
    "plt.hist(lengths)\n",
    "plt.show()"
   ],
   "metadata": {
    "collapsed": false,
    "ExecuteTime": {
     "end_time": "2023-09-20T04:03:28.978482Z",
     "start_time": "2023-09-20T04:03:28.869945500Z"
    }
   },
   "id": "5a67930a83e5710e"
  },
  {
   "cell_type": "code",
   "execution_count": 17,
   "outputs": [
    {
     "name": "stdout",
     "output_type": "stream",
     "text": [
      "Hours of data : 92.86111111111111h\n"
     ]
    }
   ],
   "source": [
    "print(f\"Hours of data : { len(lengths) * time_seconds / (60*60) }h\")"
   ],
   "metadata": {
    "collapsed": false,
    "ExecuteTime": {
     "end_time": "2023-09-20T04:03:56.828626300Z",
     "start_time": "2023-09-20T04:03:56.828118200Z"
    }
   },
   "id": "3f765cfa3205bd93"
  },
  {
   "cell_type": "code",
   "execution_count": null,
   "outputs": [],
   "source": [],
   "metadata": {
    "collapsed": false
   },
   "id": "a9431615adf342c2"
  }
 ],
 "metadata": {
  "kernelspec": {
   "display_name": "Python 3",
   "language": "python",
   "name": "python3"
  },
  "language_info": {
   "codemirror_mode": {
    "name": "ipython",
    "version": 2
   },
   "file_extension": ".py",
   "mimetype": "text/x-python",
   "name": "python",
   "nbconvert_exporter": "python",
   "pygments_lexer": "ipython2",
   "version": "2.7.6"
  }
 },
 "nbformat": 4,
 "nbformat_minor": 5
}
