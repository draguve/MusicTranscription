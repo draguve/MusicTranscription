{
 "cells": [
  {
   "cell_type": "code",
   "execution_count": 1,
   "id": "73dcbe8e96c0ba90",
   "metadata": {
    "ExecuteTime": {
     "end_time": "2023-09-22T08:30:15.439623500Z",
     "start_time": "2023-09-22T08:29:53.323345600Z"
    },
    "collapsed": false,
    "jupyter": {
     "outputs_hidden": false
    },
    "tags": []
   },
   "outputs": [],
   "source": [
    "from torch.utils.data import DataLoader\n",
    "from lightning.pytorch.loggers import WandbLogger\n",
    "from TModel.GuitarTokenEmbeddingModel import GuitarTokenEmbeddingModel\n",
    "from TranscriptionDataset import GuitarTokenDataset\n",
    "from lightning import Trainer\n",
    "import torch\n",
    "\n",
    "# torch.set_float32_matmul_precision('medium')"
   ]
  },
  {
   "cell_type": "code",
   "execution_count": 2,
   "id": "83c8ce53d14f35b9",
   "metadata": {
    "ExecuteTime": {
     "end_time": "2023-09-22T08:30:15.451794100Z",
     "start_time": "2023-09-22T08:30:15.446092500Z"
    },
    "collapsed": false,
    "jupyter": {
     "outputs_hidden": false
    },
    "tags": []
   },
   "outputs": [],
   "source": [
    "datasetLocation = \"Trainsets/S_Tier_1695428558_mTokens1000_mNoS60.hdf5\"\n",
    "wandbProject = \"GuitarEmbeddingModel\"\n",
    "batchSize = 1024\n",
    "num_workers=12"
   ]
  },
  {
   "cell_type": "code",
   "execution_count": 4,
   "id": "e349de0c0d052e90",
   "metadata": {
    "ExecuteTime": {
     "end_time": "2023-09-22T08:30:17.119594600Z",
     "start_time": "2023-09-22T08:30:15.458912400Z"
    },
    "collapsed": false,
    "jupyter": {
     "outputs_hidden": false
    },
    "tags": []
   },
   "outputs": [],
   "source": [
    "dataset,pipe = GuitarTokenDataset.getDataPipe(datasetLocation,2,pinMemory=False)\n",
    "# train_pipe, test_pipe = pipe.random_split(weights={\"train\": 0.8, \"valid\": 0.2},seed=42,total_length=len(dataset))\n",
    "\n",
    "train_dl = DataLoader(dataset=pipe, batch_size=batchSize,num_workers=num_workers)\n",
    "# test_dl = DataLoader(dataset=test_pipe, batch_size=batchSize,num_workers=num_workers)"
   ]
  },
  {
   "cell_type": "code",
   "execution_count": 5,
   "id": "8235ef9d5a2ed75f",
   "metadata": {
    "ExecuteTime": {
     "end_time": "2023-09-22T08:31:24.262088400Z",
     "start_time": "2023-09-22T08:30:17.129898Z"
    },
    "collapsed": false,
    "jupyter": {
     "outputs_hidden": false
    },
    "tags": []
   },
   "outputs": [
    {
     "name": "stderr",
     "output_type": "stream",
     "text": [
      "\u001b[34m\u001b[1mwandb\u001b[0m: Currently logged in as: \u001b[33mdraguve\u001b[0m. Use \u001b[1m`wandb login --relogin`\u001b[0m to force relogin\n"
     ]
    },
    {
     "data": {
      "text/html": [
       "Tracking run with wandb version 0.15.11"
      ],
      "text/plain": [
       "<IPython.core.display.HTML object>"
      ]
     },
     "metadata": {},
     "output_type": "display_data"
    },
    {
     "data": {
      "text/html": [
       "Run data is saved locally in <code>.\\wandb\\run-20230923_081127-xu7f38v5</code>"
      ],
      "text/plain": [
       "<IPython.core.display.HTML object>"
      ]
     },
     "metadata": {},
     "output_type": "display_data"
    },
    {
     "data": {
      "text/html": [
       "Syncing run <strong><a href='https://wandb.ai/draguve/GuitarEmbeddingModel/runs/xu7f38v5' target=\"_blank\">iconic-bee-2</a></strong> to <a href='https://wandb.ai/draguve/GuitarEmbeddingModel' target=\"_blank\">Weights & Biases</a> (<a href='https://wandb.me/run' target=\"_blank\">docs</a>)<br/>"
      ],
      "text/plain": [
       "<IPython.core.display.HTML object>"
      ]
     },
     "metadata": {},
     "output_type": "display_data"
    },
    {
     "data": {
      "text/html": [
       " View project at <a href='https://wandb.ai/draguve/GuitarEmbeddingModel' target=\"_blank\">https://wandb.ai/draguve/GuitarEmbeddingModel</a>"
      ],
      "text/plain": [
       "<IPython.core.display.HTML object>"
      ]
     },
     "metadata": {},
     "output_type": "display_data"
    },
    {
     "data": {
      "text/html": [
       " View run at <a href='https://wandb.ai/draguve/GuitarEmbeddingModel/runs/xu7f38v5' target=\"_blank\">https://wandb.ai/draguve/GuitarEmbeddingModel/runs/xu7f38v5</a>"
      ],
      "text/plain": [
       "<IPython.core.display.HTML object>"
      ]
     },
     "metadata": {},
     "output_type": "display_data"
    },
    {
     "name": "stderr",
     "output_type": "stream",
     "text": [
      "GPU available: True (cuda), used: True\n",
      "TPU available: False, using: 0 TPU cores\n",
      "IPU available: False, using: 0 IPUs\n",
      "HPU available: False, using: 0 HPUs\n",
      "You are using a CUDA device ('NVIDIA GeForce RTX 3070 Laptop GPU') that has Tensor Cores. To properly utilize them, you should set `torch.set_float32_matmul_precision('medium' | 'high')` which will trade-off precision for performance. For more details, read https://pytorch.org/docs/stable/generated/torch.set_float32_matmul_precision.html#torch.set_float32_matmul_precision\n",
      "LOCAL_RANK: 0 - CUDA_VISIBLE_DEVICES: [0]\n",
      "\n",
      "  | Name       | Type      | Params\n",
      "-----------------------------------------\n",
      "0 | embeddings | Embedding | 4.5 M \n",
      "1 | loss       | SGNSLoss  | 4.5 M \n",
      "-----------------------------------------\n",
      "4.5 M     Trainable params\n",
      "0         Non-trainable params\n",
      "4.5 M     Total params\n",
      "18.190    Total estimated model params size (MB)\n"
     ]
    },
    {
     "data": {
      "application/vnd.jupyter.widget-view+json": {
       "model_id": "7c41b08c330d4f6483bafa8304af3dca",
       "version_major": 2,
       "version_minor": 0
      },
      "text/plain": [
       "Training: 0it [00:00, ?it/s]"
      ]
     },
     "metadata": {},
     "output_type": "display_data"
    },
    {
     "name": "stderr",
     "output_type": "stream",
     "text": [
      "`Trainer.fit` stopped: `max_epochs=5` reached.\n"
     ]
    }
   ],
   "source": [
    "model = GuitarTokenEmbeddingModel(vocab_size=dataset.getVocabSize(),cfs=dataset.getCfs())\n",
    "\n",
    "wandb_logger = WandbLogger(project=wandbProject)\n",
    "wandb_logger.experiment.config.update(dataset.meta_data)\n",
    "wandb_logger.experiment.config[\"batchSize\"] = batchSize\n",
    "trainer = Trainer(\n",
    "    max_epochs=5,\n",
    "    # profiler=\"simple\",\n",
    "    # precision=\"bf16-mixed\",\n",
    "    logger=wandb_logger,\n",
    "    # max_time=\"00:00:05:00\"\n",
    ")\n",
    "\n",
    "trainer.fit(model=model, train_dataloaders=train_dl)"
   ]
  },
  {
   "cell_type": "code",
   "execution_count": null,
   "id": "81256433cd4f2565",
   "metadata": {
    "collapsed": false,
    "jupyter": {
     "outputs_hidden": false
    }
   },
   "outputs": [],
   "source": [
    "trainer.test(model, dataloaders=test_pipe)"
   ]
  },
  {
   "cell_type": "code",
   "execution_count": null,
   "id": "89023cf6-a3fa-4234-9a32-2ee0c61eea7e",
   "metadata": {},
   "outputs": [],
   "source": []
  }
 ],
 "metadata": {
  "kernelspec": {
   "display_name": "Python 3 (ipykernel)",
   "language": "python",
   "name": "python3"
  },
  "language_info": {
   "codemirror_mode": {
    "name": "ipython",
    "version": 3
   },
   "file_extension": ".py",
   "mimetype": "text/x-python",
   "name": "python",
   "nbconvert_exporter": "python",
   "pygments_lexer": "ipython3",
   "version": "3.11.5"
  }
 },
 "nbformat": 4,
 "nbformat_minor": 5
}
