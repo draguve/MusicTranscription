{
 "cells": [
  {
   "cell_type": "code",
   "execution_count": 2,
   "id": "73dcbe8e96c0ba90",
   "metadata": {
    "ExecuteTime": {
     "end_time": "2023-09-22T08:30:15.439623500Z",
     "start_time": "2023-09-22T08:29:53.323345600Z"
    },
    "collapsed": false,
    "jupyter": {
     "outputs_hidden": false
    },
    "tags": []
   },
   "outputs": [],
   "source": [
    "from torch.utils.data import DataLoader\n",
    "from lightning.pytorch.loggers import WandbLogger\n",
    "from TModel.GuitarTokenEmbeddingModel import GuitarTokenEmbeddingModel\n",
    "from TranscriptionDataset import GuitarTokenDataset\n",
    "from lightning import Trainer"
   ]
  },
  {
   "cell_type": "code",
   "execution_count": 3,
   "id": "83c8ce53d14f35b9",
   "metadata": {
    "ExecuteTime": {
     "end_time": "2023-09-22T08:30:15.451794100Z",
     "start_time": "2023-09-22T08:30:15.446092500Z"
    },
    "collapsed": false,
    "jupyter": {
     "outputs_hidden": false
    },
    "tags": []
   },
   "outputs": [],
   "source": [
    "datasetLocation = \"Trainsets/S_Tier_1695289757_mTokens1000_mNoS60.hdf5\"\n",
    "wandbProject = \"GuitarEmbeddingModel\"\n",
    "batchSize = 1024"
   ]
  },
  {
   "cell_type": "code",
   "execution_count": 4,
   "id": "e349de0c0d052e90",
   "metadata": {
    "ExecuteTime": {
     "end_time": "2023-09-22T08:30:17.119594600Z",
     "start_time": "2023-09-22T08:30:15.458912400Z"
    },
    "collapsed": false,
    "jupyter": {
     "outputs_hidden": false
    },
    "tags": []
   },
   "outputs": [],
   "source": [
    "dataset,pipe = GuitarTokenDataset.getDataPipe(datasetLocation,2,pinMemory=True)\n",
    "train_pipe, test_pipe = pipe.random_split(weights={\"train\": 0.8, \"valid\": 0.2},seed=42,total_length=len(dataset))\n",
    "\n",
    "train_dl = DataLoader(dataset=train_pipe, batch_size=batchSize,num_workers=6)\n",
    "test_dl = DataLoader(dataset=test_pipe, batch_size=batchSize,num_workers=6)"
   ]
  },
  {
   "cell_type": "code",
   "execution_count": 5,
   "id": "8235ef9d5a2ed75f",
   "metadata": {
    "ExecuteTime": {
     "end_time": "2023-09-22T08:31:24.262088400Z",
     "start_time": "2023-09-22T08:30:17.129898Z"
    },
    "collapsed": false,
    "jupyter": {
     "outputs_hidden": false
    },
    "tags": []
   },
   "outputs": [
    {
     "name": "stderr",
     "output_type": "stream",
     "text": [
      "GPU available: True (cuda), used: True\n",
      "GPU available: True (cuda), used: True\n",
      "TPU available: False, using: 0 TPU cores\n",
      "TPU available: False, using: 0 TPU cores\n",
      "IPU available: False, using: 0 IPUs\n",
      "IPU available: False, using: 0 IPUs\n",
      "HPU available: False, using: 0 HPUs\n",
      "HPU available: False, using: 0 HPUs\n",
      "C:\\Users\\ritwi\\anaconda3\\envs\\pytorch\\Lib\\site-packages\\lightning\\pytorch\\trainer\\configuration_validator.py:71: PossibleUserWarning: You defined a `validation_step` but have no `val_dataloader`. Skipping val loop.\n",
      "  rank_zero_warn(\n",
      "You are using a CUDA device ('NVIDIA GeForce RTX 3070 Laptop GPU') that has Tensor Cores. To properly utilize them, you should set `torch.set_float32_matmul_precision('medium' | 'high')` which will trade-off precision for performance. For more details, read https://pytorch.org/docs/stable/generated/torch.set_float32_matmul_precision.html#torch.set_float32_matmul_precision\n",
      "You are using a CUDA device ('NVIDIA GeForce RTX 3070 Laptop GPU') that has Tensor Cores. To properly utilize them, you should set `torch.set_float32_matmul_precision('medium' | 'high')` which will trade-off precision for performance. For more details, read https://pytorch.org/docs/stable/generated/torch.set_float32_matmul_precision.html#torch.set_float32_matmul_precision\n",
      "LOCAL_RANK: 0 - CUDA_VISIBLE_DEVICES: [0]\n",
      "LOCAL_RANK: 0 - CUDA_VISIBLE_DEVICES: [0]\n",
      "\n",
      "  | Name       | Type             | Params\n",
      "------------------------------------------------\n",
      "0 | embeddings | Embedding        | 4.5 M \n",
      "1 | linear1    | Linear           | 4.6 M \n",
      "2 | activation | LogSoftmax       | 0     \n",
      "3 | loss       | CrossEntropyLoss | 0     \n",
      "------------------------------------------------\n",
      "9.1 M     Trainable params\n",
      "0         Non-trainable params\n",
      "9.1 M     Total params\n",
      "36.416    Total estimated model params size (MB)\n",
      "\n",
      "  | Name       | Type             | Params\n",
      "------------------------------------------------\n",
      "0 | embeddings | Embedding        | 4.5 M \n",
      "1 | linear1    | Linear           | 4.6 M \n",
      "2 | activation | LogSoftmax       | 0     \n",
      "3 | loss       | CrossEntropyLoss | 0     \n",
      "------------------------------------------------\n",
      "9.1 M     Trainable params\n",
      "0         Non-trainable params\n",
      "9.1 M     Total params\n",
      "36.416    Total estimated model params size (MB)\n"
     ]
    },
    {
     "data": {
      "application/vnd.jupyter.widget-view+json": {
       "model_id": "e467386f10bc4b09a4da3ce3fcbb6599",
       "version_major": 2,
       "version_minor": 0
      },
      "text/plain": [
       "Training: 0it [00:00, ?it/s]"
      ]
     },
     "metadata": {},
     "output_type": "display_data"
    },
    {
     "name": "stderr",
     "output_type": "stream",
     "text": [
      "Time limit reached. Elapsed time is 0:01:00. Signaling Trainer to stop.\n",
      "Time limit reached. Elapsed time is 0:01:00. Signaling Trainer to stop.\n",
      "FIT Profiler Report\n",
      "\n",
      "---------------------------------------------------------------------------------------------------------------------------------------------------------------------------------------------------------------------------------------------------------------------------\n",
      "|  Action                                                                                                                                                        \t|  Mean duration (s)\t|  Num calls      \t|  Total time (s) \t|  Percentage %   \t|\n",
      "---------------------------------------------------------------------------------------------------------------------------------------------------------------------------------------------------------------------------------------------------------------------------\n",
      "|  Total                                                                                                                                                         \t|  -              \t|  5680           \t|  66.172         \t|  100 %          \t|\n",
      "---------------------------------------------------------------------------------------------------------------------------------------------------------------------------------------------------------------------------------------------------------------------------\n",
      "|  run_training_epoch                                                                                                                                            \t|  60.266         \t|  1              \t|  60.266         \t|  91.075         \t|\n",
      "|  [_TrainingEpochLoop].train_dataloader_next                                                                                                                    \t|  0.081493       \t|  134            \t|  10.92          \t|  16.502         \t|\n",
      "|  run_training_batch                                                                                                                                            \t|  0.037433       \t|  134            \t|  5.016          \t|  7.5802         \t|\n",
      "|  [LightningModule]GuitarTokenEmbeddingModel.optimizer_step                                                                                                     \t|  0.037082       \t|  134            \t|  4.969          \t|  7.5092         \t|\n",
      "|  [Strategy]SingleDeviceStrategy.training_step                                                                                                                  \t|  0.022866       \t|  134            \t|  3.064          \t|  4.6304         \t|\n",
      "|  [Strategy]SingleDeviceStrategy.backward                                                                                                                       \t|  0.011537       \t|  134            \t|  1.546          \t|  2.3363         \t|\n",
      "|  [Callback]ModelCheckpoint{'monitor': None, 'mode': 'min', 'every_n_train_steps': 0, 'every_n_epochs': 1, 'train_time_interval': None}.on_train_epoch_end      \t|  0.765          \t|  1              \t|  0.765          \t|  1.1561         \t|\n",
      "|  [Callback]TQDMProgressBar.on_train_batch_end                                                                                                                  \t|  0.0051493      \t|  134            \t|  0.69           \t|  1.0427         \t|\n",
      "|  [LightningModule]GuitarTokenEmbeddingModel.transfer_batch_to_device                                                                                           \t|  0.00035075     \t|  134            \t|  0.047          \t|  0.071027       \t|\n",
      "|  [Strategy]SingleDeviceStrategy.batch_to_device                                                                                                                \t|  0.00035075     \t|  134            \t|  0.047          \t|  0.071027       \t|\n",
      "|  [LightningModule]GuitarTokenEmbeddingModel.optimizer_zero_grad                                                                                                \t|  0.00035075     \t|  134            \t|  0.047          \t|  0.071027       \t|\n",
      "|  [Callback]TQDMProgressBar.on_train_start                                                                                                                      \t|  0.016          \t|  1              \t|  0.016          \t|  0.024179       \t|\n",
      "|  [Callback]ModelSummary.on_before_zero_grad                                                                                                                    \t|  0.0001194      \t|  134            \t|  0.016          \t|  0.024179       \t|\n",
      "|  [LightningModule]GuitarTokenEmbeddingModel.configure_callbacks                                                                                                \t|  0.0            \t|  1              \t|  0.0            \t|  0.0            \t|\n",
      "|  [LightningModule]GuitarTokenEmbeddingModel.prepare_data                                                                                                       \t|  0.0            \t|  1              \t|  0.0            \t|  0.0            \t|\n",
      "|  [Callback]Timer.setup                                                                                                                                         \t|  0.0            \t|  1              \t|  0.0            \t|  0.0            \t|\n",
      "|  [Callback]TQDMProgressBar.setup                                                                                                                               \t|  0.0            \t|  1              \t|  0.0            \t|  0.0            \t|\n",
      "|  [Callback]ModelSummary.setup                                                                                                                                  \t|  0.0            \t|  1              \t|  0.0            \t|  0.0            \t|\n",
      "|  [Callback]ModelCheckpoint{'monitor': None, 'mode': 'min', 'every_n_train_steps': 0, 'every_n_epochs': 1, 'train_time_interval': None}.setup                   \t|  0.0            \t|  1              \t|  0.0            \t|  0.0            \t|\n",
      "|  [LightningModule]GuitarTokenEmbeddingModel.setup                                                                                                              \t|  0.0            \t|  1              \t|  0.0            \t|  0.0            \t|\n",
      "|  [LightningModule]GuitarTokenEmbeddingModel.configure_sharded_model                                                                                            \t|  0.0            \t|  1              \t|  0.0            \t|  0.0            \t|\n",
      "|  [LightningModule]GuitarTokenEmbeddingModel.configure_optimizers                                                                                               \t|  0.0            \t|  1              \t|  0.0            \t|  0.0            \t|\n",
      "|  [Callback]Timer.on_fit_start                                                                                                                                  \t|  0.0            \t|  1              \t|  0.0            \t|  0.0            \t|\n",
      "|  [Callback]TQDMProgressBar.on_fit_start                                                                                                                        \t|  0.0            \t|  1              \t|  0.0            \t|  0.0            \t|\n",
      "|  [Callback]ModelSummary.on_fit_start                                                                                                                           \t|  0.0            \t|  1              \t|  0.0            \t|  0.0            \t|\n",
      "|  [Callback]ModelCheckpoint{'monitor': None, 'mode': 'min', 'every_n_train_steps': 0, 'every_n_epochs': 1, 'train_time_interval': None}.on_fit_start            \t|  0.0            \t|  1              \t|  0.0            \t|  0.0            \t|\n",
      "|  [LightningModule]GuitarTokenEmbeddingModel.on_fit_start                                                                                                       \t|  0.0            \t|  1              \t|  0.0            \t|  0.0            \t|\n",
      "|  [Callback]Timer.on_train_start                                                                                                                                \t|  0.0            \t|  1              \t|  0.0            \t|  0.0            \t|\n",
      "|  [Callback]ModelSummary.on_train_start                                                                                                                         \t|  0.0            \t|  1              \t|  0.0            \t|  0.0            \t|\n",
      "|  [Callback]ModelCheckpoint{'monitor': None, 'mode': 'min', 'every_n_train_steps': 0, 'every_n_epochs': 1, 'train_time_interval': None}.on_train_start          \t|  0.0            \t|  1              \t|  0.0            \t|  0.0            \t|\n",
      "|  [LightningModule]GuitarTokenEmbeddingModel.on_train_start                                                                                                     \t|  0.0            \t|  1              \t|  0.0            \t|  0.0            \t|\n",
      "|  [Strategy]SingleDeviceStrategy.on_train_start                                                                                                                 \t|  0.0            \t|  1              \t|  0.0            \t|  0.0            \t|\n",
      "|  [Callback]Timer.on_train_epoch_start                                                                                                                          \t|  0.0            \t|  1              \t|  0.0            \t|  0.0            \t|\n",
      "|  [Callback]TQDMProgressBar.on_train_epoch_start                                                                                                                \t|  0.0            \t|  1              \t|  0.0            \t|  0.0            \t|\n",
      "|  [Callback]ModelSummary.on_train_epoch_start                                                                                                                   \t|  0.0            \t|  1              \t|  0.0            \t|  0.0            \t|\n",
      "|  [Callback]ModelCheckpoint{'monitor': None, 'mode': 'min', 'every_n_train_steps': 0, 'every_n_epochs': 1, 'train_time_interval': None}.on_train_epoch_start    \t|  0.0            \t|  1              \t|  0.0            \t|  0.0            \t|\n",
      "|  [LightningModule]GuitarTokenEmbeddingModel.on_train_epoch_start                                                                                               \t|  0.0            \t|  1              \t|  0.0            \t|  0.0            \t|\n",
      "|  [LightningModule]GuitarTokenEmbeddingModel.on_before_batch_transfer                                                                                           \t|  0.0            \t|  134            \t|  0.0            \t|  0.0            \t|\n",
      "|  [LightningModule]GuitarTokenEmbeddingModel.on_after_batch_transfer                                                                                            \t|  0.0            \t|  134            \t|  0.0            \t|  0.0            \t|\n",
      "|  [Callback]Timer.on_train_batch_start                                                                                                                          \t|  0.0            \t|  134            \t|  0.0            \t|  0.0            \t|\n",
      "|  [Callback]TQDMProgressBar.on_train_batch_start                                                                                                                \t|  0.0            \t|  134            \t|  0.0            \t|  0.0            \t|\n",
      "|  [Callback]ModelSummary.on_train_batch_start                                                                                                                   \t|  0.0            \t|  134            \t|  0.0            \t|  0.0            \t|\n",
      "|  [Callback]ModelCheckpoint{'monitor': None, 'mode': 'min', 'every_n_train_steps': 0, 'every_n_epochs': 1, 'train_time_interval': None}.on_train_batch_start    \t|  0.0            \t|  134            \t|  0.0            \t|  0.0            \t|\n",
      "|  [LightningModule]GuitarTokenEmbeddingModel.on_train_batch_start                                                                                               \t|  0.0            \t|  134            \t|  0.0            \t|  0.0            \t|\n",
      "|  [Strategy]SingleDeviceStrategy.on_train_batch_start                                                                                                           \t|  0.0            \t|  134            \t|  0.0            \t|  0.0            \t|\n",
      "|  [Callback]Timer.on_before_zero_grad                                                                                                                           \t|  0.0            \t|  134            \t|  0.0            \t|  0.0            \t|\n",
      "|  [Callback]TQDMProgressBar.on_before_zero_grad                                                                                                                 \t|  0.0            \t|  134            \t|  0.0            \t|  0.0            \t|\n",
      "|  [Callback]ModelCheckpoint{'monitor': None, 'mode': 'min', 'every_n_train_steps': 0, 'every_n_epochs': 1, 'train_time_interval': None}.on_before_zero_grad     \t|  0.0            \t|  134            \t|  0.0            \t|  0.0            \t|\n",
      "|  [LightningModule]GuitarTokenEmbeddingModel.on_before_zero_grad                                                                                                \t|  0.0            \t|  134            \t|  0.0            \t|  0.0            \t|\n",
      "|  [Callback]Timer.on_before_backward                                                                                                                            \t|  0.0            \t|  134            \t|  0.0            \t|  0.0            \t|\n",
      "|  [Callback]TQDMProgressBar.on_before_backward                                                                                                                  \t|  0.0            \t|  134            \t|  0.0            \t|  0.0            \t|\n",
      "|  [Callback]ModelSummary.on_before_backward                                                                                                                     \t|  0.0            \t|  134            \t|  0.0            \t|  0.0            \t|\n",
      "|  [Callback]ModelCheckpoint{'monitor': None, 'mode': 'min', 'every_n_train_steps': 0, 'every_n_epochs': 1, 'train_time_interval': None}.on_before_backward      \t|  0.0            \t|  134            \t|  0.0            \t|  0.0            \t|\n",
      "|  [LightningModule]GuitarTokenEmbeddingModel.on_before_backward                                                                                                 \t|  0.0            \t|  134            \t|  0.0            \t|  0.0            \t|\n",
      "|  [Callback]Timer.on_after_backward                                                                                                                             \t|  0.0            \t|  134            \t|  0.0            \t|  0.0            \t|\n",
      "|  [Callback]TQDMProgressBar.on_after_backward                                                                                                                   \t|  0.0            \t|  134            \t|  0.0            \t|  0.0            \t|\n",
      "|  [Callback]ModelSummary.on_after_backward                                                                                                                      \t|  0.0            \t|  134            \t|  0.0            \t|  0.0            \t|\n",
      "|  [Callback]ModelCheckpoint{'monitor': None, 'mode': 'min', 'every_n_train_steps': 0, 'every_n_epochs': 1, 'train_time_interval': None}.on_after_backward       \t|  0.0            \t|  134            \t|  0.0            \t|  0.0            \t|\n",
      "|  [LightningModule]GuitarTokenEmbeddingModel.on_after_backward                                                                                                  \t|  0.0            \t|  134            \t|  0.0            \t|  0.0            \t|\n",
      "|  [Callback]Timer.on_before_optimizer_step                                                                                                                      \t|  0.0            \t|  134            \t|  0.0            \t|  0.0            \t|\n",
      "|  [Callback]TQDMProgressBar.on_before_optimizer_step                                                                                                            \t|  0.0            \t|  134            \t|  0.0            \t|  0.0            \t|\n",
      "|  [Callback]ModelSummary.on_before_optimizer_step                                                                                                               \t|  0.0            \t|  134            \t|  0.0            \t|  0.0            \t|\n",
      "|  [Callback]ModelCheckpoint{'monitor': None, 'mode': 'min', 'every_n_train_steps': 0, 'every_n_epochs': 1, 'train_time_interval': None}.on_before_optimizer_step\t|  0.0            \t|  134            \t|  0.0            \t|  0.0            \t|\n",
      "|  [LightningModule]GuitarTokenEmbeddingModel.on_before_optimizer_step                                                                                           \t|  0.0            \t|  134            \t|  0.0            \t|  0.0            \t|\n",
      "|  [LightningModule]GuitarTokenEmbeddingModel.configure_gradient_clipping                                                                                        \t|  0.0            \t|  134            \t|  0.0            \t|  0.0            \t|\n",
      "|  [Callback]Timer.on_train_batch_end                                                                                                                            \t|  0.0            \t|  134            \t|  0.0            \t|  0.0            \t|\n",
      "|  [Callback]ModelSummary.on_train_batch_end                                                                                                                     \t|  0.0            \t|  134            \t|  0.0            \t|  0.0            \t|\n",
      "|  [Callback]ModelCheckpoint{'monitor': None, 'mode': 'min', 'every_n_train_steps': 0, 'every_n_epochs': 1, 'train_time_interval': None}.on_train_batch_end      \t|  0.0            \t|  134            \t|  0.0            \t|  0.0            \t|\n",
      "|  [LightningModule]GuitarTokenEmbeddingModel.on_train_batch_end                                                                                                 \t|  0.0            \t|  134            \t|  0.0            \t|  0.0            \t|\n",
      "|  [Callback]Timer.on_train_epoch_end                                                                                                                            \t|  0.0            \t|  1              \t|  0.0            \t|  0.0            \t|\n",
      "|  [Callback]TQDMProgressBar.on_train_epoch_end                                                                                                                  \t|  0.0            \t|  1              \t|  0.0            \t|  0.0            \t|\n",
      "|  [Callback]ModelSummary.on_train_epoch_end                                                                                                                     \t|  0.0            \t|  1              \t|  0.0            \t|  0.0            \t|\n",
      "|  [LightningModule]GuitarTokenEmbeddingModel.on_train_epoch_end                                                                                                 \t|  0.0            \t|  1              \t|  0.0            \t|  0.0            \t|\n",
      "|  [Callback]Timer.on_save_checkpoint                                                                                                                            \t|  0.0            \t|  1              \t|  0.0            \t|  0.0            \t|\n",
      "|  [Callback]TQDMProgressBar.on_save_checkpoint                                                                                                                  \t|  0.0            \t|  1              \t|  0.0            \t|  0.0            \t|\n",
      "|  [Callback]ModelSummary.on_save_checkpoint                                                                                                                     \t|  0.0            \t|  1              \t|  0.0            \t|  0.0            \t|\n",
      "|  [Callback]ModelCheckpoint{'monitor': None, 'mode': 'min', 'every_n_train_steps': 0, 'every_n_epochs': 1, 'train_time_interval': None}.on_save_checkpoint      \t|  0.0            \t|  1              \t|  0.0            \t|  0.0            \t|\n",
      "|  [LightningModule]GuitarTokenEmbeddingModel.on_save_checkpoint                                                                                                 \t|  0.0            \t|  1              \t|  0.0            \t|  0.0            \t|\n",
      "|  [Callback]Timer.on_train_end                                                                                                                                  \t|  0.0            \t|  1              \t|  0.0            \t|  0.0            \t|\n",
      "|  [Callback]TQDMProgressBar.on_train_end                                                                                                                        \t|  0.0            \t|  1              \t|  0.0            \t|  0.0            \t|\n",
      "|  [Callback]ModelSummary.on_train_end                                                                                                                           \t|  0.0            \t|  1              \t|  0.0            \t|  0.0            \t|\n",
      "|  [Callback]ModelCheckpoint{'monitor': None, 'mode': 'min', 'every_n_train_steps': 0, 'every_n_epochs': 1, 'train_time_interval': None}.on_train_end            \t|  0.0            \t|  1              \t|  0.0            \t|  0.0            \t|\n",
      "|  [LightningModule]GuitarTokenEmbeddingModel.on_train_end                                                                                                       \t|  0.0            \t|  1              \t|  0.0            \t|  0.0            \t|\n",
      "|  [Strategy]SingleDeviceStrategy.on_train_end                                                                                                                   \t|  0.0            \t|  1              \t|  0.0            \t|  0.0            \t|\n",
      "|  [Callback]Timer.on_fit_end                                                                                                                                    \t|  0.0            \t|  1              \t|  0.0            \t|  0.0            \t|\n",
      "|  [Callback]TQDMProgressBar.on_fit_end                                                                                                                          \t|  0.0            \t|  1              \t|  0.0            \t|  0.0            \t|\n",
      "|  [Callback]ModelSummary.on_fit_end                                                                                                                             \t|  0.0            \t|  1              \t|  0.0            \t|  0.0            \t|\n",
      "|  [Callback]ModelCheckpoint{'monitor': None, 'mode': 'min', 'every_n_train_steps': 0, 'every_n_epochs': 1, 'train_time_interval': None}.on_fit_end              \t|  0.0            \t|  1              \t|  0.0            \t|  0.0            \t|\n",
      "|  [LightningModule]GuitarTokenEmbeddingModel.on_fit_end                                                                                                         \t|  0.0            \t|  1              \t|  0.0            \t|  0.0            \t|\n",
      "|  [Callback]Timer.teardown                                                                                                                                      \t|  0.0            \t|  1              \t|  0.0            \t|  0.0            \t|\n",
      "|  [Callback]TQDMProgressBar.teardown                                                                                                                            \t|  0.0            \t|  1              \t|  0.0            \t|  0.0            \t|\n",
      "|  [Callback]ModelSummary.teardown                                                                                                                               \t|  0.0            \t|  1              \t|  0.0            \t|  0.0            \t|\n",
      "|  [Callback]ModelCheckpoint{'monitor': None, 'mode': 'min', 'every_n_train_steps': 0, 'every_n_epochs': 1, 'train_time_interval': None}.teardown                \t|  0.0            \t|  1              \t|  0.0            \t|  0.0            \t|\n",
      "|  [LightningModule]GuitarTokenEmbeddingModel.teardown                                                                                                           \t|  0.0            \t|  1              \t|  0.0            \t|  0.0            \t|\n",
      "---------------------------------------------------------------------------------------------------------------------------------------------------------------------------------------------------------------------------------------------------------------------------\n",
      "\n",
      "FIT Profiler Report\n",
      "\n",
      "---------------------------------------------------------------------------------------------------------------------------------------------------------------------------------------------------------------------------------------------------------------------------\n",
      "|  Action                                                                                                                                                        \t|  Mean duration (s)\t|  Num calls      \t|  Total time (s) \t|  Percentage %   \t|\n",
      "---------------------------------------------------------------------------------------------------------------------------------------------------------------------------------------------------------------------------------------------------------------------------\n",
      "|  Total                                                                                                                                                         \t|  -              \t|  5680           \t|  66.172         \t|  100 %          \t|\n",
      "---------------------------------------------------------------------------------------------------------------------------------------------------------------------------------------------------------------------------------------------------------------------------\n",
      "|  run_training_epoch                                                                                                                                            \t|  60.266         \t|  1              \t|  60.266         \t|  91.075         \t|\n",
      "|  [_TrainingEpochLoop].train_dataloader_next                                                                                                                    \t|  0.081493       \t|  134            \t|  10.92          \t|  16.502         \t|\n",
      "|  run_training_batch                                                                                                                                            \t|  0.037433       \t|  134            \t|  5.016          \t|  7.5802         \t|\n",
      "|  [LightningModule]GuitarTokenEmbeddingModel.optimizer_step                                                                                                     \t|  0.037082       \t|  134            \t|  4.969          \t|  7.5092         \t|\n",
      "|  [Strategy]SingleDeviceStrategy.training_step                                                                                                                  \t|  0.022866       \t|  134            \t|  3.064          \t|  4.6304         \t|\n",
      "|  [Strategy]SingleDeviceStrategy.backward                                                                                                                       \t|  0.011537       \t|  134            \t|  1.546          \t|  2.3363         \t|\n",
      "|  [Callback]ModelCheckpoint{'monitor': None, 'mode': 'min', 'every_n_train_steps': 0, 'every_n_epochs': 1, 'train_time_interval': None}.on_train_epoch_end      \t|  0.765          \t|  1              \t|  0.765          \t|  1.1561         \t|\n",
      "|  [Callback]TQDMProgressBar.on_train_batch_end                                                                                                                  \t|  0.0051493      \t|  134            \t|  0.69           \t|  1.0427         \t|\n",
      "|  [LightningModule]GuitarTokenEmbeddingModel.transfer_batch_to_device                                                                                           \t|  0.00035075     \t|  134            \t|  0.047          \t|  0.071027       \t|\n",
      "|  [Strategy]SingleDeviceStrategy.batch_to_device                                                                                                                \t|  0.00035075     \t|  134            \t|  0.047          \t|  0.071027       \t|\n",
      "|  [LightningModule]GuitarTokenEmbeddingModel.optimizer_zero_grad                                                                                                \t|  0.00035075     \t|  134            \t|  0.047          \t|  0.071027       \t|\n",
      "|  [Callback]TQDMProgressBar.on_train_start                                                                                                                      \t|  0.016          \t|  1              \t|  0.016          \t|  0.024179       \t|\n",
      "|  [Callback]ModelSummary.on_before_zero_grad                                                                                                                    \t|  0.0001194      \t|  134            \t|  0.016          \t|  0.024179       \t|\n",
      "|  [LightningModule]GuitarTokenEmbeddingModel.configure_callbacks                                                                                                \t|  0.0            \t|  1              \t|  0.0            \t|  0.0            \t|\n",
      "|  [LightningModule]GuitarTokenEmbeddingModel.prepare_data                                                                                                       \t|  0.0            \t|  1              \t|  0.0            \t|  0.0            \t|\n",
      "|  [Callback]Timer.setup                                                                                                                                         \t|  0.0            \t|  1              \t|  0.0            \t|  0.0            \t|\n",
      "|  [Callback]TQDMProgressBar.setup                                                                                                                               \t|  0.0            \t|  1              \t|  0.0            \t|  0.0            \t|\n",
      "|  [Callback]ModelSummary.setup                                                                                                                                  \t|  0.0            \t|  1              \t|  0.0            \t|  0.0            \t|\n",
      "|  [Callback]ModelCheckpoint{'monitor': None, 'mode': 'min', 'every_n_train_steps': 0, 'every_n_epochs': 1, 'train_time_interval': None}.setup                   \t|  0.0            \t|  1              \t|  0.0            \t|  0.0            \t|\n",
      "|  [LightningModule]GuitarTokenEmbeddingModel.setup                                                                                                              \t|  0.0            \t|  1              \t|  0.0            \t|  0.0            \t|\n",
      "|  [LightningModule]GuitarTokenEmbeddingModel.configure_sharded_model                                                                                            \t|  0.0            \t|  1              \t|  0.0            \t|  0.0            \t|\n",
      "|  [LightningModule]GuitarTokenEmbeddingModel.configure_optimizers                                                                                               \t|  0.0            \t|  1              \t|  0.0            \t|  0.0            \t|\n",
      "|  [Callback]Timer.on_fit_start                                                                                                                                  \t|  0.0            \t|  1              \t|  0.0            \t|  0.0            \t|\n",
      "|  [Callback]TQDMProgressBar.on_fit_start                                                                                                                        \t|  0.0            \t|  1              \t|  0.0            \t|  0.0            \t|\n",
      "|  [Callback]ModelSummary.on_fit_start                                                                                                                           \t|  0.0            \t|  1              \t|  0.0            \t|  0.0            \t|\n",
      "|  [Callback]ModelCheckpoint{'monitor': None, 'mode': 'min', 'every_n_train_steps': 0, 'every_n_epochs': 1, 'train_time_interval': None}.on_fit_start            \t|  0.0            \t|  1              \t|  0.0            \t|  0.0            \t|\n",
      "|  [LightningModule]GuitarTokenEmbeddingModel.on_fit_start                                                                                                       \t|  0.0            \t|  1              \t|  0.0            \t|  0.0            \t|\n",
      "|  [Callback]Timer.on_train_start                                                                                                                                \t|  0.0            \t|  1              \t|  0.0            \t|  0.0            \t|\n",
      "|  [Callback]ModelSummary.on_train_start                                                                                                                         \t|  0.0            \t|  1              \t|  0.0            \t|  0.0            \t|\n",
      "|  [Callback]ModelCheckpoint{'monitor': None, 'mode': 'min', 'every_n_train_steps': 0, 'every_n_epochs': 1, 'train_time_interval': None}.on_train_start          \t|  0.0            \t|  1              \t|  0.0            \t|  0.0            \t|\n",
      "|  [LightningModule]GuitarTokenEmbeddingModel.on_train_start                                                                                                     \t|  0.0            \t|  1              \t|  0.0            \t|  0.0            \t|\n",
      "|  [Strategy]SingleDeviceStrategy.on_train_start                                                                                                                 \t|  0.0            \t|  1              \t|  0.0            \t|  0.0            \t|\n",
      "|  [Callback]Timer.on_train_epoch_start                                                                                                                          \t|  0.0            \t|  1              \t|  0.0            \t|  0.0            \t|\n",
      "|  [Callback]TQDMProgressBar.on_train_epoch_start                                                                                                                \t|  0.0            \t|  1              \t|  0.0            \t|  0.0            \t|\n",
      "|  [Callback]ModelSummary.on_train_epoch_start                                                                                                                   \t|  0.0            \t|  1              \t|  0.0            \t|  0.0            \t|\n",
      "|  [Callback]ModelCheckpoint{'monitor': None, 'mode': 'min', 'every_n_train_steps': 0, 'every_n_epochs': 1, 'train_time_interval': None}.on_train_epoch_start    \t|  0.0            \t|  1              \t|  0.0            \t|  0.0            \t|\n",
      "|  [LightningModule]GuitarTokenEmbeddingModel.on_train_epoch_start                                                                                               \t|  0.0            \t|  1              \t|  0.0            \t|  0.0            \t|\n",
      "|  [LightningModule]GuitarTokenEmbeddingModel.on_before_batch_transfer                                                                                           \t|  0.0            \t|  134            \t|  0.0            \t|  0.0            \t|\n",
      "|  [LightningModule]GuitarTokenEmbeddingModel.on_after_batch_transfer                                                                                            \t|  0.0            \t|  134            \t|  0.0            \t|  0.0            \t|\n",
      "|  [Callback]Timer.on_train_batch_start                                                                                                                          \t|  0.0            \t|  134            \t|  0.0            \t|  0.0            \t|\n",
      "|  [Callback]TQDMProgressBar.on_train_batch_start                                                                                                                \t|  0.0            \t|  134            \t|  0.0            \t|  0.0            \t|\n",
      "|  [Callback]ModelSummary.on_train_batch_start                                                                                                                   \t|  0.0            \t|  134            \t|  0.0            \t|  0.0            \t|\n",
      "|  [Callback]ModelCheckpoint{'monitor': None, 'mode': 'min', 'every_n_train_steps': 0, 'every_n_epochs': 1, 'train_time_interval': None}.on_train_batch_start    \t|  0.0            \t|  134            \t|  0.0            \t|  0.0            \t|\n",
      "|  [LightningModule]GuitarTokenEmbeddingModel.on_train_batch_start                                                                                               \t|  0.0            \t|  134            \t|  0.0            \t|  0.0            \t|\n",
      "|  [Strategy]SingleDeviceStrategy.on_train_batch_start                                                                                                           \t|  0.0            \t|  134            \t|  0.0            \t|  0.0            \t|\n",
      "|  [Callback]Timer.on_before_zero_grad                                                                                                                           \t|  0.0            \t|  134            \t|  0.0            \t|  0.0            \t|\n",
      "|  [Callback]TQDMProgressBar.on_before_zero_grad                                                                                                                 \t|  0.0            \t|  134            \t|  0.0            \t|  0.0            \t|\n",
      "|  [Callback]ModelCheckpoint{'monitor': None, 'mode': 'min', 'every_n_train_steps': 0, 'every_n_epochs': 1, 'train_time_interval': None}.on_before_zero_grad     \t|  0.0            \t|  134            \t|  0.0            \t|  0.0            \t|\n",
      "|  [LightningModule]GuitarTokenEmbeddingModel.on_before_zero_grad                                                                                                \t|  0.0            \t|  134            \t|  0.0            \t|  0.0            \t|\n",
      "|  [Callback]Timer.on_before_backward                                                                                                                            \t|  0.0            \t|  134            \t|  0.0            \t|  0.0            \t|\n",
      "|  [Callback]TQDMProgressBar.on_before_backward                                                                                                                  \t|  0.0            \t|  134            \t|  0.0            \t|  0.0            \t|\n",
      "|  [Callback]ModelSummary.on_before_backward                                                                                                                     \t|  0.0            \t|  134            \t|  0.0            \t|  0.0            \t|\n",
      "|  [Callback]ModelCheckpoint{'monitor': None, 'mode': 'min', 'every_n_train_steps': 0, 'every_n_epochs': 1, 'train_time_interval': None}.on_before_backward      \t|  0.0            \t|  134            \t|  0.0            \t|  0.0            \t|\n",
      "|  [LightningModule]GuitarTokenEmbeddingModel.on_before_backward                                                                                                 \t|  0.0            \t|  134            \t|  0.0            \t|  0.0            \t|\n",
      "|  [Callback]Timer.on_after_backward                                                                                                                             \t|  0.0            \t|  134            \t|  0.0            \t|  0.0            \t|\n",
      "|  [Callback]TQDMProgressBar.on_after_backward                                                                                                                   \t|  0.0            \t|  134            \t|  0.0            \t|  0.0            \t|\n",
      "|  [Callback]ModelSummary.on_after_backward                                                                                                                      \t|  0.0            \t|  134            \t|  0.0            \t|  0.0            \t|\n",
      "|  [Callback]ModelCheckpoint{'monitor': None, 'mode': 'min', 'every_n_train_steps': 0, 'every_n_epochs': 1, 'train_time_interval': None}.on_after_backward       \t|  0.0            \t|  134            \t|  0.0            \t|  0.0            \t|\n",
      "|  [LightningModule]GuitarTokenEmbeddingModel.on_after_backward                                                                                                  \t|  0.0            \t|  134            \t|  0.0            \t|  0.0            \t|\n",
      "|  [Callback]Timer.on_before_optimizer_step                                                                                                                      \t|  0.0            \t|  134            \t|  0.0            \t|  0.0            \t|\n",
      "|  [Callback]TQDMProgressBar.on_before_optimizer_step                                                                                                            \t|  0.0            \t|  134            \t|  0.0            \t|  0.0            \t|\n",
      "|  [Callback]ModelSummary.on_before_optimizer_step                                                                                                               \t|  0.0            \t|  134            \t|  0.0            \t|  0.0            \t|\n",
      "|  [Callback]ModelCheckpoint{'monitor': None, 'mode': 'min', 'every_n_train_steps': 0, 'every_n_epochs': 1, 'train_time_interval': None}.on_before_optimizer_step\t|  0.0            \t|  134            \t|  0.0            \t|  0.0            \t|\n",
      "|  [LightningModule]GuitarTokenEmbeddingModel.on_before_optimizer_step                                                                                           \t|  0.0            \t|  134            \t|  0.0            \t|  0.0            \t|\n",
      "|  [LightningModule]GuitarTokenEmbeddingModel.configure_gradient_clipping                                                                                        \t|  0.0            \t|  134            \t|  0.0            \t|  0.0            \t|\n",
      "|  [Callback]Timer.on_train_batch_end                                                                                                                            \t|  0.0            \t|  134            \t|  0.0            \t|  0.0            \t|\n",
      "|  [Callback]ModelSummary.on_train_batch_end                                                                                                                     \t|  0.0            \t|  134            \t|  0.0            \t|  0.0            \t|\n",
      "|  [Callback]ModelCheckpoint{'monitor': None, 'mode': 'min', 'every_n_train_steps': 0, 'every_n_epochs': 1, 'train_time_interval': None}.on_train_batch_end      \t|  0.0            \t|  134            \t|  0.0            \t|  0.0            \t|\n",
      "|  [LightningModule]GuitarTokenEmbeddingModel.on_train_batch_end                                                                                                 \t|  0.0            \t|  134            \t|  0.0            \t|  0.0            \t|\n",
      "|  [Callback]Timer.on_train_epoch_end                                                                                                                            \t|  0.0            \t|  1              \t|  0.0            \t|  0.0            \t|\n",
      "|  [Callback]TQDMProgressBar.on_train_epoch_end                                                                                                                  \t|  0.0            \t|  1              \t|  0.0            \t|  0.0            \t|\n",
      "|  [Callback]ModelSummary.on_train_epoch_end                                                                                                                     \t|  0.0            \t|  1              \t|  0.0            \t|  0.0            \t|\n",
      "|  [LightningModule]GuitarTokenEmbeddingModel.on_train_epoch_end                                                                                                 \t|  0.0            \t|  1              \t|  0.0            \t|  0.0            \t|\n",
      "|  [Callback]Timer.on_save_checkpoint                                                                                                                            \t|  0.0            \t|  1              \t|  0.0            \t|  0.0            \t|\n",
      "|  [Callback]TQDMProgressBar.on_save_checkpoint                                                                                                                  \t|  0.0            \t|  1              \t|  0.0            \t|  0.0            \t|\n",
      "|  [Callback]ModelSummary.on_save_checkpoint                                                                                                                     \t|  0.0            \t|  1              \t|  0.0            \t|  0.0            \t|\n",
      "|  [Callback]ModelCheckpoint{'monitor': None, 'mode': 'min', 'every_n_train_steps': 0, 'every_n_epochs': 1, 'train_time_interval': None}.on_save_checkpoint      \t|  0.0            \t|  1              \t|  0.0            \t|  0.0            \t|\n",
      "|  [LightningModule]GuitarTokenEmbeddingModel.on_save_checkpoint                                                                                                 \t|  0.0            \t|  1              \t|  0.0            \t|  0.0            \t|\n",
      "|  [Callback]Timer.on_train_end                                                                                                                                  \t|  0.0            \t|  1              \t|  0.0            \t|  0.0            \t|\n",
      "|  [Callback]TQDMProgressBar.on_train_end                                                                                                                        \t|  0.0            \t|  1              \t|  0.0            \t|  0.0            \t|\n",
      "|  [Callback]ModelSummary.on_train_end                                                                                                                           \t|  0.0            \t|  1              \t|  0.0            \t|  0.0            \t|\n",
      "|  [Callback]ModelCheckpoint{'monitor': None, 'mode': 'min', 'every_n_train_steps': 0, 'every_n_epochs': 1, 'train_time_interval': None}.on_train_end            \t|  0.0            \t|  1              \t|  0.0            \t|  0.0            \t|\n",
      "|  [LightningModule]GuitarTokenEmbeddingModel.on_train_end                                                                                                       \t|  0.0            \t|  1              \t|  0.0            \t|  0.0            \t|\n",
      "|  [Strategy]SingleDeviceStrategy.on_train_end                                                                                                                   \t|  0.0            \t|  1              \t|  0.0            \t|  0.0            \t|\n",
      "|  [Callback]Timer.on_fit_end                                                                                                                                    \t|  0.0            \t|  1              \t|  0.0            \t|  0.0            \t|\n",
      "|  [Callback]TQDMProgressBar.on_fit_end                                                                                                                          \t|  0.0            \t|  1              \t|  0.0            \t|  0.0            \t|\n",
      "|  [Callback]ModelSummary.on_fit_end                                                                                                                             \t|  0.0            \t|  1              \t|  0.0            \t|  0.0            \t|\n",
      "|  [Callback]ModelCheckpoint{'monitor': None, 'mode': 'min', 'every_n_train_steps': 0, 'every_n_epochs': 1, 'train_time_interval': None}.on_fit_end              \t|  0.0            \t|  1              \t|  0.0            \t|  0.0            \t|\n",
      "|  [LightningModule]GuitarTokenEmbeddingModel.on_fit_end                                                                                                         \t|  0.0            \t|  1              \t|  0.0            \t|  0.0            \t|\n",
      "|  [Callback]Timer.teardown                                                                                                                                      \t|  0.0            \t|  1              \t|  0.0            \t|  0.0            \t|\n",
      "|  [Callback]TQDMProgressBar.teardown                                                                                                                            \t|  0.0            \t|  1              \t|  0.0            \t|  0.0            \t|\n",
      "|  [Callback]ModelSummary.teardown                                                                                                                               \t|  0.0            \t|  1              \t|  0.0            \t|  0.0            \t|\n",
      "|  [Callback]ModelCheckpoint{'monitor': None, 'mode': 'min', 'every_n_train_steps': 0, 'every_n_epochs': 1, 'train_time_interval': None}.teardown                \t|  0.0            \t|  1              \t|  0.0            \t|  0.0            \t|\n",
      "|  [LightningModule]GuitarTokenEmbeddingModel.teardown                                                                                                           \t|  0.0            \t|  1              \t|  0.0            \t|  0.0            \t|\n",
      "---------------------------------------------------------------------------------------------------------------------------------------------------------------------------------------------------------------------------------------------------------------------------\n",
      "\n"
     ]
    }
   ],
   "source": [
    "model = GuitarTokenEmbeddingModel(vocab_size=dataset.getVocabSize())\n",
    "\n",
    "# wandb_logger = WandbLogger(project=wandbProject)\n",
    "# wandb_logger.experiment.config.update(dataset.meta_data)\n",
    "# wandb_logger.experiment.config[\"batchSize\"] = batchSize\n",
    "trainer = Trainer(\n",
    "    max_epochs=5,\n",
    "    profiler=\"simple\",\n",
    "    # precision=\"bf16\",\n",
    "    # logger=wandb_logger,\n",
    "    max_time=\"00:00:01:00\"\n",
    ")\n",
    "\n",
    "trainer.fit(model=model, train_dataloaders=train_dl)"
   ]
  },
  {
   "cell_type": "code",
   "execution_count": null,
   "id": "81256433cd4f2565",
   "metadata": {
    "collapsed": false,
    "jupyter": {
     "outputs_hidden": false
    }
   },
   "outputs": [],
   "source": [
    "trainer.test(model, dataloaders=test_pipe)"
   ]
  },
  {
   "cell_type": "code",
   "execution_count": null,
   "id": "3c4343cddc3d269b",
   "metadata": {
    "collapsed": false,
    "jupyter": {
     "outputs_hidden": false
    }
   },
   "outputs": [],
   "source": []
  }
 ],
 "metadata": {
  "kernelspec": {
   "display_name": "Python 3 (ipykernel)",
   "language": "python",
   "name": "python3"
  },
  "language_info": {
   "codemirror_mode": {
    "name": "ipython",
    "version": 3
   },
   "file_extension": ".py",
   "mimetype": "text/x-python",
   "name": "python",
   "nbconvert_exporter": "python",
   "pygments_lexer": "ipython3",
   "version": "3.11.5"
  }
 },
 "nbformat": 4,
 "nbformat_minor": 5
}
