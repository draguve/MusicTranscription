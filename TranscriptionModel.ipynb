{
 "cells": [
  {
   "cell_type": "code",
   "execution_count": 1,
   "id": "initial_id",
   "metadata": {
    "ExecuteTime": {
     "end_time": "2023-09-29T05:31:38.141010Z",
     "start_time": "2023-09-29T05:31:10.818924800Z"
    },
    "tags": []
   },
   "outputs": [
    {
     "name": "stdout",
     "output_type": "stream",
     "text": [
      "[2023-09-29 14:27:08,850] [INFO] [real_accelerator.py:158:get_accelerator] Setting ds_accelerator to cuda (auto detect)\n"
     ]
    }
   ],
   "source": [
    "%matplotlib inline\n",
    "%config InlineBackend.figure_format = 'retina'\n",
    "from TModel.TransformerModel import TranscriptionTransformerModel\n",
    "from Tokenizer.loaderH5 import H5GuitarTokenizer\n",
    "from lightning.pytorch.callbacks import ModelCheckpoint\n",
    "from torch.utils.data import DataLoader\n",
    "from lightning.pytorch.loggers import WandbLogger\n",
    "from TUtils import random_string\n",
    "import lightning.pytorch as pl\n",
    "from lightning import Trainer\n",
    "import torch\n",
    "from TranscriptionDataset import TranscriptionDataset\n",
    "from TModel.Retnet.TranscriptionModel import TranscriptionRetnetModel\n",
    "torch.set_float32_matmul_precision('medium')\n",
    "import importlib\n",
    "if importlib.util.find_spec('deepspeed'):\n",
    "    from lightning.pytorch.strategies import DeepSpeedStrategy\n",
    "    import deepspeed\n",
    "    from deepspeed.ops.adam import DeepSpeedCPUAdam, FusedAdam"
   ]
  },
  {
   "cell_type": "code",
   "execution_count": 2,
   "id": "98c0109df4c3bf46",
   "metadata": {
    "ExecuteTime": {
     "end_time": "2023-09-29T05:31:38.151446300Z",
     "start_time": "2023-09-29T05:31:38.151446300Z"
    },
    "collapsed": false,
    "jupyter": {
     "outputs_hidden": false
    },
    "tags": []
   },
   "outputs": [],
   "source": [
    "datasetLocation = \"Trainsets/S_Tier_1695619803_mTokens400_mNoS5.hdf5\"\n",
    "wandbProject = \"TranscriptionModel_Test\"\n",
    "batchSize = 4\n",
    "num_workers = 2"
   ]
  },
  {
   "cell_type": "code",
   "execution_count": 3,
   "id": "af2fe4b8411116a7",
   "metadata": {
    "ExecuteTime": {
     "end_time": "2023-09-29T05:31:38.927935200Z",
     "start_time": "2023-09-29T05:31:38.151446300Z"
    },
    "collapsed": false,
    "jupyter": {
     "outputs_hidden": false
    },
    "tags": []
   },
   "outputs": [
    {
     "name": "stderr",
     "output_type": "stream",
     "text": [
      "/home/draguve/miniconda3/envs/pytorch/lib/python3.10/site-packages/torch/utils/data/datapipes/utils/common.py:137: UserWarning: Local function is not supported by pickle, please use regular python function or functools.partial instead.\n",
      "  warnings.warn(\n"
     ]
    }
   ],
   "source": [
    "dataset,pipe = TranscriptionDataset.getDataPipe(\n",
    "    datasetLocation,\n",
    "    batchSize,\n",
    "    batchFirst=True\n",
    ")\n",
    "train_pipe,test_pipe = pipe.random_split({\"train\":0.8,\"test\":0.2},42,total_length=len(dataset))\n",
    "\n",
    "train_dl = DataLoader(dataset=train_pipe,batch_size=None,num_workers=num_workers)\n",
    "test_dl = DataLoader(dataset=test_pipe, batch_size=batchSize,num_workers=num_workers)"
   ]
  },
  {
   "cell_type": "code",
   "execution_count": 5,
   "id": "2cbcd4ed084603e0",
   "metadata": {
    "ExecuteTime": {
     "end_time": "2023-09-28T23:16:17.509925700Z",
     "start_time": "2023-09-28T23:16:17.130710900Z"
    },
    "collapsed": false,
    "jupyter": {
     "outputs_hidden": false
    },
    "tags": []
   },
   "outputs": [],
   "source": [
    "model = TranscriptionRetnetModel(\n",
    "    dataset.getVocabSize(),\n",
    "    d_model=512,\n",
    "    d_ff=2048,\n",
    "    lr_init=5e-6\n",
    "    # embeddingCheckpoint=\"Models/GuitarToken/Max2Length.ckpt\"\n",
    ")\n",
    "try:\n",
    "    torch.compile(model)\n",
    "except Error:\n",
    "    print(\"Could not compile model with jit\")"
   ]
  },
  {
   "cell_type": "code",
   "execution_count": null,
   "id": "83581c2e78cdfba0",
   "metadata": {
    "ExecuteTime": {
     "end_time": "2023-09-28T23:16:46.480736700Z",
     "start_time": "2023-09-28T23:16:17.509925700Z"
    },
    "collapsed": false,
    "jupyter": {
     "outputs_hidden": false
    },
    "tags": []
   },
   "outputs": [
    {
     "name": "stderr",
     "output_type": "stream",
     "text": [
      "Failed to detect the name of this notebook, you can set it manually with the WANDB_NOTEBOOK_NAME environment variable to enable code saving.\n",
      "\u001b[34m\u001b[1mwandb\u001b[0m: Currently logged in as: \u001b[33mdraguve\u001b[0m. Use \u001b[1m`wandb login --relogin`\u001b[0m to force relogin\n"
     ]
    }
   ],
   "source": [
    "wandb_logger = WandbLogger(project=wandbProject)\n",
    "wandb_logger.experiment.config.update(dataset.meta_data)\n",
    "wandb_logger.experiment.config[\"batchSize\"] = batchSize\n",
    "\n",
    "checkpoint_callback = ModelCheckpoint(\n",
    "    monitor='train_loss',\n",
    "    dirpath=f'Models/GuitarTranscription/{random_string(10)}/',\n",
    "    filename='GuitarTranscriptionModel-{epoch:02d}-{train_loss:.2f}',\n",
    "    every_n_train_steps=1000,\n",
    "    save_top_k=3,\n",
    "    mode='min',\n",
    ")\n",
    "\n",
    "# strategy=DeepSpeedStrategy(offload_optimizer=True, allgather_bucket_size=5e8, reduce_bucket_size=5e8)\n",
    "\n",
    "trainer = Trainer(\n",
    "    default_root_dir='Models/',\n",
    "    max_epochs=5,\n",
    "    # profiler=\"simple\",\n",
    "    # strategy=strategy,\n",
    "    # profiler=\"pytorch\",\n",
    "    # logger=wandb_logger,\n",
    "    # callbacks=[checkpoint_callback],\n",
    "    max_time=\"00:00:05:00\",\n",
    "    precision=\"bf16-mixed\",\n",
    ")"
   ]
  },
  {
   "cell_type": "code",
   "execution_count": 7,
   "id": "f1bee6ff0571423b",
   "metadata": {
    "ExecuteTime": {
     "end_time": "2023-09-28T23:18:18.001631200Z",
     "start_time": "2023-09-28T23:16:55.464356400Z"
    },
    "collapsed": false,
    "jupyter": {
     "outputs_hidden": false
    },
    "tags": []
   },
   "outputs": [
    {
     "name": "stderr",
     "output_type": "stream",
     "text": [
      "/home/draguve/miniconda3/envs/pytorch/lib/python3.10/site-packages/lightning/pytorch/callbacks/model_checkpoint.py:617: UserWarning: Checkpoint directory Models/lightning_logs/version_28/checkpoints exists and is not empty.\n",
      "  rank_zero_warn(f\"Checkpoint directory {dirpath} exists and is not empty.\")\n",
      "LOCAL_RANK: 0 - CUDA_VISIBLE_DEVICES: [0]\n",
      "Using /home/draguve/.cache/torch_extensions/py310_cu117 as PyTorch extensions root...\n",
      "No modifications detected for re-loaded extension module fused_adam, skipping build step...\n",
      "Loading extension module fused_adam...\n",
      "Time limit reached. Elapsed time is 0:05:04. Signaling Trainer to stop.\n",
      "\n",
      "  | Name          | Type                | Params\n",
      "------------------------------------------------------\n",
      "0 | encoder       | RetnetEncoderLayers | 20.5 M\n",
      "1 | decoder       | RetnetDecoderLayers | 28.4 M\n",
      "2 | tgt_embedding | Embedding           | 3.1 M \n",
      "3 | outputLinear  | Linear              | 3.1 M \n",
      "4 | loss          | CrossEntropyLoss    | 0     \n",
      "------------------------------------------------------\n",
      "55.1 M    Trainable params\n",
      "144       Non-trainable params\n",
      "55.1 M    Total params\n",
      "220.496   Total estimated model params size (MB)\n"
     ]
    },
    {
     "name": "stdout",
     "output_type": "stream",
     "text": [
      "Time to load fused_adam op: 0.0016117095947265625 seconds\n"
     ]
    },
    {
     "name": "stderr",
     "output_type": "stream",
     "text": [
      "FIT Profiler Report\n",
      "\n",
      "--------------------------------------------------------------------------------------------------------------------------------------------------------------------------------------------------------------------------------------------------------------------------\n",
      "|  Action                                                                                                                                                        \t|  Mean duration (s)\t|  Num calls      \t|  Total time (s) \t|  Percentage %   \t|\n",
      "--------------------------------------------------------------------------------------------------------------------------------------------------------------------------------------------------------------------------------------------------------------------------\n",
      "|  Total                                                                                                                                                         \t|  -              \t|  100162         \t|  431.42         \t|  100 %          \t|\n",
      "--------------------------------------------------------------------------------------------------------------------------------------------------------------------------------------------------------------------------------------------------------------------------\n",
      "|  run_training_epoch                                                                                                                                            \t|  300.03         \t|  1              \t|  300.03         \t|  69.545         \t|\n",
      "|  run_training_batch                                                                                                                                            \t|  0.10456        \t|  2383           \t|  249.16         \t|  57.755         \t|\n",
      "|  [LightningModule]TranscriptionRetnetModel.optimizer_step                                                                                                      \t|  0.10368        \t|  2383           \t|  247.06         \t|  57.268         \t|\n",
      "|  [Strategy]SingleDeviceStrategy.training_step                                                                                                                  \t|  0.057372       \t|  2383           \t|  136.72         \t|  31.69          \t|\n",
      "|  [Strategy]SingleDeviceStrategy.backward                                                                                                                       \t|  0.04399        \t|  2383           \t|  104.83         \t|  24.299         \t|\n",
      "|  [LightningModule]TranscriptionRetnetModel.configure_optimizers                                                                                                \t|  18.55          \t|  2              \t|  37.1           \t|  8.5996         \t|\n",
      "|  [_TrainingEpochLoop].train_dataloader_next                                                                                                                    \t|  0.013819       \t|  2383           \t|  32.931         \t|  7.6333         \t|\n",
      "|  [Callback]TQDMProgressBar.on_train_batch_end                                                                                                                  \t|  0.0043558      \t|  2383           \t|  10.38          \t|  2.406          \t|\n",
      "|  [Callback]ModelCheckpoint{'monitor': None, 'mode': 'min', 'every_n_train_steps': 0, 'every_n_epochs': 1, 'train_time_interval': None}.on_train_epoch_end      \t|  4.7917         \t|  1              \t|  4.7917         \t|  1.1107         \t|\n",
      "|  [Strategy]SingleDeviceStrategy.batch_to_device                                                                                                                \t|  0.00075853     \t|  2383           \t|  1.8076         \t|  0.41899        \t|\n",
      "|  [LightningModule]TranscriptionRetnetModel.transfer_batch_to_device                                                                                            \t|  0.00069678     \t|  2383           \t|  1.6604         \t|  0.38488        \t|\n",
      "|  [LightningModule]TranscriptionRetnetModel.optimizer_zero_grad                                                                                                 \t|  0.00040556     \t|  2383           \t|  0.96645        \t|  0.22402        \t|\n",
      "|  [LightningModule]TranscriptionRetnetModel.configure_gradient_clipping                                                                                         \t|  3.5598e-05     \t|  2383           \t|  0.084831       \t|  0.019663       \t|\n",
      "|  [Callback]ModelCheckpoint{'monitor': None, 'mode': 'min', 'every_n_train_steps': 0, 'every_n_epochs': 1, 'train_time_interval': None}.on_train_batch_end      \t|  3.3455e-05     \t|  2383           \t|  0.079723       \t|  0.018479       \t|\n",
      "|  [Callback]Timer.on_train_batch_end                                                                                                                            \t|  3.2427e-05     \t|  2383           \t|  0.077273       \t|  0.017912       \t|\n",
      "|  [Callback]ModelSummary.on_train_batch_end                                                                                                                     \t|  6.2211e-06     \t|  2383           \t|  0.014825       \t|  0.0034363      \t|\n",
      "|  [Callback]ModelCheckpoint{'monitor': None, 'mode': 'min', 'every_n_train_steps': 0, 'every_n_epochs': 1, 'train_time_interval': None}.setup                   \t|  0.0072426      \t|  2              \t|  0.014485       \t|  0.0033576      \t|\n",
      "|  [Callback]ModelSummary.on_fit_start                                                                                                                           \t|  0.0070094      \t|  2              \t|  0.014019       \t|  0.0032495      \t|\n",
      "|  [Callback]Timer.on_after_backward                                                                                                                             \t|  5.7969e-06     \t|  2383           \t|  0.013814       \t|  0.003202       \t|\n",
      "|  [Callback]Timer.on_before_zero_grad                                                                                                                           \t|  3.7152e-06     \t|  2383           \t|  0.0088533      \t|  0.0020521      \t|\n",
      "|  [Callback]Timer.on_train_batch_start                                                                                                                          \t|  3.2894e-06     \t|  2383           \t|  0.0078386      \t|  0.001817       \t|\n",
      "|  [LightningModule]TranscriptionRetnetModel.on_before_batch_transfer                                                                                            \t|  3.1263e-06     \t|  2383           \t|  0.0074499      \t|  0.0017269      \t|\n",
      "|  [Callback]Timer.on_before_optimizer_step                                                                                                                      \t|  2.1916e-06     \t|  2383           \t|  0.0052225      \t|  0.0012106      \t|\n",
      "|  [LightningModule]TranscriptionRetnetModel.on_after_batch_transfer                                                                                             \t|  2.1649e-06     \t|  2383           \t|  0.005159       \t|  0.0011958      \t|\n",
      "|  [LightningModule]TranscriptionRetnetModel.on_after_backward                                                                                                   \t|  2.0394e-06     \t|  2383           \t|  0.0048598      \t|  0.0011265      \t|\n",
      "|  [Callback]Timer.on_before_backward                                                                                                                            \t|  2.0165e-06     \t|  2383           \t|  0.0048054      \t|  0.0011139      \t|\n",
      "|  [LightningModule]TranscriptionRetnetModel.on_train_batch_start                                                                                                \t|  1.746e-06      \t|  2383           \t|  0.0041608      \t|  0.00096446     \t|\n",
      "|  [LightningModule]TranscriptionRetnetModel.on_before_zero_grad                                                                                                 \t|  1.7444e-06     \t|  2383           \t|  0.0041568      \t|  0.00096353     \t|\n",
      "|  [Callback]TQDMProgressBar.on_after_backward                                                                                                                   \t|  1.7438e-06     \t|  2383           \t|  0.0041556      \t|  0.00096324     \t|\n",
      "|  [LightningModule]TranscriptionRetnetModel.on_train_batch_end                                                                                                  \t|  1.6388e-06     \t|  2383           \t|  0.0039054      \t|  0.00090524     \t|\n",
      "|  [Callback]ModelCheckpoint{'monitor': None, 'mode': 'min', 'every_n_train_steps': 0, 'every_n_epochs': 1, 'train_time_interval': None}.on_after_backward       \t|  1.4969e-06     \t|  2383           \t|  0.0035671      \t|  0.00082683     \t|\n",
      "|  [Callback]TQDMProgressBar.on_before_zero_grad                                                                                                                 \t|  1.3259e-06     \t|  2383           \t|  0.0031597      \t|  0.0007324      \t|\n",
      "|  [Callback]TQDMProgressBar.on_train_batch_start                                                                                                                \t|  1.2926e-06     \t|  2383           \t|  0.0030802      \t|  0.00071398     \t|\n",
      "|  [Callback]TQDMProgressBar.on_before_optimizer_step                                                                                                            \t|  1.2272e-06     \t|  2383           \t|  0.0029243      \t|  0.00067785     \t|\n",
      "|  [Callback]TQDMProgressBar.on_train_start                                                                                                                      \t|  0.002896       \t|  1              \t|  0.002896       \t|  0.00067128     \t|\n",
      "|  [Callback]ModelSummary.on_before_zero_grad                                                                                                                    \t|  1.1963e-06     \t|  2383           \t|  0.0028508      \t|  0.00066079     \t|\n",
      "|  [LightningModule]TranscriptionRetnetModel.on_before_backward                                                                                                  \t|  1.1719e-06     \t|  2383           \t|  0.0027927      \t|  0.00064733     \t|\n",
      "|  [Strategy]SingleDeviceStrategy.on_train_batch_start                                                                                                           \t|  1.1578e-06     \t|  2383           \t|  0.0027591      \t|  0.00063956     \t|\n",
      "|  [Callback]ModelCheckpoint{'monitor': None, 'mode': 'min', 'every_n_train_steps': 0, 'every_n_epochs': 1, 'train_time_interval': None}.on_before_zero_grad     \t|  1.1362e-06     \t|  2383           \t|  0.0027075      \t|  0.0006276      \t|\n",
      "|  [Callback]ModelSummary.on_train_batch_start                                                                                                                   \t|  1.1347e-06     \t|  2383           \t|  0.0027041      \t|  0.00062679     \t|\n",
      "|  [Callback]ModelCheckpoint{'monitor': None, 'mode': 'min', 'every_n_train_steps': 0, 'every_n_epochs': 1, 'train_time_interval': None}.on_train_batch_start    \t|  1.1221e-06     \t|  2383           \t|  0.002674       \t|  0.00061982     \t|\n",
      "|  [Callback]ModelSummary.on_before_backward                                                                                                                     \t|  1.096e-06      \t|  2383           \t|  0.0026118      \t|  0.0006054      \t|\n",
      "|  [Callback]ModelSummary.on_after_backward                                                                                                                      \t|  1.088e-06      \t|  2383           \t|  0.0025927      \t|  0.00060098     \t|\n",
      "|  [Callback]ModelSummary.on_before_optimizer_step                                                                                                               \t|  1.062e-06      \t|  2383           \t|  0.0025306      \t|  0.00058659     \t|\n",
      "|  [Callback]TQDMProgressBar.on_before_backward                                                                                                                  \t|  1.0417e-06     \t|  2383           \t|  0.0024823      \t|  0.00057538     \t|\n",
      "|  [Callback]ModelCheckpoint{'monitor': None, 'mode': 'min', 'every_n_train_steps': 0, 'every_n_epochs': 1, 'train_time_interval': None}.on_before_optimizer_step\t|  1.0016e-06     \t|  2383           \t|  0.0023867      \t|  0.00055324     \t|\n",
      "|  [Callback]ModelCheckpoint{'monitor': None, 'mode': 'min', 'every_n_train_steps': 0, 'every_n_epochs': 1, 'train_time_interval': None}.on_before_backward      \t|  9.6986e-07     \t|  2383           \t|  0.0023112      \t|  0.00053572     \t|\n",
      "|  [LightningModule]TranscriptionRetnetModel.on_before_optimizer_step                                                                                            \t|  9.5003e-07     \t|  2383           \t|  0.0022639      \t|  0.00052477     \t|\n",
      "|  [Callback]TQDMProgressBar.on_train_end                                                                                                                        \t|  0.0014113      \t|  1              \t|  0.0014113      \t|  0.00032714     \t|\n",
      "|  [Callback]TQDMProgressBar.on_train_epoch_end                                                                                                                  \t|  0.0013167      \t|  1              \t|  0.0013167      \t|  0.0003052      \t|\n",
      "|  [Callback]TQDMProgressBar.on_train_epoch_start                                                                                                                \t|  0.0010388      \t|  1              \t|  0.0010388      \t|  0.00024079     \t|\n",
      "|  [Callback]Timer.on_fit_start                                                                                                                                  \t|  0.00036072     \t|  2              \t|  0.00072143     \t|  0.00016723     \t|\n",
      "|  [LightningModule]TranscriptionRetnetModel.configure_callbacks                                                                                                 \t|  7.885e-06      \t|  2              \t|  1.577e-05      \t|  3.6554e-06     \t|\n",
      "|  [LightningModule]TranscriptionRetnetModel.on_train_end                                                                                                        \t|  1.4446e-05     \t|  1              \t|  1.4446e-05     \t|  3.3485e-06     \t|\n",
      "|  [Callback]TQDMProgressBar.setup                                                                                                                               \t|  7.0535e-06     \t|  2              \t|  1.4107e-05     \t|  3.2699e-06     \t|\n",
      "|  [Callback]Timer.setup                                                                                                                                         \t|  6.6175e-06     \t|  2              \t|  1.3235e-05     \t|  3.0678e-06     \t|\n",
      "|  [Callback]Timer.on_train_end                                                                                                                                  \t|  1.0279e-05     \t|  1              \t|  1.0279e-05     \t|  2.3826e-06     \t|\n",
      "|  [Callback]Timer.on_fit_end                                                                                                                                    \t|  4.904e-06      \t|  2              \t|  9.808e-06      \t|  2.2734e-06     \t|\n",
      "|  [Callback]ModelCheckpoint{'monitor': None, 'mode': 'min', 'every_n_train_steps': 0, 'every_n_epochs': 1, 'train_time_interval': None}.on_fit_start            \t|  4.724e-06      \t|  2              \t|  9.448e-06      \t|  2.19e-06       \t|\n",
      "|  [Callback]Timer.on_train_epoch_end                                                                                                                            \t|  9.007e-06      \t|  1              \t|  9.007e-06      \t|  2.0878e-06     \t|\n",
      "|  [LightningModule]TranscriptionRetnetModel.prepare_data                                                                                                        \t|  4.0525e-06     \t|  2              \t|  8.105e-06      \t|  1.8787e-06     \t|\n",
      "|  [Callback]Timer.on_train_start                                                                                                                                \t|  7.644e-06      \t|  1              \t|  7.644e-06      \t|  1.7718e-06     \t|\n",
      "|  [LightningModule]TranscriptionRetnetModel.setup                                                                                                               \t|  3.186e-06      \t|  2              \t|  6.372e-06      \t|  1.477e-06      \t|\n",
      "|  [Callback]TQDMProgressBar.on_fit_start                                                                                                                        \t|  2.665e-06      \t|  2              \t|  5.33e-06       \t|  1.2355e-06     \t|\n",
      "|  [Callback]ModelSummary.on_train_end                                                                                                                           \t|  4.779e-06      \t|  1              \t|  4.779e-06      \t|  1.1077e-06     \t|\n",
      "|  [Callback]Timer.on_save_checkpoint                                                                                                                            \t|  4.548e-06      \t|  1              \t|  4.548e-06      \t|  1.0542e-06     \t|\n",
      "|  [LightningModule]TranscriptionRetnetModel.configure_sharded_model                                                                                             \t|  2.1595e-06     \t|  2              \t|  4.319e-06      \t|  1.0011e-06     \t|\n",
      "|  [Callback]ModelSummary.on_train_start                                                                                                                         \t|  4.038e-06      \t|  1              \t|  4.038e-06      \t|  9.3599e-07     \t|\n",
      "|  [Callback]ModelSummary.on_train_epoch_start                                                                                                                   \t|  3.907e-06      \t|  1              \t|  3.907e-06      \t|  9.0562e-07     \t|\n",
      "|  [LightningModule]TranscriptionRetnetModel.on_fit_end                                                                                                          \t|  1.9185e-06     \t|  2              \t|  3.837e-06      \t|  8.894e-07      \t|\n",
      "|  [Callback]Timer.teardown                                                                                                                                      \t|  1.8385e-06     \t|  2              \t|  3.677e-06      \t|  8.5231e-07     \t|\n",
      "|  [Callback]ModelSummary.on_train_epoch_end                                                                                                                     \t|  3.256e-06      \t|  1              \t|  3.256e-06      \t|  7.5473e-07     \t|\n",
      "|  [LightningModule]TranscriptionRetnetModel.on_fit_start                                                                                                        \t|  1.608e-06      \t|  2              \t|  3.216e-06      \t|  7.4545e-07     \t|\n",
      "|  [Callback]ModelSummary.setup                                                                                                                                  \t|  1.4775e-06     \t|  2              \t|  2.955e-06      \t|  6.8496e-07     \t|\n",
      "|  [LightningModule]TranscriptionRetnetModel.teardown                                                                                                            \t|  1.2675e-06     \t|  2              \t|  2.535e-06      \t|  5.876e-07      \t|\n",
      "|  [Callback]TQDMProgressBar.on_fit_end                                                                                                                          \t|  1.1225e-06     \t|  2              \t|  2.245e-06      \t|  5.2038e-07     \t|\n",
      "|  [Callback]TQDMProgressBar.teardown                                                                                                                            \t|  1.072e-06      \t|  2              \t|  2.144e-06      \t|  4.9697e-07     \t|\n",
      "|  [Callback]Timer.on_train_epoch_start                                                                                                                          \t|  1.964e-06      \t|  1              \t|  1.964e-06      \t|  4.5525e-07     \t|\n",
      "|  [Callback]ModelCheckpoint{'monitor': None, 'mode': 'min', 'every_n_train_steps': 0, 'every_n_epochs': 1, 'train_time_interval': None}.on_train_start          \t|  1.923e-06      \t|  1              \t|  1.923e-06      \t|  4.4574e-07     \t|\n",
      "|  [Callback]ModelCheckpoint{'monitor': None, 'mode': 'min', 'every_n_train_steps': 0, 'every_n_epochs': 1, 'train_time_interval': None}.teardown                \t|  9.575e-07      \t|  2              \t|  1.915e-06      \t|  4.4389e-07     \t|\n",
      "|  [Callback]ModelCheckpoint{'monitor': None, 'mode': 'min', 'every_n_train_steps': 0, 'every_n_epochs': 1, 'train_time_interval': None}.on_fit_end              \t|  9.47e-07       \t|  2              \t|  1.894e-06      \t|  4.3902e-07     \t|\n",
      "|  [LightningModule]TranscriptionRetnetModel.on_train_start                                                                                                      \t|  1.884e-06      \t|  1              \t|  1.884e-06      \t|  4.367e-07      \t|\n",
      "|  [Callback]ModelSummary.on_fit_end                                                                                                                             \t|  9.17e-07       \t|  2              \t|  1.834e-06      \t|  4.2511e-07     \t|\n",
      "|  [Callback]ModelSummary.teardown                                                                                                                               \t|  8.92e-07       \t|  2              \t|  1.784e-06      \t|  4.1352e-07     \t|\n",
      "|  [LightningModule]TranscriptionRetnetModel.on_train_epoch_end                                                                                                  \t|  1.623e-06      \t|  1              \t|  1.623e-06      \t|  3.762e-07      \t|\n",
      "|  [Strategy]SingleDeviceStrategy.on_train_start                                                                                                                 \t|  1.462e-06      \t|  1              \t|  1.462e-06      \t|  3.3888e-07     \t|\n",
      "|  [Callback]ModelCheckpoint{'monitor': None, 'mode': 'min', 'every_n_train_steps': 0, 'every_n_epochs': 1, 'train_time_interval': None}.on_train_end            \t|  1.362e-06      \t|  1              \t|  1.362e-06      \t|  3.157e-07      \t|\n",
      "|  [Callback]TQDMProgressBar.on_save_checkpoint                                                                                                                  \t|  1.333e-06      \t|  1              \t|  1.333e-06      \t|  3.0898e-07     \t|\n",
      "|  [Strategy]SingleDeviceStrategy.on_train_end                                                                                                                   \t|  1.302e-06      \t|  1              \t|  1.302e-06      \t|  3.018e-07      \t|\n",
      "|  [LightningModule]TranscriptionRetnetModel.on_train_epoch_start                                                                                                \t|  1.222e-06      \t|  1              \t|  1.222e-06      \t|  2.8325e-07     \t|\n",
      "|  [Callback]ModelCheckpoint{'monitor': None, 'mode': 'min', 'every_n_train_steps': 0, 'every_n_epochs': 1, 'train_time_interval': None}.on_save_checkpoint      \t|  1.172e-06      \t|  1              \t|  1.172e-06      \t|  2.7166e-07     \t|\n",
      "|  [Callback]ModelSummary.on_save_checkpoint                                                                                                                     \t|  1.162e-06      \t|  1              \t|  1.162e-06      \t|  2.6935e-07     \t|\n",
      "|  [LightningModule]TranscriptionRetnetModel.on_save_checkpoint                                                                                                  \t|  1.152e-06      \t|  1              \t|  1.152e-06      \t|  2.6703e-07     \t|\n",
      "|  [Callback]ModelCheckpoint{'monitor': None, 'mode': 'min', 'every_n_train_steps': 0, 'every_n_epochs': 1, 'train_time_interval': None}.on_train_epoch_start    \t|  1.012e-06      \t|  1              \t|  1.012e-06      \t|  2.3458e-07     \t|\n",
      "--------------------------------------------------------------------------------------------------------------------------------------------------------------------------------------------------------------------------------------------------------------------------\n",
      "\n"
     ]
    }
   ],
   "source": [
    "trainer.fit(model=model, train_dataloaders=train_dl)"
   ]
  },
  {
   "cell_type": "code",
   "execution_count": null,
   "id": "34b16e41-4f3a-4ed1-a2e8-4ec9230ca7f4",
   "metadata": {},
   "outputs": [],
   "source": [
    "trainer.save_checkpoint(\"Models/GuitarTranscription/5s400Tokens_1e-5/smallDataset4epochRetnetJamie.ckpt\")"
   ]
  },
  {
   "cell_type": "code",
   "execution_count": null,
   "id": "9ab6b77b042d2c9",
   "metadata": {
    "collapsed": false,
    "jupyter": {
     "outputs_hidden": false
    }
   },
   "outputs": [],
   "source": [
    "for i in tqdm(): "
   ]
  }
 ],
 "metadata": {
  "kernelspec": {
   "display_name": "Python 3 (ipykernel)",
   "language": "python",
   "name": "python3"
  },
  "language_info": {
   "codemirror_mode": {
    "name": "ipython",
    "version": 3
   },
   "file_extension": ".py",
   "mimetype": "text/x-python",
   "name": "python",
   "nbconvert_exporter": "python",
   "pygments_lexer": "ipython3",
   "version": "3.10.12"
  }
 },
 "nbformat": 4,
 "nbformat_minor": 5
}
