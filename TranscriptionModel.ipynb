{
 "cells": [
  {
   "cell_type": "code",
   "execution_count": 1,
   "id": "initial_id",
   "metadata": {
    "tags": [],
    "ExecuteTime": {
     "end_time": "2023-09-28T11:27:37.659580400Z",
     "start_time": "2023-09-28T11:27:29.931296400Z"
    }
   },
   "outputs": [],
   "source": [
    "%matplotlib inline\n",
    "%config InlineBackend.figure_format = 'retina'\n",
    "from TModel.TransformerModel import TranscriptionTransformerModel\n",
    "from Tokenizer.loaderH5 import H5GuitarTokenizer\n",
    "from lightning.pytorch.callbacks import ModelCheckpoint\n",
    "from torch.utils.data import DataLoader\n",
    "from lightning.pytorch.loggers import WandbLogger\n",
    "from TUtils import random_string\n",
    "from lightning import Trainer\n",
    "import torch\n",
    "from TranscriptionDataset import TranscriptionDataset\n",
    "from TModel.Retnet.TranscriptionModel import TranscriptionRetnetModel\n",
    "torch.set_float32_matmul_precision('medium')"
   ]
  },
  {
   "cell_type": "code",
   "execution_count": 2,
   "id": "98c0109df4c3bf46",
   "metadata": {
    "collapsed": false,
    "tags": [],
    "ExecuteTime": {
     "end_time": "2023-09-28T11:27:37.664816100Z",
     "start_time": "2023-09-28T11:27:37.661581500Z"
    }
   },
   "outputs": [],
   "source": [
    "datasetLocation = \"Trainsets/S_Tier_1695619803_mTokens400_mNoS5.hdf5\"\n",
    "wandbProject = \"TranscriptionModel_Test\"\n",
    "batchSize = 4\n",
    "num_workers = 2"
   ]
  },
  {
   "cell_type": "code",
   "execution_count": 3,
   "id": "af2fe4b8411116a7",
   "metadata": {
    "collapsed": false,
    "tags": [],
    "ExecuteTime": {
     "end_time": "2023-09-28T11:27:37.989610Z",
     "start_time": "2023-09-28T11:27:37.665817100Z"
    }
   },
   "outputs": [],
   "source": [
    "dataset,pipe = TranscriptionDataset.getDataPipe(\n",
    "    datasetLocation,\n",
    "    batchSize,\n",
    "    batchFirst=True\n",
    ")\n",
    "# train_pipe,test_pipe = pipe.random_split({\"train\":0.8,\"test\":0.2},42)\n",
    "\n",
    "train_dl = DataLoader(dataset=pipe,batch_size=None,num_workers=num_workers)\n",
    "# test_dl = DataLoader(dataset=test_pipe, batch_size=batchSize,num_workers=num_workers)"
   ]
  },
  {
   "cell_type": "code",
   "execution_count": 4,
   "id": "2cbcd4ed084603e0",
   "metadata": {
    "collapsed": false,
    "tags": [],
    "ExecuteTime": {
     "end_time": "2023-09-28T11:27:38.123609200Z",
     "start_time": "2023-09-28T11:27:37.985612800Z"
    }
   },
   "outputs": [],
   "source": [
    "model = TranscriptionRetnetModel(\n",
    "    dataset.getVocabSize(),\n",
    "    d_model=512,\n",
    "    d_ff=2048,\n",
    "    # embeddingCheckpoint=\"Models/GuitarToken/Max2Length.ckpt\"\n",
    ")\n",
    "# torch.compile(model)"
   ]
  },
  {
   "cell_type": "code",
   "execution_count": 5,
   "id": "83581c2e78cdfba0",
   "metadata": {
    "collapsed": false,
    "tags": [],
    "ExecuteTime": {
     "end_time": "2023-09-28T11:27:50.671718300Z",
     "start_time": "2023-09-28T11:27:38.124609Z"
    }
   },
   "outputs": [
    {
     "name": "stderr",
     "output_type": "stream",
     "text": [
      "\u001B[34m\u001B[1mwandb\u001B[0m: Currently logged in as: \u001B[33mdraguve\u001B[0m. Use \u001B[1m`wandb login --relogin`\u001B[0m to force relogin\n"
     ]
    },
    {
     "data": {
      "text/plain": "<IPython.core.display.HTML object>",
      "text/html": "Tracking run with wandb version 0.15.11"
     },
     "metadata": {},
     "output_type": "display_data"
    },
    {
     "data": {
      "text/plain": "<IPython.core.display.HTML object>",
      "text/html": "Run data is saved locally in <code>.\\wandb\\run-20230928_165740-9bzpbxuo</code>"
     },
     "metadata": {},
     "output_type": "display_data"
    },
    {
     "data": {
      "text/plain": "<IPython.core.display.HTML object>",
      "text/html": "Syncing run <strong><a href='https://wandb.ai/draguve/TranscriptionModel_Test/runs/9bzpbxuo' target=\"_blank\">pleasant-spaceship-38</a></strong> to <a href='https://wandb.ai/draguve/TranscriptionModel_Test' target=\"_blank\">Weights & Biases</a> (<a href='https://wandb.me/run' target=\"_blank\">docs</a>)<br/>"
     },
     "metadata": {},
     "output_type": "display_data"
    },
    {
     "data": {
      "text/plain": "<IPython.core.display.HTML object>",
      "text/html": " View project at <a href='https://wandb.ai/draguve/TranscriptionModel_Test' target=\"_blank\">https://wandb.ai/draguve/TranscriptionModel_Test</a>"
     },
     "metadata": {},
     "output_type": "display_data"
    },
    {
     "data": {
      "text/plain": "<IPython.core.display.HTML object>",
      "text/html": " View run at <a href='https://wandb.ai/draguve/TranscriptionModel_Test/runs/9bzpbxuo' target=\"_blank\">https://wandb.ai/draguve/TranscriptionModel_Test/runs/9bzpbxuo</a>"
     },
     "metadata": {},
     "output_type": "display_data"
    },
    {
     "name": "stderr",
     "output_type": "stream",
     "text": [
      "GPU available: True (cuda), used: True\n",
      "TPU available: False, using: 0 TPU cores\n",
      "IPU available: False, using: 0 IPUs\n",
      "HPU available: False, using: 0 HPUs\n"
     ]
    }
   ],
   "source": [
    "wandb_logger = WandbLogger(project=wandbProject)\n",
    "wandb_logger.experiment.config.update(dataset.meta_data)\n",
    "wandb_logger.experiment.config[\"batchSize\"] = batchSize\n",
    "checkpoint_callback = ModelCheckpoint(\n",
    "    monitor='train_loss',\n",
    "    dirpath=f'Models/GuitarTranscription/{random_string(10)}/',\n",
    "    filename='GuitarTranscriptionModel-{epoch:02d}-{train_loss:.2f}',\n",
    "    every_n_train_steps=1000,\n",
    "    save_top_k=3,\n",
    "    mode='min',\n",
    ")\n",
    "trainer = Trainer(\n",
    "    default_root_dir='Models/',\n",
    "    max_epochs=5,\n",
    "    # profiler=\"simple\",\n",
    "    # profiler=\"pytorch\",\n",
    "    logger=wandb_logger,\n",
    "    callbacks=[checkpoint_callback],\n",
    "    # max_time=\"00:00:02:00\"\n",
    "    # precision=\"bf16-mixed\",    \n",
    ")"
   ]
  },
  {
   "cell_type": "code",
   "execution_count": 6,
   "id": "f1bee6ff0571423b",
   "metadata": {
    "collapsed": false,
    "tags": [],
    "ExecuteTime": {
     "end_time": "2023-09-28T11:43:39.042508500Z",
     "start_time": "2023-09-28T11:27:50.670717Z"
    }
   },
   "outputs": [
    {
     "name": "stderr",
     "output_type": "stream",
     "text": [
      "LOCAL_RANK: 0 - CUDA_VISIBLE_DEVICES: [0]\n",
      "\n",
      "  | Name          | Type                | Params\n",
      "------------------------------------------------------\n",
      "0 | encoder       | RetnetEncoderLayers | 20.5 M\n",
      "1 | decoder       | RetnetDecoderLayers | 28.4 M\n",
      "2 | tgt_embedding | Embedding           | 3.1 M \n",
      "3 | outputLinear  | Linear              | 3.1 M \n",
      "4 | loss          | CrossEntropyLoss    | 0     \n",
      "------------------------------------------------------\n",
      "55.1 M    Trainable params\n",
      "144       Non-trainable params\n",
      "55.1 M    Total params\n",
      "220.496   Total estimated model params size (MB)\n",
      "C:\\Users\\ritwi\\anaconda3\\envs\\pytorch\\Lib\\site-packages\\lightning\\pytorch\\trainer\\connectors\\data_connector.py:442: PossibleUserWarning: The dataloader, train_dataloader, does not have many workers which may be a bottleneck. Consider increasing the value of the `num_workers` argument` (try 16 which is the number of cpus on this machine) in the `DataLoader` init to improve performance.\n",
      "  rank_zero_warn(\n"
     ]
    },
    {
     "data": {
      "text/plain": "Training: 0it [00:00, ?it/s]",
      "application/vnd.jupyter.widget-view+json": {
       "version_major": 2,
       "version_minor": 0,
       "model_id": "6f7993cf348e4e539bbc39b7a9b01180"
      }
     },
     "metadata": {},
     "output_type": "display_data"
    },
    {
     "name": "stderr",
     "output_type": "stream",
     "text": [
      "C:\\Users\\ritwi\\anaconda3\\envs\\pytorch\\Lib\\site-packages\\lightning\\pytorch\\trainer\\call.py:53: UserWarning: Detected KeyboardInterrupt, attempting graceful shutdown...\n",
      "  rank_zero_warn(\"Detected KeyboardInterrupt, attempting graceful shutdown...\")\n"
     ]
    }
   ],
   "source": [
    "trainer.fit(model=model, train_dataloaders=train_dl)"
   ]
  },
  {
   "cell_type": "code",
   "execution_count": null,
   "id": "34b16e41-4f3a-4ed1-a2e8-4ec9230ca7f4",
   "metadata": {},
   "outputs": [],
   "source": [
    "trainer.save_checkpoint(\"Models/GuitarTranscription/5s400Tokens_1e-5/smallDataset4epochRetnetJamie.ckpt\")"
   ]
  },
  {
   "cell_type": "code",
   "execution_count": null,
   "id": "9ab6b77b042d2c9",
   "metadata": {
    "collapsed": false
   },
   "outputs": [],
   "source": [
    "        "
   ]
  }
 ],
 "metadata": {
  "kernelspec": {
   "display_name": "Python 3 (ipykernel)",
   "language": "python",
   "name": "python3"
  },
  "language_info": {
   "codemirror_mode": {
    "name": "ipython",
    "version": 3
   },
   "file_extension": ".py",
   "mimetype": "text/x-python",
   "name": "python",
   "nbconvert_exporter": "python",
   "pygments_lexer": "ipython3",
   "version": "3.11.5"
  }
 },
 "nbformat": 4,
 "nbformat_minor": 5
}
