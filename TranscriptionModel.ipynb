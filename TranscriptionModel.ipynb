{
 "cells": [
  {
   "cell_type": "code",
   "execution_count": 1,
   "id": "initial_id",
   "metadata": {
    "ExecuteTime": {
     "end_time": "2023-09-29T05:31:38.141010Z",
     "start_time": "2023-09-29T05:31:10.818924800Z"
    },
    "tags": []
   },
   "outputs": [
    {
     "name": "stdout",
     "output_type": "stream",
     "text": [
      "[2023-09-29 15:05:57,218] [INFO] [real_accelerator.py:158:get_accelerator] Setting ds_accelerator to cuda (auto detect)\n"
     ]
    }
   ],
   "source": [
    "%matplotlib inline\n",
    "%config InlineBackend.figure_format = 'retina'\n",
    "from TModel.TransformerModel import TranscriptionTransformerModel\n",
    "from Tokenizer.loaderH5 import H5GuitarTokenizer\n",
    "from lightning.pytorch.callbacks import ModelCheckpoint\n",
    "from torch.utils.data import DataLoader\n",
    "from lightning.pytorch.loggers import WandbLogger\n",
    "from TUtils import random_string\n",
    "import lightning.pytorch as pl\n",
    "from lightning import Trainer\n",
    "import torch\n",
    "from TranscriptionDataset import TranscriptionDataset\n",
    "from TModel.Retnet.TranscriptionModel import TranscriptionRetnetModel\n",
    "torch.set_float32_matmul_precision('medium')\n",
    "import importlib\n",
    "if importlib.util.find_spec('deepspeed'):\n",
    "    from lightning.pytorch.strategies import DeepSpeedStrategy\n",
    "    import deepspeed\n",
    "    from deepspeed.ops.adam import DeepSpeedCPUAdam, FusedAdam"
   ]
  },
  {
   "cell_type": "code",
   "execution_count": 2,
   "id": "98c0109df4c3bf46",
   "metadata": {
    "ExecuteTime": {
     "end_time": "2023-09-29T05:31:38.151446300Z",
     "start_time": "2023-09-29T05:31:38.151446300Z"
    },
    "collapsed": false,
    "jupyter": {
     "outputs_hidden": false
    },
    "tags": []
   },
   "outputs": [],
   "source": [
    "datasetLocation = \"Trainsets/S_Tier_1695619803_mTokens400_mNoS5.hdf5\"\n",
    "wandbProject = \"TranscriptionModel_Test\"\n",
    "batchSize = 4\n",
    "num_workers = 2"
   ]
  },
  {
   "cell_type": "code",
   "execution_count": 3,
   "id": "af2fe4b8411116a7",
   "metadata": {
    "ExecuteTime": {
     "end_time": "2023-09-29T05:31:38.927935200Z",
     "start_time": "2023-09-29T05:31:38.151446300Z"
    },
    "collapsed": false,
    "jupyter": {
     "outputs_hidden": false
    },
    "tags": []
   },
   "outputs": [
    {
     "name": "stderr",
     "output_type": "stream",
     "text": [
      "/home/draguve/miniconda3/envs/pytorch/lib/python3.10/site-packages/torch/utils/data/datapipes/utils/common.py:137: UserWarning: Local function is not supported by pickle, please use regular python function or functools.partial instead.\n",
      "  warnings.warn(\n"
     ]
    }
   ],
   "source": [
    "dataset,pipe = TranscriptionDataset.getDataPipe(\n",
    "    datasetLocation,\n",
    "    batchSize,\n",
    "    batchFirst=True\n",
    ")\n",
    "train_pipe,test_pipe = pipe.random_split({\"train\":0.8,\"test\":0.2},42,total_length=len(dataset))\n",
    "\n",
    "train_dl = DataLoader(dataset=train_pipe,batch_size=None,num_workers=num_workers)\n",
    "test_dl = DataLoader(dataset=test_pipe, batch_size=batchSize,num_workers=num_workers)"
   ]
  },
  {
   "cell_type": "code",
   "execution_count": 4,
   "id": "2cbcd4ed084603e0",
   "metadata": {
    "ExecuteTime": {
     "end_time": "2023-09-28T23:16:17.509925700Z",
     "start_time": "2023-09-28T23:16:17.130710900Z"
    },
    "collapsed": false,
    "jupyter": {
     "outputs_hidden": false
    },
    "tags": []
   },
   "outputs": [],
   "source": [
    "model = TranscriptionRetnetModel(\n",
    "    dataset.getVocabSize(),\n",
    "    d_model=512,\n",
    "    d_ff=2048,\n",
    "    lr_init=1e-6\n",
    "    # embeddingCheckpoint=\"Models/GuitarToken/Max2Length.ckpt\"\n",
    ")\n",
    "try:\n",
    "    torch.compile(model)\n",
    "except Error:\n",
    "    print(\"Could not compile model with jit\")"
   ]
  },
  {
   "cell_type": "code",
   "execution_count": 5,
   "id": "83581c2e78cdfba0",
   "metadata": {
    "ExecuteTime": {
     "end_time": "2023-09-28T23:16:46.480736700Z",
     "start_time": "2023-09-28T23:16:17.509925700Z"
    },
    "collapsed": false,
    "jupyter": {
     "outputs_hidden": false
    },
    "tags": []
   },
   "outputs": [
    {
     "name": "stderr",
     "output_type": "stream",
     "text": [
      "Failed to detect the name of this notebook, you can set it manually with the WANDB_NOTEBOOK_NAME environment variable to enable code saving.\n",
      "\u001b[34m\u001b[1mwandb\u001b[0m: Currently logged in as: \u001b[33mdraguve\u001b[0m. Use \u001b[1m`wandb login --relogin`\u001b[0m to force relogin\n"
     ]
    },
    {
     "data": {
      "text/html": [
       "Tracking run with wandb version 0.15.11"
      ],
      "text/plain": [
       "<IPython.core.display.HTML object>"
      ]
     },
     "metadata": {},
     "output_type": "display_data"
    },
    {
     "data": {
      "text/html": [
       "Run data is saved locally in <code>./wandb/run-20230929_150604-kbnjbtq8</code>"
      ],
      "text/plain": [
       "<IPython.core.display.HTML object>"
      ]
     },
     "metadata": {},
     "output_type": "display_data"
    },
    {
     "data": {
      "text/html": [
       "Syncing run <strong><a href='https://wandb.ai/draguve/TranscriptionModel_Test/runs/kbnjbtq8' target=\"_blank\">sage-galaxy-47</a></strong> to <a href='https://wandb.ai/draguve/TranscriptionModel_Test' target=\"_blank\">Weights & Biases</a> (<a href='https://wandb.me/run' target=\"_blank\">docs</a>)<br/>"
      ],
      "text/plain": [
       "<IPython.core.display.HTML object>"
      ]
     },
     "metadata": {},
     "output_type": "display_data"
    },
    {
     "data": {
      "text/html": [
       " View project at <a href='https://wandb.ai/draguve/TranscriptionModel_Test' target=\"_blank\">https://wandb.ai/draguve/TranscriptionModel_Test</a>"
      ],
      "text/plain": [
       "<IPython.core.display.HTML object>"
      ]
     },
     "metadata": {},
     "output_type": "display_data"
    },
    {
     "data": {
      "text/html": [
       " View run at <a href='https://wandb.ai/draguve/TranscriptionModel_Test/runs/kbnjbtq8' target=\"_blank\">https://wandb.ai/draguve/TranscriptionModel_Test/runs/kbnjbtq8</a>"
      ],
      "text/plain": [
       "<IPython.core.display.HTML object>"
      ]
     },
     "metadata": {},
     "output_type": "display_data"
    },
    {
     "name": "stderr",
     "output_type": "stream",
     "text": [
      "Using bfloat16 Automatic Mixed Precision (AMP)\n",
      "GPU available: True (cuda), used: True\n",
      "TPU available: False, using: 0 TPU cores\n",
      "IPU available: False, using: 0 IPUs\n",
      "HPU available: False, using: 0 HPUs\n"
     ]
    }
   ],
   "source": [
    "wandb_logger = WandbLogger(project=wandbProject)\n",
    "wandb_logger.experiment.config.update(dataset.meta_data)\n",
    "wandb_logger.experiment.config[\"batchSize\"] = batchSize\n",
    "\n",
    "checkpoint_callback = ModelCheckpoint(\n",
    "    monitor='train_loss',\n",
    "    dirpath=f'Models/GuitarTranscription/{random_string(10)}/',\n",
    "    filename='GuitarTranscriptionModel-{epoch:02d}-{train_loss:.2f}',\n",
    "    every_n_train_steps=1000,\n",
    "    save_top_k=3,\n",
    "    mode='min',\n",
    ")\n",
    "\n",
    "# strategy=DeepSpeedStrategy(offload_optimizer=True, allgather_bucket_size=5e8, reduce_bucket_size=5e8)\n",
    "\n",
    "trainer = Trainer(\n",
    "    default_root_dir='Models/',\n",
    "    max_epochs=10,\n",
    "    # profiler=\"simple\",\n",
    "    # strategy=strategy,\n",
    "    # profiler=\"pytorch\",\n",
    "    logger=wandb_logger,\n",
    "    callbacks=[checkpoint_callback],\n",
    "    # max_time=\"00:00:05:00\",\n",
    "    precision=\"bf16-mixed\",\n",
    ")"
   ]
  },
  {
   "cell_type": "code",
   "execution_count": 6,
   "id": "f1bee6ff0571423b",
   "metadata": {
    "ExecuteTime": {
     "end_time": "2023-09-28T23:18:18.001631200Z",
     "start_time": "2023-09-28T23:16:55.464356400Z"
    },
    "collapsed": false,
    "jupyter": {
     "outputs_hidden": false
    },
    "tags": []
   },
   "outputs": [
    {
     "name": "stderr",
     "output_type": "stream",
     "text": [
      "LOCAL_RANK: 0 - CUDA_VISIBLE_DEVICES: [0]\n",
      "Using /home/draguve/.cache/torch_extensions/py310_cu117 as PyTorch extensions root...\n",
      "Detected CUDA files, patching ldflags\n",
      "Emitting ninja build file /home/draguve/.cache/torch_extensions/py310_cu117/fused_adam/build.ninja...\n",
      "Building extension module fused_adam...\n",
      "Allowing ninja to set a default number of workers... (overridable by setting the environment variable MAX_JOBS=N)\n",
      "Loading extension module fused_adam...\n",
      "\n",
      "  | Name          | Type                | Params\n",
      "------------------------------------------------------\n",
      "0 | encoder       | RetnetEncoderLayers | 20.5 M\n",
      "1 | decoder       | RetnetDecoderLayers | 28.4 M\n",
      "2 | tgt_embedding | Embedding           | 3.1 M \n",
      "3 | outputLinear  | Linear              | 3.1 M \n",
      "4 | loss          | CrossEntropyLoss    | 0     \n",
      "------------------------------------------------------\n",
      "55.1 M    Trainable params\n",
      "144       Non-trainable params\n",
      "55.1 M    Total params\n",
      "220.496   Total estimated model params size (MB)\n",
      "/home/draguve/miniconda3/envs/pytorch/lib/python3.10/site-packages/lightning/pytorch/trainer/connectors/data_connector.py:442: PossibleUserWarning: The dataloader, train_dataloader, does not have many workers which may be a bottleneck. Consider increasing the value of the `num_workers` argument` (try 16 which is the number of cpus on this machine) in the `DataLoader` init to improve performance.\n",
      "  rank_zero_warn(\n"
     ]
    },
    {
     "name": "stdout",
     "output_type": "stream",
     "text": [
      "ninja: no work to do.\n",
      "Time to load fused_adam op: 0.06789088249206543 seconds\n",
      "Epoch 9: : 9272it [22:17,  6.93it/s, v_num=btq8, train_loss=0.644]   "
     ]
    },
    {
     "name": "stderr",
     "output_type": "stream",
     "text": [
      "`Trainer.fit` stopped: `max_epochs=10` reached.\n"
     ]
    },
    {
     "name": "stdout",
     "output_type": "stream",
     "text": [
      "Epoch 9: : 9272it [22:17,  6.93it/s, v_num=btq8, train_loss=0.644]\n"
     ]
    }
   ],
   "source": [
    "trainer.fit(model=model, train_dataloaders=train_dl)"
   ]
  },
  {
   "cell_type": "code",
   "execution_count": null,
   "id": "34b16e41-4f3a-4ed1-a2e8-4ec9230ca7f4",
   "metadata": {},
   "outputs": [],
   "source": [
    "trainer.save_checkpoint(\"Models/GuitarTranscription/5s400Tokens_1e-5/smallDataset4epochRetnetJamie.ckpt\")"
   ]
  },
  {
   "cell_type": "code",
   "execution_count": null,
   "id": "9ab6b77b042d2c9",
   "metadata": {
    "collapsed": false,
    "jupyter": {
     "outputs_hidden": false
    }
   },
   "outputs": [],
   "source": [
    "for i in tqdm(): "
   ]
  }
 ],
 "metadata": {
  "kernelspec": {
   "display_name": "Python 3 (ipykernel)",
   "language": "python",
   "name": "python3"
  },
  "language_info": {
   "codemirror_mode": {
    "name": "ipython",
    "version": 3
   },
   "file_extension": ".py",
   "mimetype": "text/x-python",
   "name": "python",
   "nbconvert_exporter": "python",
   "pygments_lexer": "ipython3",
   "version": "3.10.12"
  }
 },
 "nbformat": 4,
 "nbformat_minor": 5
}
