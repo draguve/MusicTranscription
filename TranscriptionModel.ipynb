{
 "cells": [
  {
   "cell_type": "code",
   "execution_count": null,
   "id": "initial_id",
   "metadata": {
    "collapsed": true
   },
   "outputs": [],
   "source": [
    "from TModel.TransformerModel import TranscriptionTransformerModel\n",
    "%matplotlib inline\n",
    "%config InlineBackend.figure_format = 'retina'\n",
    "import matplotlib.pyplot as plt\n",
    "from sklearn.manifold import TSNE\n",
    "from Tokenizer.loaderH5 import H5GuitarTokenizer\n",
    "from lightning.pytorch.callbacks import ModelCheckpoint\n",
    "from torch.utils.data import DataLoader\n",
    "from lightning.pytorch.loggers import WandbLogger\n",
    "from TUtils import random_string\n",
    "from lightning import Trainer\n",
    "import torch\n",
    "# from TranscriptionDataset.TranscriptionDataset import TranscriptionDataset\n",
    "from TranscriptionDataset import TranscriptionDataset\n",
    "# torch.set_float32_matmul_precision('medium')"
   ]
  },
  {
   "cell_type": "code",
   "execution_count": 1,
   "outputs": [],
   "source": [
    "datasetLocation = \"Trainsets/S_Tier_1695428558_mTokens1000_mNoS60.hdf5\"\n",
    "wandbProject = \"TranscriptionModel\"\n",
    "batchSize = 10\n",
    "num_workers = 4"
   ],
   "metadata": {
    "collapsed": false,
    "ExecuteTime": {
     "end_time": "2023-09-24T05:52:36.828339300Z",
     "start_time": "2023-09-24T05:52:36.816776800Z"
    }
   },
   "id": "98c0109df4c3bf46"
  },
  {
   "cell_type": "code",
   "execution_count": null,
   "outputs": [],
   "source": [
    "dataset,pipe = TranscriptionDataset.getDataPipe(datasetLocation,batchSize)\n",
    "train_pipe,test_pipe = pipe.random_split({\"train\":0.8,\"test\":0.2},42)\n",
    "\n",
    "train_dl = DataLoader(dataset=train_pipe, batch_size=batchSize,num_workers=num_workers)\n",
    "test_dl = DataLoader(dataset=test_pipe, batch_size=batchSize,num_workers=num_workers)\n"
   ],
   "metadata": {
    "collapsed": false
   },
   "id": "af2fe4b8411116a7"
  },
  {
   "cell_type": "code",
   "execution_count": null,
   "outputs": [],
   "source": [
    "model = TranscriptionTransformerModel(dataset.getVocabSize(),d_ff=2048)\n",
    "\n",
    "# wandb_logger = WandbLogger(project=wandbProject)\n",
    "# wandb_logger.experiment.config.update(dataset.meta_data)\n",
    "# wandb_logger.experiment.config[\"batchSize\"] = batchSize\n",
    "checkpoint_callback = ModelCheckpoint(\n",
    "    monitor='train_loss',\n",
    "    dirpath=f'Models/GuitarTranscription/{random_string(10)}/',\n",
    "    filename='GuitarTranscriptionModel-{epoch:02d}-{train_loss:.2f}',\n",
    "    every_n_train_steps=1000,\n",
    "    save_top_k=3,\n",
    "    mode='min',\n",
    ")\n",
    "trainer = Trainer(\n",
    "    default_root_dir='Models/',\n",
    "    max_epochs=5,\n",
    "    # profiler=\"simple\",\n",
    "    # logger=wandb_logger,\n",
    "    callbacks=[checkpoint_callback],\n",
    "    # max_time=\"00:00:05:00\"\n",
    ")\n",
    "\n",
    "trainer.fit(model=model, train_dataloaders=train_dl)"
   ],
   "metadata": {
    "collapsed": false
   },
   "id": "2cbcd4ed084603e0"
  }
 ],
 "metadata": {
  "kernelspec": {
   "display_name": "Python 3",
   "language": "python",
   "name": "python3"
  },
  "language_info": {
   "codemirror_mode": {
    "name": "ipython",
    "version": 2
   },
   "file_extension": ".py",
   "mimetype": "text/x-python",
   "name": "python",
   "nbconvert_exporter": "python",
   "pygments_lexer": "ipython2",
   "version": "2.7.6"
  }
 },
 "nbformat": 4,
 "nbformat_minor": 5
}
