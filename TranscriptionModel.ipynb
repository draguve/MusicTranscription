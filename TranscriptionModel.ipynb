{
 "cells": [
  {
   "cell_type": "code",
   "execution_count": 1,
   "id": "initial_id",
   "metadata": {
    "tags": [],
    "ExecuteTime": {
     "end_time": "2023-10-02T08:46:40.941003100Z",
     "start_time": "2023-10-02T08:46:29.638623700Z"
    }
   },
   "outputs": [],
   "source": [
    "%matplotlib inline\n",
    "%config InlineBackend.figure_format = 'retina'\n",
    "from TModel.TransformerModel import TranscriptionTransformerModel\n",
    "from Tokenizer.loaderH5 import H5GuitarTokenizer\n",
    "from lightning.pytorch.callbacks import ModelCheckpoint\n",
    "from torch.utils.data import DataLoader\n",
    "from lightning.pytorch.loggers import WandbLogger\n",
    "from TUtils import random_string\n",
    "import lightning.pytorch as pl\n",
    "from lightning import Trainer\n",
    "import torch\n",
    "from TranscriptionDataset import TranscriptionDataset\n",
    "from TModel.Retnet.TranscriptionModel import TranscriptionRetnetModel\n",
    "torch.set_float32_matmul_precision('medium')\n",
    "import importlib\n",
    "if importlib.util.find_spec('deepspeed'):\n",
    "    from lightning.pytorch.strategies import DeepSpeedStrategy\n",
    "    import deepspeed\n",
    "    from deepspeed.ops.adam import DeepSpeedCPUAdam, FusedAdam"
   ]
  },
  {
   "cell_type": "code",
   "execution_count": 2,
   "id": "98c0109df4c3bf46",
   "metadata": {
    "collapsed": false,
    "tags": [],
    "ExecuteTime": {
     "end_time": "2023-10-02T08:46:40.947283Z",
     "start_time": "2023-10-02T08:46:40.944752500Z"
    }
   },
   "outputs": [],
   "source": [
    "datasetLocation = \"Trainsets/S_Tier_1696235954_mTokens400_mNoS5.hdf5\"\n",
    "wandbProject = \"TranscriptionModel_Test\"\n",
    "batchSize = 4\n",
    "num_workers = 2"
   ]
  },
  {
   "cell_type": "code",
   "execution_count": 8,
   "id": "af2fe4b8411116a7",
   "metadata": {
    "collapsed": false,
    "tags": [],
    "ExecuteTime": {
     "end_time": "2023-10-02T08:47:41.938778900Z",
     "start_time": "2023-10-02T08:47:41.838899600Z"
    }
   },
   "outputs": [],
   "source": [
    "dataset,pipe = TranscriptionDataset.getDataPipe(\n",
    "    datasetLocation,\n",
    "    batchSize,\n",
    "    batchFirst=True\n",
    ")\n",
    "tokenizer = H5GuitarTokenizer(datasetLocation)\n",
    "train_pipe,test_pipe = pipe.random_split({\"train\":0.8,\"test\":0.2},42,total_length=len(dataset))\n",
    "\n",
    "train_dl = DataLoader(dataset=train_pipe,batch_size=None,num_workers=num_workers)\n",
    "test_dl = DataLoader(dataset=test_pipe, batch_size=None,num_workers=num_workers)"
   ]
  },
  {
   "cell_type": "code",
   "execution_count": 4,
   "id": "2cbcd4ed084603e0",
   "metadata": {
    "collapsed": false,
    "tags": [],
    "ExecuteTime": {
     "end_time": "2023-10-02T08:46:41.760653800Z",
     "start_time": "2023-10-02T08:46:41.327524500Z"
    }
   },
   "outputs": [
    {
     "name": "stdout",
     "output_type": "stream",
     "text": [
      "Could not compile model with jit\n"
     ]
    }
   ],
   "source": [
    "model = TranscriptionRetnetModel(\n",
    "    dataset.getVocabSize(),\n",
    "    tokenizer,\n",
    "    d_model=512,\n",
    "    d_ff=2048,\n",
    "    lr_init=1e-6,\n",
    "    # embeddingCheckpoint=\"Models/GuitarToken/Max2Length.ckpt\"\n",
    ")\n",
    "try:\n",
    "    torch.compile(model)\n",
    "except Exception:\n",
    "    print(\"Could not compile model with jit\")"
   ]
  },
  {
   "cell_type": "code",
   "execution_count": 5,
   "id": "83581c2e78cdfba0",
   "metadata": {
    "collapsed": false,
    "tags": [],
    "ExecuteTime": {
     "end_time": "2023-10-02T08:46:48.587246800Z",
     "start_time": "2023-10-02T08:46:46.858765200Z"
    }
   },
   "outputs": [
    {
     "name": "stderr",
     "output_type": "stream",
     "text": [
      "Using bfloat16 Automatic Mixed Precision (AMP)\n",
      "GPU available: True (cuda), used: True\n",
      "TPU available: False, using: 0 TPU cores\n",
      "IPU available: False, using: 0 IPUs\n",
      "HPU available: False, using: 0 HPUs\n"
     ]
    }
   ],
   "source": [
    "# wandb_logger = WandbLogger(project=wandbProject)\n",
    "# wandb_logger.experiment.config.update(dataset.meta_data)\n",
    "# wandb_logger.experiment.config[\"batchSize\"] = batchSize\n",
    "\n",
    "checkpoint_callback = ModelCheckpoint(\n",
    "    monitor='train_loss',\n",
    "    dirpath=f'Models/GuitarTranscription/{random_string(10)}/',\n",
    "    filename='GuitarTranscriptionModel-{epoch:02d}-{train_loss:.2f}',\n",
    "    every_n_train_steps=1000,\n",
    "    save_top_k=3,\n",
    "    mode='min',\n",
    ")\n",
    "\n",
    "# strategy=DeepSpeedStrategy(offload_optimizer=True, allgather_bucket_size=5e8, reduce_bucket_size=5e8)\n",
    "\n",
    "trainer = Trainer(\n",
    "    default_root_dir='Models/',\n",
    "    max_epochs=10,\n",
    "    # profiler=\"simple\",\n",
    "    # strategy=strategy,\n",
    "    # profiler=\"pytorch\",\n",
    "    # logger=wandb_logger,\n",
    "    callbacks=[checkpoint_callback],\n",
    "    # max_time=\"00:00:05:00\",\n",
    "    precision=\"bf16-mixed\",\n",
    ")"
   ]
  },
  {
   "cell_type": "code",
   "execution_count": 6,
   "id": "f1bee6ff0571423b",
   "metadata": {
    "collapsed": false,
    "tags": [],
    "ExecuteTime": {
     "end_time": "2023-10-02T08:30:48.338721300Z",
     "start_time": "2023-10-02T07:41:25.464961Z"
    }
   },
   "outputs": [
    {
     "name": "stderr",
     "output_type": "stream",
     "text": [
      "LOCAL_RANK: 0 - CUDA_VISIBLE_DEVICES: [0]\n",
      "\n",
      "  | Name          | Type                | Params\n",
      "------------------------------------------------------\n",
      "0 | encoder       | RetnetEncoderLayers | 20.5 M\n",
      "1 | decoder       | RetnetDecoderLayers | 28.4 M\n",
      "2 | tgt_embedding | Embedding           | 3.1 M \n",
      "3 | outputLinear  | Linear              | 3.1 M \n",
      "4 | loss          | CrossEntropyLoss    | 0     \n",
      "------------------------------------------------------\n",
      "55.1 M    Trainable params\n",
      "144       Non-trainable params\n",
      "55.1 M    Total params\n",
      "220.496   Total estimated model params size (MB)\n",
      "C:\\Users\\ritwi\\anaconda3\\envs\\pytorch\\Lib\\site-packages\\lightning\\pytorch\\trainer\\connectors\\data_connector.py:442: PossibleUserWarning: The dataloader, train_dataloader, does not have many workers which may be a bottleneck. Consider increasing the value of the `num_workers` argument` (try 16 which is the number of cpus on this machine) in the `DataLoader` init to improve performance.\n",
      "  rank_zero_warn(\n"
     ]
    },
    {
     "data": {
      "text/plain": "Training: 0it [00:00, ?it/s]",
      "application/vnd.jupyter.widget-view+json": {
       "version_major": 2,
       "version_minor": 0,
       "model_id": "8f025ae262284697a2be586a194d2f65"
      }
     },
     "metadata": {},
     "output_type": "display_data"
    },
    {
     "name": "stderr",
     "output_type": "stream",
     "text": [
      "C:\\Users\\ritwi\\Github\\MusicTranscription\\Tokenizer\\Onsets.py:54: UserWarning: Implicit dimension choice for softmax has been deprecated. Change the call to include dim=X as an argument.\n",
      "  tokens = torch.argmax(torch.nn.functional.softmax(logits), dim=-1).numpy()\n",
      "C:\\Users\\ritwi\\anaconda3\\envs\\pytorch\\Lib\\site-packages\\mir_eval\\onset.py:51: UserWarning: Estimated onsets are empty.\n",
      "  warnings.warn(\"Estimated onsets are empty.\")\n",
      "C:\\Users\\ritwi\\anaconda3\\envs\\pytorch\\Lib\\site-packages\\mir_eval\\onset.py:49: UserWarning: Reference onsets are empty.\n",
      "  warnings.warn(\"Reference onsets are empty.\")\n",
      "C:\\Users\\ritwi\\anaconda3\\envs\\pytorch\\Lib\\site-packages\\lightning\\pytorch\\trainer\\call.py:53: UserWarning: Detected KeyboardInterrupt, attempting graceful shutdown...\n",
      "  rank_zero_warn(\"Detected KeyboardInterrupt, attempting graceful shutdown...\")\n"
     ]
    }
   ],
   "source": [
    "trainer.fit(model=model, train_dataloaders=train_dl)"
   ]
  },
  {
   "cell_type": "code",
   "execution_count": 9,
   "outputs": [
    {
     "name": "stderr",
     "output_type": "stream",
     "text": [
      "LOCAL_RANK: 0 - CUDA_VISIBLE_DEVICES: [0]\n",
      "C:\\Users\\ritwi\\anaconda3\\envs\\pytorch\\Lib\\site-packages\\lightning\\pytorch\\trainer\\connectors\\data_connector.py:442: PossibleUserWarning: The dataloader, test_dataloader, does not have many workers which may be a bottleneck. Consider increasing the value of the `num_workers` argument` (try 16 which is the number of cpus on this machine) in the `DataLoader` init to improve performance.\n",
      "  rank_zero_warn(\n"
     ]
    },
    {
     "data": {
      "text/plain": "Testing: 0it [00:00, ?it/s]",
      "application/vnd.jupyter.widget-view+json": {
       "version_major": 2,
       "version_minor": 0,
       "model_id": "c398fd0fea144e4d82a4e0367c753b3c"
      }
     },
     "metadata": {},
     "output_type": "display_data"
    },
    {
     "name": "stderr",
     "output_type": "stream",
     "text": [
      "C:\\Users\\ritwi\\Github\\MusicTranscription\\Tokenizer\\Onsets.py:54: UserWarning: Implicit dimension choice for softmax has been deprecated. Change the call to include dim=X as an argument.\n",
      "  tokens = torch.argmax(torch.nn.functional.softmax(logits), dim=-1).numpy()\n",
      "C:\\Users\\ritwi\\anaconda3\\envs\\pytorch\\Lib\\site-packages\\mir_eval\\onset.py:51: UserWarning: Estimated onsets are empty.\n",
      "  warnings.warn(\"Estimated onsets are empty.\")\n",
      "C:\\Users\\ritwi\\anaconda3\\envs\\pytorch\\Lib\\site-packages\\mir_eval\\onset.py:49: UserWarning: Reference onsets are empty.\n",
      "  warnings.warn(\"Reference onsets are empty.\")\n",
      "C:\\Users\\ritwi\\anaconda3\\envs\\pytorch\\Lib\\site-packages\\lightning\\pytorch\\trainer\\call.py:53: UserWarning: Detected KeyboardInterrupt, attempting graceful shutdown...\n",
      "  rank_zero_warn(\"Detected KeyboardInterrupt, attempting graceful shutdown...\")\n"
     ]
    }
   ],
   "source": [
    "trainer.test(model,dataloaders=test_dl)"
   ],
   "metadata": {
    "collapsed": false,
    "ExecuteTime": {
     "end_time": "2023-10-02T08:49:24.650012400Z",
     "start_time": "2023-10-02T08:47:46.484437Z"
    }
   },
   "id": "ef43d42a45c6bcae"
  },
  {
   "cell_type": "code",
   "execution_count": null,
   "id": "34b16e41-4f3a-4ed1-a2e8-4ec9230ca7f4",
   "metadata": {},
   "outputs": [],
   "source": [
    "trainer.save_checkpoint(\"Models/GuitarTranscription/5s400Tokens_1e-5/smallDataset4epochRetnetJamie.ckpt\")"
   ]
  }
 ],
 "metadata": {
  "kernelspec": {
   "display_name": "Python 3 (ipykernel)",
   "language": "python",
   "name": "python3"
  },
  "language_info": {
   "codemirror_mode": {
    "name": "ipython",
    "version": 3
   },
   "file_extension": ".py",
   "mimetype": "text/x-python",
   "name": "python",
   "nbconvert_exporter": "python",
   "pygments_lexer": "ipython3",
   "version": "3.10.12"
  }
 },
 "nbformat": 4,
 "nbformat_minor": 5
}
